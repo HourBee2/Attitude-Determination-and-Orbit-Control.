{
 "cells": [
  {
   "cell_type": "code",
   "execution_count": 15,
   "metadata": {},
   "outputs": [],
   "source": [
    "# A program to Show that the cross vector product can be written as follows: np.cross(a,b) = skew(a)*b, \n",
    "# and other proofs\n",
    "\n",
    "from sympy import *\n",
    "init_printing(use_latex='mathjax')\n",
    "from sympy.physics.mechanics import ReferenceFrame, dot, cross\n",
    "import numpy as np\n",
    "\n",
    "import sys\n",
    "sys.path.append(\n",
    "   \"c:\\\\Users\\\\diego\\\\Dropbox\\\\Academic\\\\MEng Space Systems\\\\3. DOCA\\\\ADCS functions\")\n",
    "import ADCS_Functions as adcs\n",
    "from ADCS_Functions_sym import *"
   ]
  },
  {
   "cell_type": "markdown",
   "metadata": {},
   "source": [
    "## Functions"
   ]
  },
  {
   "cell_type": "markdown",
   "metadata": {},
   "source": [
    "## Proof 1: np.cross(a,b) = skew(a)*b\n",
    "### Show that the cross vector product can be written as follows: np.cross(a,b) = skew(a)*b"
   ]
  },
  {
   "cell_type": "code",
   "execution_count": 16,
   "metadata": {},
   "outputs": [
    {
     "data": {
      "text/latex": [
       "$\\displaystyle \\left( \\left[\\begin{matrix}a_{2} b_{3} - a_{3} b_{2}\\\\- a_{1} b_{3} + a_{3} b_{1}\\\\a_{1} b_{2} - a_{2} b_{1}\\end{matrix}\\right], \\  \\left[\\begin{matrix}a_{2} b_{3} - a_{3} b_{2}\\\\- a_{1} b_{3} + a_{3} b_{1}\\\\a_{1} b_{2} - a_{2} b_{1}\\end{matrix}\\right]\\right)$"
      ],
      "text/plain": [
       "⎛⎡a₂⋅b₃ - a₃⋅b₂ ⎤  ⎡a₂⋅b₃ - a₃⋅b₂ ⎤⎞\n",
       "⎜⎢              ⎥  ⎢              ⎥⎟\n",
       "⎜⎢-a₁⋅b₃ + a₃⋅b₁⎥, ⎢-a₁⋅b₃ + a₃⋅b₁⎥⎟\n",
       "⎜⎢              ⎥  ⎢              ⎥⎟\n",
       "⎝⎣a₁⋅b₂ - a₂⋅b₁ ⎦  ⎣a₁⋅b₂ - a₂⋅b₁ ⎦⎠"
      ]
     },
     "execution_count": 16,
     "metadata": {},
     "output_type": "execute_result"
    }
   ],
   "source": [
    "b1, b2, b3 = symbols('b1 b2 b3')\n",
    "a, b = vector_sym(), vector_sym(b1, b2, b3)\n",
    "#a, b, type(a), type(b)#, cross(a,b)\n",
    "crossProduct(a, b), skew_sym() * b,\n",
    "#cross(a,b), dot(skew_sym(), b)\n"
   ]
  },
  {
   "cell_type": "code",
   "execution_count": 19,
   "metadata": {},
   "outputs": [
    {
     "data": {
      "text/plain": [
       "True"
      ]
     },
     "execution_count": 19,
     "metadata": {},
     "output_type": "execute_result"
    }
   ],
   "source": [
    "crossProduct(a, b) == skew_sym() * b"
   ]
  },
  {
   "cell_type": "markdown",
   "metadata": {},
   "source": [
    "## Proof 2: skew(a)*b = -skew(b)*a"
   ]
  },
  {
   "cell_type": "code",
   "execution_count": 17,
   "metadata": {},
   "outputs": [
    {
     "data": {
      "text/latex": [
       "$\\displaystyle \\left( \\left[\\begin{matrix}a_{2} b_{3} - a_{3} b_{2}\\\\- a_{1} b_{3} + a_{3} b_{1}\\\\a_{1} b_{2} - a_{2} b_{1}\\end{matrix}\\right], \\  \\left[\\begin{matrix}a_{2} b_{3} - a_{3} b_{2}\\\\- a_{1} b_{3} + a_{3} b_{1}\\\\a_{1} b_{2} - a_{2} b_{1}\\end{matrix}\\right]\\right)$"
      ],
      "text/plain": [
       "⎛⎡a₂⋅b₃ - a₃⋅b₂ ⎤  ⎡a₂⋅b₃ - a₃⋅b₂ ⎤⎞\n",
       "⎜⎢              ⎥  ⎢              ⎥⎟\n",
       "⎜⎢-a₁⋅b₃ + a₃⋅b₁⎥, ⎢-a₁⋅b₃ + a₃⋅b₁⎥⎟\n",
       "⎜⎢              ⎥  ⎢              ⎥⎟\n",
       "⎝⎣a₁⋅b₂ - a₂⋅b₁ ⎦  ⎣a₁⋅b₂ - a₂⋅b₁ ⎦⎠"
      ]
     },
     "execution_count": 17,
     "metadata": {},
     "output_type": "execute_result"
    }
   ],
   "source": [
    "skew_sym() * b, -skew_sym(b1, b2, b3) * a,"
   ]
  },
  {
   "cell_type": "code",
   "execution_count": 21,
   "metadata": {},
   "outputs": [
    {
     "data": {
      "text/plain": [
       "True"
      ]
     },
     "execution_count": 21,
     "metadata": {},
     "output_type": "execute_result"
    }
   ],
   "source": [
    "skew_sym() * b == -skew_sym(b1, b2, b3) * a"
   ]
  },
  {
   "cell_type": "markdown",
   "metadata": {},
   "source": [
    "## Proof 3: skew(a)*a = 0"
   ]
  },
  {
   "cell_type": "code",
   "execution_count": 18,
   "metadata": {},
   "outputs": [
    {
     "data": {
      "text/latex": [
       "$\\displaystyle \\left[\\begin{matrix}0\\\\0\\\\0\\end{matrix}\\right]$"
      ],
      "text/plain": [
       "⎡0⎤\n",
       "⎢ ⎥\n",
       "⎢0⎥\n",
       "⎢ ⎥\n",
       "⎣0⎦"
      ]
     },
     "execution_count": 18,
     "metadata": {},
     "output_type": "execute_result"
    }
   ],
   "source": [
    "skew_sym() * a\n"
   ]
  }
 ],
 "metadata": {
  "interpreter": {
   "hash": "7bdadbcc745afc9ac1e1714124e1bb5770ee7d86d26de672bb194e9104174d2a"
  },
  "kernelspec": {
   "display_name": "Python 3.8.3 64-bit ('base': conda)",
   "name": "python3"
  },
  "language_info": {
   "codemirror_mode": {
    "name": "ipython",
    "version": 3
   },
   "file_extension": ".py",
   "mimetype": "text/x-python",
   "name": "python",
   "nbconvert_exporter": "python",
   "pygments_lexer": "ipython3",
   "version": "3.8.3"
  },
  "orig_nbformat": 4
 },
 "nbformat": 4,
 "nbformat_minor": 2
}
