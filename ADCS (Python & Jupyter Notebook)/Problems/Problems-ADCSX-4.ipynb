{
 "cells": [
  {
   "cell_type": "code",
   "execution_count": 3,
   "metadata": {},
   "outputs": [],
   "source": [
    "#%% Import libraries\n",
    "from sys import path\n",
    "import numpy as np\n",
    "from sympy import *\n",
    "from sympy.physics.vector import dynamicsymbols, init_vprinting\n",
    "import control as ctl\n",
    "import matplotlib.pyplot as plt\n",
    "# from sympy.physics.mechanics import ReferenceFrame\n",
    "from IPython.display import display, Latex, Math\n",
    "init_vprinting(use_latex='mathjax')\n",
    "\n",
    "path.append(\n",
    "    \"c:\\\\Users\\\\diego\\\\Dropbox\\\\Academic\\\\MEng Space Systems\\\\3. DOCA\\\\ADCS functions\")\n",
    "import ADCS_Functions_sym as adcs_sym\n",
    "import ADCS_Functions as adcs"
   ]
  },
  {
   "cell_type": "markdown",
   "metadata": {},
   "source": [
    "$I_{x} \\dot{\\omega}_{x}+\\left(I_{z}-I_{y}\\right) \\omega_{y} \\omega_{z}=T_{x c}+T_{x d}$\n",
    "\n",
    "$I_{y} \\dot{\\omega}_{y}+\\left(I_{x}-I_{z}\\right) \\omega_{x} \\omega_{z}=T_{y c}+T_{y d}$\n",
    "\n",
    "$I_{z} \\dot{\\omega}_{z}+\\left(I_{y}-I_{x}\\right) \\omega_{x} \\omega_{y}=T_{z c}+T_{z d}$"
   ]
  },
  {
   "cell_type": "markdown",
   "metadata": {},
   "source": [
    "$Y(s)=G_{p}(s)\\left[U(s)+\\hat{T}_{d z}(s)\\right]$"
   ]
  },
  {
   "cell_type": "code",
   "execution_count": 7,
   "metadata": {},
   "outputs": [
    {
     "data": {
      "text/latex": [
       "$\\displaystyle x \\left(2.5 x^{2} - 1.5\\right)$"
      ],
      "text/plain": [
       "  ⎛     2      ⎞\n",
       "x⋅⎝2.5⋅x  - 1.5⎠"
      ]
     },
     "execution_count": 7,
     "metadata": {},
     "output_type": "execute_result"
    }
   ],
   "source": [
    "from sympy.abc import x\n",
    "\n",
    "(1/((-2)**3*np.math.factorial(3))* diff(diff(diff((1-x**2)**3, x), x), x)).simplify()"
   ]
  }
 ],
 "metadata": {
  "interpreter": {
   "hash": "7bdadbcc745afc9ac1e1714124e1bb5770ee7d86d26de672bb194e9104174d2a"
  },
  "kernelspec": {
   "display_name": "Python 3.8.3 64-bit ('base': conda)",
   "language": "python",
   "name": "python3"
  },
  "language_info": {
   "codemirror_mode": {
    "name": "ipython",
    "version": 3
   },
   "file_extension": ".py",
   "mimetype": "text/x-python",
   "name": "python",
   "nbconvert_exporter": "python",
   "pygments_lexer": "ipython3",
   "version": "3.8.3"
  },
  "orig_nbformat": 4
 },
 "nbformat": 4,
 "nbformat_minor": 2
}
