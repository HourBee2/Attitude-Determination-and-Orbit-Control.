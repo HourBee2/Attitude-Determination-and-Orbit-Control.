{
 "cells": [
  {
   "cell_type": "code",
   "execution_count": 9,
   "metadata": {},
   "outputs": [],
   "source": [
    "#%% Import libraries\n",
    "from sys import path\n",
    "import numpy as np\n",
    "from sympy import *\n",
    "from sympy.physics.vector import dynamicsymbols, init_vprinting\n",
    "import control as ctl\n",
    "import matplotlib.pyplot as plt\n",
    "# from sympy.physics.mechanics import ReferenceFrame\n",
    "from IPython.display import display, Latex, Math\n",
    "init_vprinting(use_latex='mathjax')\n",
    "\n",
    "path.append(\n",
    "    \"c:\\\\Users\\\\diego\\\\Dropbox\\\\Academic\\\\MEng Space Systems\\\\3. DOCA\\\\ADCS functions\")\n",
    "import ADCS_Functions_sym as adcs_sym\n",
    "import ADCS_Functions as adcs\n"
   ]
  },
  {
   "cell_type": "markdown",
   "metadata": {},
   "source": [
    "______________________"
   ]
  },
  {
   "cell_type": "markdown",
   "metadata": {},
   "source": [
    "Consider the spacecraft attitude control problem for a single axis. The \n",
    "attitude dynamics are given by:\n",
    "\n",
    "$I\\ddot{\\theta} = u + T_d$,\n",
    "\n",
    "where $u$ is the control torque, $I$ is the related moment of inertia, $\\theta$ is the related attitude angle, and $T_d$ is the disturbance torque.\n",
    "\n",
    "The actuator has dynamics defined by:\n",
    "\n",
    "$\\dot{u} = - \\frac{1}{T_a} (u - u_c)$ \n",
    "\n",
    "where $u$ is the control torque applied by the actuator,  $T_a$ is the actuator time \n",
    "constant, and  $u_c$ is the control torque commanded by the control law.\n"
   ]
  },
  {
   "cell_type": "markdown",
   "metadata": {},
   "source": [
    "a) Find the actuator transfer function.\n",
    "\n",
    "b) The control law is chosen to be a modified proportional-derivative \n",
    "attitude control law:\n",
    "\n",
    "$u_{c}(t)=K_{p} e(t)-K_{d} \\dot{y}(t)$\n",
    "\n",
    "where the plant output is the attitude angle (y(t) = θ(t)), the reference \n",
    "signal is the desired attitude angle (r(t) = θd), and e(t) = r(t) − y(t) is the \n",
    "attitude error. Draw a block diagram representation of the closed-loop \n",
    "system."
   ]
  },
  {
   "cell_type": "markdown",
   "metadata": {},
   "source": [
    "____________________"
   ]
  },
  {
   "cell_type": "code",
   "execution_count": 10,
   "metadata": {},
   "outputs": [],
   "source": [
    "# Initialise symbols\n",
    "u, thteta,e, y, u_c = dynamicsymbols('u theta e y u_c')\n",
    "dotu = diff(u)\n",
    "doty = diff(y)\n",
    "dotthteta = diff(thteta)\n",
    "dotdottheta = diff(dotthteta)\n",
    "T_d, T_a, Kp, Kd, I, theta = symbols('T_d T_a Kp Kd I theta')\n"
   ]
  },
  {
   "cell_type": "code",
   "execution_count": 11,
   "metadata": {},
   "outputs": [
    {
     "data": {
      "text/latex": [
       "$\\displaystyle \\dot{u} = \\frac{- u + u_{c}}{T_{a}}$"
      ],
      "text/plain": [
       "    -u + u_c\n",
       "u̇ = ────────\n",
       "       Tₐ   "
      ]
     },
     "execution_count": 11,
     "metadata": {},
     "output_type": "execute_result"
    }
   ],
   "source": [
    "dotu_eq = Eq(dotu, (-1/ T_a * (u - u_c)).simplify())\n",
    "dotu_eq"
   ]
  },
  {
   "cell_type": "code",
   "execution_count": 12,
   "metadata": {},
   "outputs": [
    {
     "data": {
      "text/latex": [
       "$\\displaystyle \\mathcal{L}_{t}\\left[\\dot{u}\\right]\\left(s\\right) = - \\frac{\\mathcal{L}_{t}\\left[u\\right]\\left(s\\right)}{T_{a}} + \\frac{\\mathcal{L}_{t}\\left[u_{c}\\right]\\left(s\\right)}{T_{a}}$"
      ],
      "text/plain": [
       "                              LaplaceTransform(u, t, s)   LaplaceTransform(u_c\n",
       "LaplaceTransform(u̇, t, s) = - ───────────────────────── + ───────────────────\n",
       "                                          Tₐ                           Tₐ     \n",
       "\n",
       ", t, s)\n",
       "────────\n",
       "       "
      ]
     },
     "execution_count": 12,
     "metadata": {},
     "output_type": "execute_result"
    }
   ],
   "source": [
    "from sympy.abc import t,s \n",
    "\n",
    "Eq(laplace_transform(dotu, t, s, noconds=True), laplace_transform((-1 / T_a * (u - u_c)).simplify(),\n",
    "                  t, s, noconds=True))\n"
   ]
  },
  {
   "cell_type": "code",
   "execution_count": 14,
   "metadata": {},
   "outputs": [
    {
     "data": {
      "text/latex": [
       "$\\displaystyle \\mathcal{L}_{t}\\left[\\dot{u}\\right]\\left(s\\right)$"
      ],
      "text/plain": [
       "LaplaceTransform(u̇, t, s)"
      ]
     },
     "execution_count": 14,
     "metadata": {},
     "output_type": "execute_result"
    }
   ],
   "source": [
    "LaplaceTransform(dotu, t, s).simplify()"
   ]
  }
 ],
 "metadata": {
  "interpreter": {
   "hash": "7bdadbcc745afc9ac1e1714124e1bb5770ee7d86d26de672bb194e9104174d2a"
  },
  "kernelspec": {
   "display_name": "Python 3.8.3 64-bit ('base': conda)",
   "language": "python",
   "name": "python3"
  },
  "language_info": {
   "codemirror_mode": {
    "name": "ipython",
    "version": 3
   },
   "file_extension": ".py",
   "mimetype": "text/x-python",
   "name": "python",
   "nbconvert_exporter": "python",
   "pygments_lexer": "ipython3",
   "version": "3.8.3"
  },
  "orig_nbformat": 4
 },
 "nbformat": 4,
 "nbformat_minor": 2
}
