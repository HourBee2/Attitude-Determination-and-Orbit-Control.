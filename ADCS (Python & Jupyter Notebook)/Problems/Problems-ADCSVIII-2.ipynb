{
 "cells": [
  {
   "cell_type": "code",
   "execution_count": 112,
   "metadata": {},
   "outputs": [],
   "source": [
    "#%% Import libraries\n",
    "import numpy as np\n",
    "from sympy import *\n",
    "# from sympy.physics.mechanics import ReferenceFrame\n",
    "from IPython.display import display, Latex, Math\n",
    "init_printing(use_latex='mathjax')\n",
    "\n",
    "from sys import path\n",
    "path.append(\n",
    "    \"c:\\\\Users\\\\diego\\\\Dropbox\\\\Academic\\\\MEng Space Systems\\\\3. DOCA\\\\ADCS functions\")\n",
    "import ADCS_Functions as adcs"
   ]
  },
  {
   "cell_type": "code",
   "execution_count": 113,
   "metadata": {},
   "outputs": [],
   "source": [
    "#%% Functions\n",
    "\n",
    "def print_matrix(array, decimals=3):\n",
    "    \"\"\"\n",
    "    A function to just print a matrix in Latex form. It just looks nicer.\n",
    "    \"\"\"\n",
    "    matrix = ''\n",
    "    for row in array:\n",
    "        try:\n",
    "            for number in row:\n",
    "                matrix += f'{round(number,decimals)}&'\n",
    "        except TypeError:\n",
    "            matrix += f'{round(row,decimals)}&'\n",
    "        matrix = matrix[:-1] + r'\\\\'\n",
    "    display(Math(r'\\begin{bmatrix}'+matrix+r'\\end{bmatrix}'))\n",
    "\n",
    "\n",
    "def char_poly(J):\n",
    "    \"\"\"\n",
    "    Inputs a matrix in sympy form.\n",
    "    Finds the characteristic polynomial of a matrix in sympy form.\n",
    "    Takes the coefficients of the polynomial as a numpy array and Outputs the roots of the polynomial.\n",
    "    NOTE: TBH I could also just use the find_eigen function or just numpy... But this way I get the characteristic polynomial.\n",
    "    \"\"\"\n",
    "    # J.charpoly() gives the characteristic polynomial of J. Can also write as J.charpoly().as_expr() to just get the poly equation\n",
    "    char_eq = J.charpoly()\n",
    "    coef = np.array(char_eq.all_coeffs())\n",
    "    return J.charpoly().as_expr(), np.roots(coef)\n",
    "\n",
    "\n",
    "def find_eigen(J):\n",
    "    \"\"\"\n",
    "    Input: a matrix in sympy form.\n",
    "    Output: the eigenvalues and eigenvectors of a matrix in sympy form as numpy arrays\n",
    "    \"\"\"\n",
    "    # J.eigenvects() gives the eigenvectors of J. Can also write as J.eigenvects().as_expr() to just get the eigenvectors\n",
    "    Eigen = np.linalg.eigh(np.array(J, dtype='float'))\n",
    "    Eigenvalues = Eigen[0]\n",
    "    Eigenvectors = Eigen[1]\n",
    "    return Eigenvalues, Eigenvectors\n"
   ]
  },
  {
   "cell_type": "markdown",
   "metadata": {},
   "source": [
    "## Assume the rotational kinetic energy has the form: \n",
    "\n",
    "### $2 T_r = 20\\omega_x^2 + 30\\omega_y^2 + 15 \\omega_z^2-20\\omega_x\\omega_y-30\\omega_x\\omega_z$\n"
   ]
  },
  {
   "cell_type": "code",
   "execution_count": 114,
   "metadata": {},
   "outputs": [],
   "source": [
    "## Define symbols\n",
    "T_r2 = Symbol('2T_r')\n",
    "omega_x = Symbol('omega_x')\n",
    "omega_y = Symbol('omega_y')\n",
    "omega_z = Symbol('omega_z')"
   ]
  },
  {
   "cell_type": "code",
   "execution_count": 115,
   "metadata": {},
   "outputs": [
    {
     "data": {
      "text/latex": [
       "$\\displaystyle 20 \\omega_{x}^{2} - 20 \\omega_{x} \\omega_{y} - 30 \\omega_{x} \\omega_{z} + 30 \\omega_{y}^{2} + 15 \\omega_{z}^{2}$"
      ],
      "text/plain": [
       "     2                                 2         2\n",
       "20⋅ωₓ  - 20⋅ωₓ⋅ω_y - 30⋅ωₓ⋅ω_z + 30⋅ω_y  + 15⋅ω_z "
      ]
     },
     "execution_count": 115,
     "metadata": {},
     "output_type": "execute_result"
    }
   ],
   "source": [
    "T_r2 = (20*omega_x**2 + 30*omega_y**2 + 15 *\n",
    "                omega_z**2-20*omega_x*omega_y-30*omega_x*omega_z)\n",
    "T_r2"
   ]
  },
  {
   "cell_type": "markdown",
   "metadata": {},
   "source": [
    "## Please write the rotational kinetic energy in principle axis.\n",
    "\n",
    "### Hint: The above rotational kinetic energy has the form $2 T_r = ω^T Jω$ . Find the appropriate transformation so that the rotational kinetic energy in principle axis has the form $2 T_r = ω^T Iω$ , where I is now a diagonal matrix."
   ]
  },
  {
   "cell_type": "markdown",
   "metadata": {},
   "source": [
    "The rotational kinetic energy in the form: $2 T_r = 20\\omega_x^2 + 30\\omega_y^2 + 15 \\omega_z^2-20\\omega_x\\omega_y-30\\omega_x\\omega_z$\n",
    "can be written in matrix notation as follows $2 T_r = ω^T Jω$. The associated non-diagonal inertia matrix has the following form:"
   ]
  },
  {
   "cell_type": "markdown",
   "metadata": {},
   "source": [
    "Identifying the terms:\n",
    "\n",
    "$\\begin{equation}\n",
    "2 T_{r}=\\omega^{T} J \\omega=J_{x x} \\omega_{x}^{2}+J_{y y} \\omega_{y}^{2}+J_{z z} \\omega_{z}^{2}+2 J_{x y} \\omega_{x} \\omega_{y}+2 J_{y z} \\omega_{y} \\omega_{z}+2 J_{x z} \\omega_{x} \\omega_{z}\n",
    "\\end{equation}$"
   ]
  },
  {
   "cell_type": "code",
   "execution_count": 116,
   "metadata": {},
   "outputs": [
    {
     "data": {
      "text/latex": [
       "$\\displaystyle \\left( \\left[\\begin{matrix}\\omega_{x} & \\omega_{y} & \\omega_{z}\\end{matrix}\\right], \\  \\left[\\begin{matrix}20 & -10 & -15\\\\-10 & 30 & 0\\\\-15 & 0 & 15\\end{matrix}\\right], \\  \\left[\\begin{matrix}\\omega_{x}\\\\\\omega_{y}\\\\\\omega_{z}\\end{matrix}\\right]\\right)$"
      ],
      "text/plain": [
       "⎛                ⎡20   -10  -15⎤  ⎡ωₓ ⎤⎞\n",
       "⎜                ⎢             ⎥  ⎢   ⎥⎟\n",
       "⎜[ωₓ  ω_y  ω_z], ⎢-10  30    0 ⎥, ⎢ω_y⎥⎟\n",
       "⎜                ⎢             ⎥  ⎢   ⎥⎟\n",
       "⎝                ⎣-15   0   15 ⎦  ⎣ω_z⎦⎠"
      ]
     },
     "execution_count": 116,
     "metadata": {},
     "output_type": "execute_result"
    }
   ],
   "source": [
    "# In matrix form:\n",
    "J = Matrix([[20, -10, -15], [-10, 30, 0], [-15, 0, 15]])\n",
    "\n",
    "omegas = Matrix([omega_x, omega_y, omega_z])\n",
    "\n",
    "omegas.T, J, omegas\n"
   ]
  },
  {
   "cell_type": "code",
   "execution_count": 117,
   "metadata": {},
   "outputs": [
    {
     "data": {
      "text/latex": [
       "$\\displaystyle \\left[\\begin{matrix}20 \\omega_{x}^{2} - 20 \\omega_{x} \\omega_{y} - 30 \\omega_{x} \\omega_{z} + 30 \\omega_{y}^{2} + 15 \\omega_{z}^{2}\\end{matrix}\\right]$"
      ],
      "text/plain": [
       "⎡     2                                 2         2⎤\n",
       "⎣20⋅ωₓ  - 20⋅ωₓ⋅ω_y - 30⋅ωₓ⋅ω_z + 30⋅ω_y  + 15⋅ω_z ⎦"
      ]
     },
     "execution_count": 117,
     "metadata": {},
     "output_type": "execute_result"
    }
   ],
   "source": [
    "# Check\n",
    "simplify(omegas.T*J*omegas)"
   ]
  },
  {
   "cell_type": "code",
   "execution_count": 118,
   "metadata": {},
   "outputs": [
    {
     "data": {
      "text/latex": [
       "$\\displaystyle \\operatorname{PurePoly}{\\left( \\lambda^{3} - 65 \\lambda^{2} + 1025 \\lambda - 750, \\lambda, domain=\\mathbb{Z} \\right)}$"
      ],
      "text/plain": [
       "PurePoly(lambda**3 - 65*lambda**2 + 1025*lambda - 750, lambda, domain='ZZ')"
      ]
     },
     "execution_count": 118,
     "metadata": {},
     "output_type": "execute_result"
    }
   ],
   "source": [
    "char_eq = J.charpoly()#.as_expr()\n",
    "char_eq"
   ]
  },
  {
   "cell_type": "code",
   "execution_count": 119,
   "metadata": {},
   "outputs": [
    {
     "data": {
      "text/latex": [
       "$\\displaystyle \\begin{bmatrix}0.769\\\\24.646\\\\39.585\\\\\\end{bmatrix}$"
      ],
      "text/plain": [
       "<IPython.core.display.Math object>"
      ]
     },
     "metadata": {},
     "output_type": "display_data"
    },
    {
     "data": {
      "text/latex": [
       "$\\displaystyle \\begin{bmatrix}0.77&0.0&0.0\\\\0.0&24.65&0.0\\\\0.0&0.0&39.58\\\\\\end{bmatrix}$"
      ],
      "text/plain": [
       "<IPython.core.display.Math object>"
      ]
     },
     "metadata": {},
     "output_type": "display_data"
    },
    {
     "name": "stdout",
     "output_type": "stream",
     "text": [
      "I_1 =  0.77\n",
      "I_2 =  24.65\n",
      "I_3 =  39.58\n"
     ]
    }
   ],
   "source": [
    "Eigenvalues, Eigenvectors = find_eigen(J)\n",
    "\n",
    "print_matrix(Eigenvalues)\n",
    "\n",
    "I = np.round(Eigenvalues, 2)*np.eye(3) # Principle moments of inertia\n",
    "print_matrix(I)\n",
    "print('I_1 = ', round(Eigenvalues[0], 2))\n",
    "print('I_2 = ', round(Eigenvalues[1], 2))\n",
    "print('I_3 = ', round(Eigenvalues[2], 2))\n"
   ]
  },
  {
   "cell_type": "code",
   "execution_count": 120,
   "metadata": {},
   "outputs": [
    {
     "data": {
      "text/latex": [
       "$\\displaystyle \\begin{bmatrix}-0.67&0.381&0.637\\\\-0.229&0.711&-0.665\\\\-0.706&-0.592&-0.389\\\\\\end{bmatrix}$"
      ],
      "text/plain": [
       "<IPython.core.display.Math object>"
      ]
     },
     "metadata": {},
     "output_type": "display_data"
    }
   ],
   "source": [
    "print_matrix(Eigenvectors)  # Rotation matrix\n"
   ]
  },
  {
   "cell_type": "code",
   "execution_count": 121,
   "metadata": {},
   "outputs": [
    {
     "data": {
      "text/latex": [
       "$\\displaystyle \\begin{bmatrix}-0.67&-0.229&-0.706\\\\0.381&0.711&-0.592\\\\0.637&-0.665&-0.389\\\\\\end{bmatrix}$"
      ],
      "text/plain": [
       "<IPython.core.display.Math object>"
      ]
     },
     "metadata": {},
     "output_type": "display_data"
    }
   ],
   "source": [
    "# Rotation matrix. Need to transpose \n",
    "Rot_matrix = Eigenvectors.T\n",
    "print_matrix(Rot_matrix)\n"
   ]
  },
  {
   "cell_type": "code",
   "execution_count": 122,
   "metadata": {},
   "outputs": [
    {
     "data": {
      "text/latex": [
       "$\\displaystyle \\begin{bmatrix}0.769&0.0&0.0\\\\0.0&24.646&-0.0\\\\0.0&-0.0&39.585\\\\\\end{bmatrix}$"
      ],
      "text/plain": [
       "<IPython.core.display.Math object>"
      ]
     },
     "metadata": {},
     "output_type": "display_data"
    }
   ],
   "source": [
    "# Check that the principle inertia matrix is correct\n",
    "print_matrix(Rot_matrix @ np.array(J, dtype='float') @ Rot_matrix.T)\n"
   ]
  },
  {
   "cell_type": "markdown",
   "metadata": {},
   "source": [
    "### The rotational kinetic energy can be simply written as $2 T_r = \\bold{ω}^T \\bold{Iω}$:"
   ]
  },
  {
   "cell_type": "code",
   "execution_count": 123,
   "metadata": {},
   "outputs": [
    {
     "data": {
      "text/plain": [
       "array([0.77*omega_x**2, 24.65*omega_y**2, 39.58*omega_z**2], dtype=object)"
      ]
     },
     "execution_count": 123,
     "metadata": {},
     "output_type": "execute_result"
    }
   ],
   "source": [
    "T_r2 = (I[0]*omega_x**2 + I[1]*omega_y**2 + I[2] *\n",
    "              omega_z**2)\n",
    "T_r2\n"
   ]
  }
 ],
 "metadata": {
  "interpreter": {
   "hash": "7bdadbcc745afc9ac1e1714124e1bb5770ee7d86d26de672bb194e9104174d2a"
  },
  "kernelspec": {
   "display_name": "Python 3.8.3 64-bit ('base': conda)",
   "name": "python3"
  },
  "language_info": {
   "codemirror_mode": {
    "name": "ipython",
    "version": 3
   },
   "file_extension": ".py",
   "mimetype": "text/x-python",
   "name": "python",
   "nbconvert_exporter": "python",
   "pygments_lexer": "ipython3",
   "version": "3.8.3"
  },
  "orig_nbformat": 4
 },
 "nbformat": 4,
 "nbformat_minor": 2
}
