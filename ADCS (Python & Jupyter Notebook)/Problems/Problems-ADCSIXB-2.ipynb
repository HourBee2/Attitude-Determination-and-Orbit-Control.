{
 "cells": [
  {
   "cell_type": "code",
   "execution_count": 18,
   "metadata": {},
   "outputs": [],
   "source": [
    "#%% Import libraries\n",
    "import numpy as np\n",
    "from sympy import *\n",
    "# from sympy.physics.mechanics import ReferenceFrame\n",
    "from IPython.display import display, Latex, Math\n",
    "init_printing(use_latex='mathjax')\n",
    "\n",
    "from sys import path\n",
    "path.append(\n",
    "    \"c:\\\\Users\\\\diego\\\\Dropbox\\\\Academic\\\\MEng Space Systems\\\\3. DOCA\\\\ADCS functions\")\n",
    "import ADCS_Functions as adcs\n",
    "import ADCS_Functions_sym as adcs_sym"
   ]
  },
  {
   "cell_type": "markdown",
   "metadata": {},
   "source": [
    "_________________________________"
   ]
  },
  {
   "cell_type": "markdown",
   "metadata": {},
   "source": [
    "A spacecraft with a principal axes body-fixed frame b, has corresponding \n",
    "principal moments of inertia Ix, Iy, Iz. \n",
    "\n",
    "The spacecraft attitude relative to the Earth centered inertial frame G is \n",
    "described by a yaw-pitch-roll (3-2-1) Euler sequence, represented by the \n",
    "rotation matrix"
   ]
  },
  {
   "cell_type": "code",
   "execution_count": 19,
   "metadata": {},
   "outputs": [],
   "source": [
    "Ix = 100 # kg*m^2\n",
    "Iy = 120 # kg*m^2\n",
    "Iz = 80 # kg*m^2\n",
    "\n",
    "I = np.array([[Ix, 0, 0], [0, Iy, 0], [0, 0, Iz]])"
   ]
  },
  {
   "cell_type": "code",
   "execution_count": 20,
   "metadata": {},
   "outputs": [
    {
     "data": {
      "text/latex": [
       "$\\displaystyle \\left[\\begin{matrix}\\cos{\\left(y \\right)} \\cos{\\left(z \\right)} & \\sin{\\left(z \\right)} \\cos{\\left(y \\right)} & - \\sin{\\left(y \\right)}\\\\\\sin{\\left(x \\right)} \\sin{\\left(y \\right)} \\cos{\\left(z \\right)} - \\sin{\\left(z \\right)} \\cos{\\left(x \\right)} & \\sin{\\left(x \\right)} \\sin{\\left(y \\right)} \\sin{\\left(z \\right)} + \\cos{\\left(x \\right)} \\cos{\\left(z \\right)} & \\sin{\\left(x \\right)} \\cos{\\left(y \\right)}\\\\\\sin{\\left(x \\right)} \\sin{\\left(z \\right)} + \\sin{\\left(y \\right)} \\cos{\\left(x \\right)} \\cos{\\left(z \\right)} & - \\sin{\\left(x \\right)} \\cos{\\left(z \\right)} + \\sin{\\left(y \\right)} \\sin{\\left(z \\right)} \\cos{\\left(x \\right)} & \\cos{\\left(x \\right)} \\cos{\\left(y \\right)}\\end{matrix}\\right]$"
      ],
      "text/plain": [
       "⎡           cos(y)⋅cos(z)                          sin(z)⋅cos(y)              \n",
       "⎢                                                                             \n",
       "⎢sin(x)⋅sin(y)⋅cos(z) - sin(z)⋅cos(x)  sin(x)⋅sin(y)⋅sin(z) + cos(x)⋅cos(z)   \n",
       "⎢                                                                             \n",
       "⎣sin(x)⋅sin(z) + sin(y)⋅cos(x)⋅cos(z)  -sin(x)⋅cos(z) + sin(y)⋅sin(z)⋅cos(x)  \n",
       "\n",
       "   -sin(y)   ⎤\n",
       "             ⎥\n",
       "sin(x)⋅cos(y)⎥\n",
       "             ⎥\n",
       "cos(x)⋅cos(y)⎦"
      ]
     },
     "execution_count": 20,
     "metadata": {},
     "output_type": "execute_result"
    }
   ],
   "source": [
    "CbG = adcs_sym.DCM('sim', 3, 2, 1, invorder=True)\n",
    "CbG"
   ]
  },
  {
   "cell_type": "markdown",
   "metadata": {},
   "source": [
    "Where sb = sin b and cb = cos b. Where φ, Θ and ψ are the roll, pitch and yaw\n",
    "angles, respectively. Currently, the attitude is represented by\n",
    "φ = Θ = ψ = π/4 rad, and the spacecraft orbital position ( in ECI) coordinates is"
   ]
  },
  {
   "cell_type": "code",
   "execution_count": 21,
   "metadata": {},
   "outputs": [
    {
     "data": {
      "text/latex": [
       "$\\displaystyle \\left[\\begin{matrix}0\\\\0\\\\R_{0}\\end{matrix}\\right]$"
      ],
      "text/plain": [
       "⎡0 ⎤\n",
       "⎢  ⎥\n",
       "⎢0 ⎥\n",
       "⎢  ⎥\n",
       "⎣R₀⎦"
      ]
     },
     "execution_count": 21,
     "metadata": {},
     "output_type": "execute_result"
    }
   ],
   "source": [
    "R_0sim = Symbol('R_0')\n",
    "\n",
    "R_0G_vecsim = Matrix([0, 0 , R_0sim]) # km\n",
    "R_0G_vecsim"
   ]
  },
  {
   "cell_type": "code",
   "execution_count": 22,
   "metadata": {},
   "outputs": [
    {
     "data": {
      "text/latex": [
       "$\\displaystyle \\begin{bmatrix}0.0\\\\0.0\\\\7000.0\\\\\\end{bmatrix}$"
      ],
      "text/plain": [
       "<IPython.core.display.Math object>"
      ]
     },
     "metadata": {},
     "output_type": "display_data"
    }
   ],
   "source": [
    "R_0 = 7000\n",
    "R_0G_vec = R_0G_vecsim.subs(R_0sim, R_0)  # km\n",
    "R_0G_vec = adcs.print_matrix(np.array(R_0G_vec).astype(np.float64))\n",
    "R_0G_vec \n"
   ]
  },
  {
   "cell_type": "markdown",
   "metadata": {},
   "source": [
    "Determine the gravity-gradient torque acting on the spacecraft. Express the \n",
    "result in spacecraft body coordinates. Note that μ = 3.986 ∙ 105 km3/s2 is the \n",
    "Earth ́s gravitational constant"
   ]
  },
  {
   "cell_type": "code",
   "execution_count": 23,
   "metadata": {},
   "outputs": [
    {
     "data": {
      "text/latex": [
       "$\\displaystyle 398600.4418$"
      ],
      "text/plain": [
       "398600.4418"
      ]
     },
     "execution_count": 23,
     "metadata": {},
     "output_type": "execute_result"
    }
   ],
   "source": [
    "mu = 3.986004418e5 # km^3/s^2\n",
    "mu"
   ]
  },
  {
   "cell_type": "markdown",
   "metadata": {},
   "source": [
    "___________________"
   ]
  },
  {
   "cell_type": "markdown",
   "metadata": {},
   "source": [
    "In body coordinates, the gravity-gradient torque is given by:\n",
    "\n",
    "$\\mathbf{T}_{g g, b}=\\frac{3 \\mu}{R_{o}^{5}} \\mathbf{R}_{o, b}^{\\times} \\mathbf{I} \\mathbf{R}_{o, b}$\n",
    "\n",
    "Where $I = diag\\{I_x, I_y, I_z\\}$ is the spacecraft inertia matrix, $R_o$ is the spacecraft \n",
    "orbital position vector in body coordinates $R_o=|R_o|$, and $\\mu$ is Earth ́s \n",
    "gravitational constant. We are given the spacecraft orbital position in ECI \n",
    "coordinates, namely: $R_o = \\begin{bmatrix}o\\\\o\\\\R_0\\end{bmatrix}$\n",
    "\n",
    "In body coordinates, therfore, we have:"
   ]
  },
  {
   "cell_type": "code",
   "execution_count": 24,
   "metadata": {},
   "outputs": [
    {
     "data": {
      "text/latex": [
       "$\\displaystyle \\left[\\begin{matrix}- R_{0} \\sin{\\left(y \\right)}\\\\R_{0} \\sin{\\left(x \\right)} \\cos{\\left(y \\right)}\\\\R_{0} \\cos{\\left(x \\right)} \\cos{\\left(y \\right)}\\end{matrix}\\right]$"
      ],
      "text/plain": [
       "⎡   -R₀⋅sin(y)   ⎤\n",
       "⎢                ⎥\n",
       "⎢R₀⋅sin(x)⋅cos(y)⎥\n",
       "⎢                ⎥\n",
       "⎣R₀⋅cos(x)⋅cos(y)⎦"
      ]
     },
     "execution_count": 24,
     "metadata": {},
     "output_type": "execute_result"
    }
   ],
   "source": [
    "R_0b_vec = CbG*R_0G_vecsim\n",
    "R_0b_vec"
   ]
  },
  {
   "cell_type": "markdown",
   "metadata": {},
   "source": [
    "We are gioven that $x=y=z=\\pi/4$"
   ]
  },
  {
   "cell_type": "code",
   "execution_count": 25,
   "metadata": {},
   "outputs": [
    {
     "data": {
      "text/latex": [
       "$\\displaystyle \\left[\\begin{matrix}- \\frac{\\sqrt{2} R_{0}}{2}\\\\\\frac{R_{0}}{2}\\\\\\frac{R_{0}}{2}\\end{matrix}\\right]$"
      ],
      "text/plain": [
       "⎡-√2⋅R₀ ⎤\n",
       "⎢───────⎥\n",
       "⎢   2   ⎥\n",
       "⎢       ⎥\n",
       "⎢  R₀   ⎥\n",
       "⎢  ──   ⎥\n",
       "⎢  2    ⎥\n",
       "⎢       ⎥\n",
       "⎢  R₀   ⎥\n",
       "⎢  ──   ⎥\n",
       "⎣  2    ⎦"
      ]
     },
     "execution_count": 25,
     "metadata": {},
     "output_type": "execute_result"
    }
   ],
   "source": [
    "x,y,z = symbols('x y z')\n",
    "\n",
    "R_0b_vec = R_0b_vec.subs(x, pi/4).subs(y, pi/4).subs(z, pi/4)\n",
    "R_0b_vec\n"
   ]
  },
  {
   "cell_type": "code",
   "execution_count": 26,
   "metadata": {},
   "outputs": [
    {
     "data": {
      "text/latex": [
       "$\\displaystyle \\begin{bmatrix}-4949.747\\\\3500.0\\\\3500.0\\\\\\end{bmatrix}$"
      ],
      "text/plain": [
       "<IPython.core.display.Math object>"
      ]
     },
     "metadata": {},
     "output_type": "display_data"
    }
   ],
   "source": [
    "R_0b_vec = adcs_sym.sym2num(R_0b_vec, R_0sim, R_0)\n",
    "adcs.print_matrix(R_0b_vec)\n"
   ]
  },
  {
   "cell_type": "code",
   "execution_count": 27,
   "metadata": {},
   "outputs": [
    {
     "data": {
      "text/latex": [
       "$\\displaystyle 7000.0$"
      ],
      "text/plain": [
       "7000.0"
      ]
     },
     "execution_count": 27,
     "metadata": {},
     "output_type": "execute_result"
    }
   ],
   "source": [
    "np.linalg.norm(adcs_sym.sym2num(R_0G_vecsim, R_0sim, R_0))\n"
   ]
  },
  {
   "cell_type": "code",
   "execution_count": 28,
   "metadata": {},
   "outputs": [
    {
     "data": {
      "text/latex": [
       "$\\displaystyle \\begin{bmatrix}0.0&-3500.0&3500.0\\\\3500.0&0.0&4949.747\\\\-3500.0&-4949.747&0.0\\\\\\end{bmatrix}$"
      ],
      "text/plain": [
       "<IPython.core.display.Math object>"
      ]
     },
     "metadata": {},
     "output_type": "display_data"
    }
   ],
   "source": [
    "adcs.print_matrix(adcs.skew(R_0b_vec))\n"
   ]
  },
  {
   "cell_type": "markdown",
   "metadata": {},
   "source": [
    "Therefore, the gravity-gradient in body coordinates is:"
   ]
  },
  {
   "cell_type": "code",
   "execution_count": 29,
   "metadata": {},
   "outputs": [
    {
     "data": {
      "text/plain": [
       "array([-3.48630124e-05, -2.46518725e-05, -2.46518725e-05])"
      ]
     },
     "execution_count": 29,
     "metadata": {},
     "output_type": "execute_result"
    }
   ],
   "source": [
    "Tgg_b = (3*mu) / (R_0**5) * adcs.skew(R_0b_vec) @ I @ R_0b_vec\n",
    "Tgg_b\n"
   ]
  },
  {
   "cell_type": "code",
   "execution_count": 30,
   "metadata": {},
   "outputs": [
    {
     "data": {
      "text/plain": [
       "array([-3.48629738e-05, -2.46518452e-05, -2.46518452e-05])"
      ]
     },
     "execution_count": 30,
     "metadata": {},
     "output_type": "execute_result"
    }
   ],
   "source": [
    "# Or using the library:\n",
    "\n",
    "adcs.gravity_gradient_Tb(I, R_0b_vec)"
   ]
  },
  {
   "cell_type": "code",
   "execution_count": 33,
   "metadata": {},
   "outputs": [
    {
     "data": {
      "text/plain": [
       "array([-1.09525262e-04, -5.47626311e-05,  0.00000000e+00])"
      ]
     },
     "execution_count": 33,
     "metadata": {},
     "output_type": "execute_result"
    }
   ],
   "source": [
    "# If using small angle approximation:\n",
    "\n",
    "adcs.gravity_gradient_Tb_aprox(np.array([Ix, Iy, Iz]), np.array([np.pi/4, np.pi/4, np.pi/4]), R_0)"
   ]
  },
  {
   "cell_type": "markdown",
   "metadata": {},
   "source": [
    "As we can see, the gravity-gradient torque cannot be approximated with small angles when the angle is pi/4. Only when it is close to 0"
   ]
  }
 ],
 "metadata": {
  "interpreter": {
   "hash": "7bdadbcc745afc9ac1e1714124e1bb5770ee7d86d26de672bb194e9104174d2a"
  },
  "kernelspec": {
   "display_name": "Python 3.8.3 64-bit ('base': conda)",
   "language": "python",
   "name": "python3"
  },
  "language_info": {
   "codemirror_mode": {
    "name": "ipython",
    "version": 3
   },
   "file_extension": ".py",
   "mimetype": "text/x-python",
   "name": "python",
   "nbconvert_exporter": "python",
   "pygments_lexer": "ipython3",
   "version": "3.8.3"
  },
  "orig_nbformat": 4
 },
 "nbformat": 4,
 "nbformat_minor": 2
}
