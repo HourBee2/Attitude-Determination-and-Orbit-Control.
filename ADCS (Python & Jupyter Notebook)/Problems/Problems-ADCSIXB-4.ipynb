{
 "cells": [
  {
   "cell_type": "code",
   "execution_count": 1,
   "metadata": {},
   "outputs": [],
   "source": [
    "#%% Import libraries\n",
    "import numpy as np\n",
    "from sympy import *\n",
    "# from sympy.physics.mechanics import ReferenceFrame\n",
    "from IPython.display import display, Latex, Math\n",
    "init_printing(use_latex='mathjax')\n",
    "\n",
    "from sys import path\n",
    "path.append(\n",
    "    \"c:\\\\Users\\\\diego\\\\Dropbox\\\\Academic\\\\MEng Space Systems\\\\3. DOCA\\\\ADCS functions\")\n",
    "import ADCS_Functions as adcs\n",
    "import ADCS_Functions_sym as adcs_sym"
   ]
  },
  {
   "cell_type": "markdown",
   "metadata": {},
   "source": [
    "_______________________"
   ]
  },
  {
   "cell_type": "markdown",
   "metadata": {},
   "source": [
    "Consider a nominally non-spinning dual-spin spacecraft with principal inertias \n",
    "$I_1, I_2 ,I_3$. The wheel axis coincides with the 3-axis of a body-fixed principal \n",
    "axes frame. \n",
    "\n",
    "The wheel relative angular momentum is given by $hs \\gt 0$"
   ]
  },
  {
   "cell_type": "markdown",
   "metadata": {},
   "source": [
    "a) Show that this situation corresponds to an equilibrium for torque-free motion\n",
    "\n",
    "b) Show that small perturbations to the spacecraft angular velocity lead \n",
    "to purely oscillatory behavior in $\\omega_1$ and $\\omega_2$ with frequency:\n",
    "\n",
    "$\\Omega_p = \\frac{h_s}{\\sqrt{I_1 I_2}}$\n"
   ]
  },
  {
   "cell_type": "markdown",
   "metadata": {},
   "source": [
    "_________________________"
   ]
  },
  {
   "cell_type": "markdown",
   "metadata": {},
   "source": [
    "### a) Sol"
   ]
  },
  {
   "cell_type": "code",
   "execution_count": 2,
   "metadata": {},
   "outputs": [],
   "source": [
    "# Initialize the symbolic variables\n",
    "\n",
    "omega_vecsym, omega1sym, omega2sym, omega3sym = symbols('\\omega \\omega_1 \\omega_2 \\omega_3')\n",
    "dotomega_vecsym, dotomega1sym, dotomega2sym, dotomega3sym = symbols('\\dot{\\omega} \\dot{\\omega}_1 \\dot{\\omega}_2 \\dot{\\omega}_3')\n",
    "\n",
    "I_vecsym, I1_sym, I2_sym, I3_sym = symbols('I I1, I2, I3')\n",
    "hs_sym = symbols('h_s')\n",
    "Omega_sym = symbols('Omega')\n",
    "a_sym = symbols('a')"
   ]
  },
  {
   "cell_type": "code",
   "execution_count": 3,
   "metadata": {},
   "outputs": [
    {
     "data": {
      "text/latex": [
       "$\\displaystyle T = I \\dot{\\omega} + \\omega \\left(I \\omega + a h_{s}\\right)$"
      ],
      "text/plain": [
       "T = I⋅\\dot{\\omega} + \\omega⋅(I⋅\\omega + a⋅hₛ)"
      ]
     },
     "execution_count": 3,
     "metadata": {},
     "output_type": "execute_result"
    }
   ],
   "source": [
    "# For torque-free motion T = 0, the equations of motion are¨\n",
    "\n",
    "# T_vecsym = I_vecsym*dotomega_vecsym + cross(omega_vecsym, (I_vecsym*omega_vecsym + hs_sym*a_sym))\n",
    "T_vecsym = I_vecsym*dotomega_vecsym + (omega_vecsym * (I_vecsym*omega_vecsym + hs_sym*a_sym)) # It should actually be cross(omega_vecsym, (I_vecsym*omega_vecsym + hs_sym*a_sym))\n",
    "Eq(Symbol('T'), T_vecsym)"
   ]
  },
  {
   "cell_type": "markdown",
   "metadata": {},
   "source": [
    "where a is the wheel spin-axis in body coordinates, and with T=0 for torque free motion"
   ]
  },
  {
   "cell_type": "code",
   "execution_count": 4,
   "metadata": {},
   "outputs": [
    {
     "data": {
      "text/latex": [
       "$\\displaystyle I \\dot{\\omega} = 0$"
      ],
      "text/plain": [
       "I⋅\\dot{\\omega} = 0"
      ]
     },
     "execution_count": 4,
     "metadata": {},
     "output_type": "execute_result"
    }
   ],
   "source": [
    "a = Matrix([0, 0, 1])   # From problem statement: 'the wheel axis coincides with the 3-axis of a body-fixed principal axes frame'\n",
    "omegavec = 0            # From problem statement: 'nominally non-spinning'\n",
    "\n",
    "\n",
    "T_vecsym = T_vecsym.subs(omega_vecsym, omegavec).subs(a_sym, a_sym)\n",
    "\n",
    "Eq(T_vecsym, 0)\n"
   ]
  },
  {
   "cell_type": "markdown",
   "metadata": {},
   "source": [
    "This indicates that the spacecraft is in an equilibrium state."
   ]
  },
  {
   "cell_type": "markdown",
   "metadata": {},
   "source": [
    "__________________________"
   ]
  },
  {
   "cell_type": "markdown",
   "metadata": {},
   "source": [
    "### b) Sol  "
   ]
  },
  {
   "cell_type": "markdown",
   "metadata": {},
   "source": [
    "The equations of motion in principal axes given by:"
   ]
  },
  {
   "cell_type": "code",
   "execution_count": 5,
   "metadata": {},
   "outputs": [
    {
     "data": {
      "text/latex": [
       "$\\displaystyle \\left( I_{1} \\dot{\\omega}_1 - \\omega_{2} \\omega_{3} \\left(I_{2} - I_{3}\\right) + \\omega_{2} h_{s} = 0, \\  I_{2} \\dot{\\omega}_2 - \\omega_{1} \\omega_{3} \\left(- I_{1} + I_{3}\\right) - \\omega_{1} h_{s} = 0, \\  I_{3} \\dot{\\omega}_3 - \\omega_{1} \\omega_{2} \\left(I_{1} - I_{2}\\right) = 0\\right)$"
      ],
      "text/plain": [
       "(I₁⋅\\dot{\\omega}₁ - \\omega₂⋅\\omega₃⋅(I₂ - I₃) + \\omega₂⋅hₛ = 0, I₂⋅\\dot{\\omega\n",
       "}₂ - \\omega₁⋅\\omega₃⋅(-I₁ + I₃) - \\omega₁⋅hₛ = 0, I₃⋅\\dot{\\omega}₃ - \\omega₁⋅\\\n",
       "omega₂⋅(I₁ - I₂) = 0)"
      ]
     },
     "execution_count": 5,
     "metadata": {},
     "output_type": "execute_result"
    }
   ],
   "source": [
    "# From Euler's equations\n",
    "T1_sym = (I1_sym*dotomega1sym - (I2_sym - I3_sym)*omega2sym*omega3sym) + hs_sym*omega2sym\n",
    "T2_sym = (I2_sym*dotomega2sym - (I3_sym - I1_sym)*omega3sym*omega1sym) - hs_sym*omega1sym\n",
    "T3_sym = (I3_sym*dotomega3sym - (I1_sym - I2_sym)*omega1sym*omega2sym)\n",
    "\n",
    "Eq(T1_sym,0), Eq(T2_sym,0), Eq(T3_sym,0)"
   ]
  },
  {
   "cell_type": "code",
   "execution_count": 18,
   "metadata": {},
   "outputs": [
    {
     "data": {
      "text/latex": [
       "$\\displaystyle \\left[\\begin{matrix}I_{1} \\dot{\\omega}_1 - I_{2} \\omega_{2} \\omega_{3} + \\omega_{2} \\left(I_{3} \\omega_{3} + h_{s}\\right)\\\\I_{1} \\omega_{1} \\omega_{3} + I_{2} \\dot{\\omega}_2 - \\omega_{1} \\left(I_{3} \\omega_{3} + h_{s}\\right)\\\\- I_{1} \\omega_{1} \\omega_{2} + I_{2} \\omega_{1} \\omega_{2} + I_{3} \\dot{\\omega}_3\\end{matrix}\\right]$"
      ],
      "text/plain": [
       "⎡I₁⋅\\dot{\\omega}₁ - I₂⋅\\omega₂⋅\\omega₃ + \\omega₂⋅(I₃⋅\\omega₃ + hₛ)⎤\n",
       "⎢                                                                 ⎥\n",
       "⎢I₁⋅\\omega₁⋅\\omega₃ + I₂⋅\\dot{\\omega}₂ - \\omega₁⋅(I₃⋅\\omega₃ + hₛ)⎥\n",
       "⎢                                                                 ⎥\n",
       "⎣   -I₁⋅\\omega₁⋅\\omega₂ + I₂⋅\\omega₁⋅\\omega₂ + I₃⋅\\dot{\\omega}₃   ⎦"
      ]
     },
     "execution_count": 18,
     "metadata": {},
     "output_type": "execute_result"
    }
   ],
   "source": [
    "# Using the library:\n",
    "adcs_sym.eq_torquefree_motion(3)"
   ]
  },
  {
   "cell_type": "code",
   "execution_count": 7,
   "metadata": {},
   "outputs": [
    {
     "data": {
      "text/latex": [
       "$\\displaystyle \\left( I_{1} \\dot{\\epsilon}_1 - \\epsilon_{2} \\epsilon_{3} \\left(I_{2} - I_{3}\\right) + \\epsilon_{2} h_{s} = 0, \\  I_{2} \\dot{\\epsilon}_2 - \\epsilon_{1} \\epsilon_{3} \\left(- I_{1} + I_{3}\\right) - \\epsilon_{1} h_{s} = 0, \\  I_{3} \\dot{\\epsilon}_3 - \\epsilon_{1} \\epsilon_{2} \\left(I_{1} - I_{2}\\right) = 0\\right)$"
      ],
      "text/plain": [
       "(I₁⋅\\dot{\\epsilon}₁ - \\epsilon₂⋅\\epsilon₃⋅(I₂ - I₃) + \\epsilon₂⋅hₛ = 0, I₂⋅\\do\n",
       "t{\\epsilon}₂ - \\epsilon₁⋅\\epsilon₃⋅(-I₁ + I₃) - \\epsilon₁⋅hₛ = 0, I₃⋅\\dot{\\eps\n",
       "ilon}₃ - \\epsilon₁⋅\\epsilon₂⋅(I₁ - I₂) = 0)"
      ]
     },
     "execution_count": 7,
     "metadata": {},
     "output_type": "execute_result"
    }
   ],
   "source": [
    "# Considering small perturbations from the equilibrium:\n",
    "omega1sym_pert, omega2sym_pert, omega3sym_pert = symbols('\\epsilon_1 \\epsilon_2 \\epsilon_3')\n",
    "dotomega1sym_pert, dotomega2sym_pert, dotomega3sym_pert = symbols('\\dot{\\epsilon}_1 \\dot{\\epsilon}_2 \\dot{\\epsilon}_3')\n",
    "\n",
    "# Substituting the perturbations into the equations of motion:\n",
    "T1_sym_pert = T1_sym.subs(omega1sym, omega1sym_pert).subs(omega2sym, omega2sym_pert).subs(omega3sym, omega3sym_pert).subs(dotomega1sym, dotomega1sym_pert).subs(dotomega2sym, dotomega2sym_pert).subs(dotomega3sym, dotomega3sym_pert)\n",
    "T2_sym_pert = T2_sym.subs(omega1sym, omega1sym_pert).subs(omega2sym, omega2sym_pert).subs(omega3sym, omega3sym_pert).subs(dotomega1sym, dotomega1sym_pert).subs(dotomega2sym, dotomega2sym_pert).subs(dotomega3sym, dotomega3sym_pert)\n",
    "T3_sym_pert = T3_sym.subs(omega1sym, omega1sym_pert).subs(omega2sym, omega2sym_pert).subs(omega3sym, omega3sym_pert).subs(dotomega1sym, dotomega1sym_pert).subs(dotomega2sym, dotomega2sym_pert).subs(dotomega3sym, dotomega3sym_pert)\n",
    "\n",
    "Eq(T1_sym_pert,0), Eq(T2_sym_pert,0), Eq(T3_sym_pert,0)"
   ]
  },
  {
   "cell_type": "markdown",
   "metadata": {},
   "source": [
    "By linearizing the problem (neglecting products of $\\epsilon$)"
   ]
  },
  {
   "cell_type": "code",
   "execution_count": 8,
   "metadata": {},
   "outputs": [
    {
     "data": {
      "text/latex": [
       "$\\displaystyle \\left( I_{1} \\dot{\\epsilon}_1 + \\epsilon_{2} h_{s} = 0, \\  I_{2} \\dot{\\epsilon}_2 - \\epsilon_{1} h_{s} = 0, \\  I_{3} \\dot{\\epsilon}_3 = 0\\right)$"
      ],
      "text/plain": [
       "(I₁⋅\\dot{\\epsilon}₁ + \\epsilon₂⋅hₛ = 0, I₂⋅\\dot{\\epsilon}₂ - \\epsilon₁⋅hₛ = 0,\n",
       " I₃⋅\\dot{\\epsilon}₃ = 0)"
      ]
     },
     "execution_count": 8,
     "metadata": {},
     "output_type": "execute_result"
    }
   ],
   "source": [
    "T1_sym_pert = T1_sym_pert.subs(omega1sym_pert*omega2sym_pert, 0).subs(omega1sym_pert*omega3sym_pert, 0).subs(omega2sym_pert*omega3sym_pert, 0)\n",
    "T2_sym_pert = T2_sym_pert.subs(omega1sym_pert*omega2sym_pert, 0).subs(omega1sym_pert*omega3sym_pert, 0).subs(omega2sym_pert*omega3sym_pert, 0)\n",
    "T3_sym_pert = T3_sym_pert.subs(omega1sym_pert*omega2sym_pert, 0).subs(omega1sym_pert*omega3sym_pert, 0).subs(omega2sym_pert*omega3sym_pert, 0)\n",
    "\n",
    "Eq(T1_sym_pert,0), Eq(T2_sym_pert,0), Eq(T3_sym_pert,0)"
   ]
  },
  {
   "cell_type": "markdown",
   "metadata": {},
   "source": [
    "The third equation gives $\\epsilon_3 (t) = \\epsilon_3 (0)$, which is constant. The first two \n",
    "can be rearranged to give"
   ]
  },
  {
   "cell_type": "code",
   "execution_count": 9,
   "metadata": {},
   "outputs": [
    {
     "data": {
      "text/latex": [
       "$\\displaystyle \\left( \\dot{\\epsilon}_1 + \\frac{\\epsilon_{2} h_{s}}{I_{1}} = 0, \\  \\dot{\\epsilon}_2 - \\frac{\\epsilon_{1} h_{s}}{I_{2}} = 0\\right)$"
      ],
      "text/plain": [
       "⎛                  \\epsilon₂⋅hₛ                        \\epsilon₁⋅hₛ    ⎞\n",
       "⎜\\dot{\\epsilon}₁ + ──────────── = 0, \\dot{\\epsilon}₂ - ──────────── = 0⎟\n",
       "⎝                       I₁                                  I₂         ⎠"
      ]
     },
     "execution_count": 9,
     "metadata": {},
     "output_type": "execute_result"
    }
   ],
   "source": [
    "Eq(T1_sym_pert/I1_sym, 0).simplify(), Eq(T2_sym_pert/I2_sym, 0).simplify()"
   ]
  },
  {
   "cell_type": "markdown",
   "metadata": {},
   "source": [
    "Combine perturbed linearized Euler equations on 1- and 2-axis to form \n",
    "one single equation (taking time derivatives) we get"
   ]
  },
  {
   "cell_type": "markdown",
   "metadata": {},
   "source": [
    "$\\ddot{\\epsilon}_{1}=\\alpha^{2} \\epsilon_{1}$\n",
    "\n",
    "$\\ddot{\\epsilon}_{2}=\\alpha^{2} \\epsilon_{2}$"
   ]
  },
  {
   "cell_type": "markdown",
   "metadata": {},
   "source": [
    "With $\\alpha^{2}=-\\frac{h_{s}^{2}}{I_{1} I_{2}}$.\n",
    "\n",
    "We have now $\\alpha \\lt 0$ $\\rightarrow \\alpha$ is purely imaginary: $\\alpha=\\pm i\\frac{h_{s}}{\\sqrt{I_{1} I_{2}}}$,\n",
    "\n",
    "and therefore this corresponds to a purely oscillatory motion of:\n",
    "\n",
    "$\\epsilon_{i}(t)=A e^{\\alpha t}+B e^{-\\alpha t}, \\quad(\\alpha \\neq 0) \\quad i=1,2$,\n",
    "\n",
    "with frequency:\n",
    "\n",
    "$\\Omega_p = \\frac{h_s}{\\sqrt{I_1 I_2}}$"
   ]
  },
  {
   "cell_type": "markdown",
   "metadata": {},
   "source": [
    "_______________"
   ]
  },
  {
   "cell_type": "markdown",
   "metadata": {},
   "source": [
    "#### Same, but now using sympy to do the calculations:"
   ]
  },
  {
   "cell_type": "code",
   "execution_count": 10,
   "metadata": {},
   "outputs": [
    {
     "data": {
      "text/latex": [
       "$\\displaystyle \\left( I_{1} \\frac{d}{d t} \\epsilon_{1}{\\left(t \\right)} + h_{s} \\epsilon_{2}{\\left(t \\right)} - \\left(I_{2} - I_{3}\\right) \\epsilon_{2}{\\left(t \\right)} \\epsilon_{3}{\\left(t \\right)} = 0, \\  I_{2} \\frac{d}{d t} \\epsilon_{2}{\\left(t \\right)} - h_{s} \\epsilon_{1}{\\left(t \\right)} - \\left(- I_{1} + I_{3}\\right) \\epsilon_{1}{\\left(t \\right)} \\epsilon_{3}{\\left(t \\right)} = 0, \\  I_{3} \\frac{d}{d t} \\epsilon_{3}{\\left(t \\right)} - \\left(I_{1} - I_{2}\\right) \\epsilon_{1}{\\left(t \\right)} \\epsilon_{2}{\\left(t \\right)} = 0\\right)$"
      ],
      "text/plain": [
       "⎛   d                                                                         \n",
       "⎜I₁⋅──(\\epsilon₁(t)) + hₛ⋅\\epsilon₂(t) - (I₂ - I₃)⋅\\epsilon₂(t)⋅\\epsilon₃(t) =\n",
       "⎝   dt                                                                        \n",
       "\n",
       "       d                                                                      \n",
       " 0, I₂⋅──(\\epsilon₂(t)) - hₛ⋅\\epsilon₁(t) - (-I₁ + I₃)⋅\\epsilon₁(t)⋅\\epsilon₃(\n",
       "       dt                                                                     \n",
       "\n",
       "           d                                                         ⎞\n",
       "t) = 0, I₃⋅──(\\epsilon₃(t)) - (I₁ - I₂)⋅\\epsilon₁(t)⋅\\epsilon₂(t) = 0⎟\n",
       "           dt                                                        ⎠"
      ]
     },
     "execution_count": 10,
     "metadata": {},
     "output_type": "execute_result"
    }
   ],
   "source": [
    "from sympy.physics.vector import dynamicsymbols\n",
    "#t = symbols('t')\n",
    "# Considering small perturbations from the equilibrium:\n",
    "omega1sym_pert, omega2sym_pert, omega3sym_pert = dynamicsymbols('\\epsilon_1 \\epsilon_2 \\epsilon_3')\n",
    "dotomega1sym_pert, dotomega2sym_pert, dotomega3sym_pert = diff(omega1sym_pert), diff(omega2sym_pert), diff(omega3sym_pert)\n",
    "\n",
    "# Substituting the perturbations into the equations of motion:\n",
    "T1_sym_pert = T1_sym.subs(omega1sym, omega1sym_pert).subs(omega2sym, omega2sym_pert).subs(omega3sym, omega3sym_pert).subs(dotomega1sym, dotomega1sym_pert).subs(dotomega2sym, dotomega2sym_pert).subs(dotomega3sym, dotomega3sym_pert)\n",
    "T2_sym_pert = T2_sym.subs(omega1sym, omega1sym_pert).subs(omega2sym, omega2sym_pert).subs(omega3sym, omega3sym_pert).subs(dotomega1sym, dotomega1sym_pert).subs(dotomega2sym, dotomega2sym_pert).subs(dotomega3sym, dotomega3sym_pert)\n",
    "T3_sym_pert = T3_sym.subs(omega1sym, omega1sym_pert).subs(omega2sym, omega2sym_pert).subs(omega3sym, omega3sym_pert).subs(dotomega1sym, dotomega1sym_pert).subs(dotomega2sym, dotomega2sym_pert).subs(dotomega3sym, dotomega3sym_pert)\n",
    "\n",
    "Eq(T1_sym_pert,0), Eq(T2_sym_pert,0), Eq(T3_sym_pert,0)\n"
   ]
  },
  {
   "cell_type": "markdown",
   "metadata": {},
   "source": [
    "By linearizing the problem (neglecting products of $\\epsilon$)"
   ]
  },
  {
   "cell_type": "code",
   "execution_count": 11,
   "metadata": {},
   "outputs": [
    {
     "data": {
      "text/latex": [
       "$\\displaystyle \\left( I_{1} \\frac{d}{d t} \\epsilon_{1}{\\left(t \\right)} + h_{s} \\epsilon_{2}{\\left(t \\right)} = 0, \\  I_{2} \\frac{d}{d t} \\epsilon_{2}{\\left(t \\right)} - h_{s} \\epsilon_{1}{\\left(t \\right)} = 0, \\  I_{3} \\frac{d}{d t} \\epsilon_{3}{\\left(t \\right)} = 0\\right)$"
      ],
      "text/plain": [
       "⎛   d                                          d                              \n",
       "⎜I₁⋅──(\\epsilon₁(t)) + hₛ⋅\\epsilon₂(t) = 0, I₂⋅──(\\epsilon₂(t)) - hₛ⋅\\epsilon₁\n",
       "⎝   dt                                         dt                             \n",
       "\n",
       "            d                   ⎞\n",
       "(t) = 0, I₃⋅──(\\epsilon₃(t)) = 0⎟\n",
       "            dt                  ⎠"
      ]
     },
     "execution_count": 11,
     "metadata": {},
     "output_type": "execute_result"
    }
   ],
   "source": [
    "T1_sym_pert = T1_sym_pert.subs(omega1sym_pert*omega2sym_pert, 0).subs(omega1sym_pert*omega3sym_pert, 0).subs(omega2sym_pert*omega3sym_pert, 0)\n",
    "T2_sym_pert = T2_sym_pert.subs(omega1sym_pert*omega2sym_pert, 0).subs(omega1sym_pert*omega3sym_pert, 0).subs(omega2sym_pert*omega3sym_pert, 0)\n",
    "T3_sym_pert = T3_sym_pert.subs(omega1sym_pert*omega2sym_pert, 0).subs(omega1sym_pert*omega3sym_pert, 0).subs(omega2sym_pert*omega3sym_pert, 0)\n",
    "\n",
    "Eq(T1_sym_pert,0), Eq(T2_sym_pert,0), Eq(T3_sym_pert,0)"
   ]
  },
  {
   "cell_type": "code",
   "execution_count": 12,
   "metadata": {},
   "outputs": [
    {
     "data": {
      "text/latex": [
       "$\\displaystyle \\epsilon_{3}{\\left(t \\right)} = C_{1}$"
      ],
      "text/plain": [
       "\\epsilon₃(t) = C₁"
      ]
     },
     "execution_count": 12,
     "metadata": {},
     "output_type": "execute_result"
    }
   ],
   "source": [
    "dsolve(T3_sym_pert, 0)"
   ]
  },
  {
   "cell_type": "code",
   "execution_count": 13,
   "metadata": {},
   "outputs": [
    {
     "data": {
      "text/latex": [
       "$\\displaystyle I_{1} \\frac{d}{d t} \\epsilon_{1}{\\left(t \\right)} + h_{s} \\epsilon_{2}{\\left(t \\right)} = I_{2} \\frac{d}{d t} \\epsilon_{2}{\\left(t \\right)} - h_{s} \\epsilon_{1}{\\left(t \\right)}$"
      ],
      "text/plain": [
       "   d                                       d                                 \n",
       "I₁⋅──(\\epsilon₁(t)) + hₛ⋅\\epsilon₂(t) = I₂⋅──(\\epsilon₂(t)) - hₛ⋅\\epsilon₁(t)\n",
       "   dt                                      dt                                "
      ]
     },
     "execution_count": 13,
     "metadata": {},
     "output_type": "execute_result"
    }
   ],
   "source": [
    "Eq(T1_sym_pert, T2_sym_pert).simplify()\n"
   ]
  },
  {
   "cell_type": "code",
   "execution_count": 14,
   "metadata": {},
   "outputs": [
    {
     "data": {
      "text/latex": [
       "$\\displaystyle I_{1} \\frac{d^{2}}{d t^{2}} \\epsilon_{1}{\\left(t \\right)} + h_{s} \\frac{d}{d t} \\epsilon_{2}{\\left(t \\right)}$"
      ],
      "text/plain": [
       "     2                                    \n",
       "    d                     d               \n",
       "I₁⋅───(\\epsilon₁(t)) + hₛ⋅──(\\epsilon₂(t))\n",
       "     2                    dt              \n",
       "   dt                                     "
      ]
     },
     "execution_count": 14,
     "metadata": {},
     "output_type": "execute_result"
    }
   ],
   "source": [
    "Derivative(T1_sym_pert, Symbol('t')).simplify()"
   ]
  },
  {
   "cell_type": "code",
   "execution_count": 15,
   "metadata": {},
   "outputs": [
    {
     "data": {
      "text/latex": [
       "$\\displaystyle \\left[\\begin{matrix}\\epsilon_{1}{\\left(t \\right)} = \\frac{C_{1} e^{- h_{s} t \\sqrt{- \\frac{1}{I_{1} I_{2}}}}}{I_{1} \\sqrt{- \\frac{1}{I_{1} I_{2}}}} - \\frac{C_{2} e^{h_{s} t \\sqrt{- \\frac{1}{I_{1} I_{2}}}}}{I_{1} \\sqrt{- \\frac{1}{I_{1} I_{2}}}}\\\\\\epsilon_{2}{\\left(t \\right)} = C_{1} e^{- h_{s} t \\sqrt{- \\frac{1}{I_{1} I_{2}}}} + C_{2} e^{h_{s} t \\sqrt{- \\frac{1}{I_{1} I_{2}}}}\\end{matrix}\\right]$"
      ],
      "text/plain": [
       "⎡                             _______                _______⎤\n",
       "⎢                            ╱  -1                  ╱  -1   ⎥\n",
       "⎢                   -hₛ⋅t⋅  ╱  ─────        hₛ⋅t⋅  ╱  ───── ⎥\n",
       "⎢                         ╲╱   I₁⋅I₂             ╲╱   I₁⋅I₂ ⎥\n",
       "⎢               C₁⋅ℯ                    C₂⋅ℯ                ⎥\n",
       "⎢\\epsilon₁(t) = ───────────────────── - ────────────────────⎥\n",
       "⎢                          _______                _______   ⎥\n",
       "⎢                         ╱  -1                  ╱  -1      ⎥\n",
       "⎢                   I₁⋅  ╱  ─────          I₁⋅  ╱  ─────    ⎥\n",
       "⎢                      ╲╱   I₁⋅I₂             ╲╱   I₁⋅I₂    ⎥\n",
       "⎢                                                           ⎥\n",
       "⎢                             _______                _______⎥\n",
       "⎢                            ╱  -1                  ╱  -1   ⎥\n",
       "⎢                   -hₛ⋅t⋅  ╱  ─────        hₛ⋅t⋅  ╱  ───── ⎥\n",
       "⎢                         ╲╱   I₁⋅I₂             ╲╱   I₁⋅I₂ ⎥\n",
       "⎣\\epsilon₂(t) = C₁⋅ℯ                  + C₂⋅ℯ                ⎦"
      ]
     },
     "execution_count": 15,
     "metadata": {},
     "output_type": "execute_result"
    }
   ],
   "source": [
    "from sympy.solvers.ode.systems import dsolve_system\n",
    "\n",
    "eqs = [Eq(T1_sym_pert, 0), Eq(T2_sym_pert, 0)]\n",
    "Matrix(dsolve_system(eqs)[0])\n"
   ]
  }
 ],
 "metadata": {
  "interpreter": {
   "hash": "7bdadbcc745afc9ac1e1714124e1bb5770ee7d86d26de672bb194e9104174d2a"
  },
  "kernelspec": {
   "display_name": "Python 3.8.3 64-bit ('base': conda)",
   "language": "python",
   "name": "python3"
  },
  "language_info": {
   "codemirror_mode": {
    "name": "ipython",
    "version": 3
   },
   "file_extension": ".py",
   "mimetype": "text/x-python",
   "name": "python",
   "nbconvert_exporter": "python",
   "pygments_lexer": "ipython3",
   "version": "3.8.3"
  },
  "orig_nbformat": 4
 },
 "nbformat": 4,
 "nbformat_minor": 2
}
