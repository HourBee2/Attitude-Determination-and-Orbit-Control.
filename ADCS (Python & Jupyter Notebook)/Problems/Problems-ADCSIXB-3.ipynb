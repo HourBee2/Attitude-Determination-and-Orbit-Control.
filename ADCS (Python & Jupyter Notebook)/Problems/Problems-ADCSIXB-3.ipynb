{
 "cells": [
  {
   "cell_type": "code",
   "execution_count": 45,
   "metadata": {},
   "outputs": [],
   "source": [
    "#%% Import libraries\n",
    "import numpy as np\n",
    "from sympy import *\n",
    "# from sympy.physics.mechanics import ReferenceFrame\n",
    "from IPython.display import display, Latex, Math\n",
    "init_printing(use_latex='mathjax')\n",
    "\n",
    "from sys import path\n",
    "path.append(\n",
    "    \"c:\\\\Users\\\\diego\\\\Dropbox\\\\Academic\\\\MEng Space Systems\\\\3. DOCA\\\\ADCS functions\")\n",
    "import ADCS_Functions as adcs\n",
    "import ADCS_Functions_sym as adcs_sym"
   ]
  },
  {
   "cell_type": "markdown",
   "metadata": {},
   "source": [
    "___________________________________"
   ]
  },
  {
   "cell_type": "markdown",
   "metadata": {},
   "source": [
    "A spacecraft with a principal axes body-fixed frame b, has corresponding \n",
    "principal moments of inertia"
   ]
  },
  {
   "cell_type": "code",
   "execution_count": 46,
   "metadata": {},
   "outputs": [
    {
     "data": {
      "text/latex": [
       "$\\displaystyle \\begin{bmatrix}8&0&0\\\\0&12&0\\\\0&0&10\\\\\\end{bmatrix}$"
      ],
      "text/plain": [
       "<IPython.core.display.Math object>"
      ]
     },
     "metadata": {},
     "output_type": "display_data"
    }
   ],
   "source": [
    "I1 = 8  # kg*m^2\n",
    "I2 = 12  # kg*m^2\n",
    "I3 = 10  # kg*m^2\n",
    "\n",
    "I = np.array([[I1, 0, 0], [0, I2, 0], [0, 0, I3]])\n",
    "adcs.print_matrix(I)"
   ]
  },
  {
   "cell_type": "markdown",
   "metadata": {},
   "source": [
    "It is desired to spin the spacecraft about the principal z-axis with angular \n",
    "velocity $\\omega_z = 0.1 $ rad/s. \n",
    "\n",
    "Assuming that the spacecraft has the momentum \n",
    "wheel with spin-axis aligned with the principal z-axis, determine the required \n",
    "relative wheel angular momentum $h_s$, to make the desired attitude motion \n",
    "passively stable under torque-free conditions and without energy dissipation"
   ]
  },
  {
   "cell_type": "code",
   "execution_count": 47,
   "metadata": {},
   "outputs": [],
   "source": [
    "wz = 0.1 # rad/s"
   ]
  },
  {
   "cell_type": "markdown",
   "metadata": {},
   "source": [
    "__________________"
   ]
  },
  {
   "cell_type": "markdown",
   "metadata": {},
   "source": [
    "From lecture ADCS-IXB, for passive stability, we must either:\n",
    "\n",
    "$\\lambda>I_{2}$ and $\\lambda>I_{1}$ \n",
    "\n",
    "or \n",
    "\n",
    "$\\lambda<I_{2}$ and $\\lambda<I_{1}$\n",
    "\n",
    "where:"
   ]
  },
  {
   "cell_type": "code",
   "execution_count": 48,
   "metadata": {},
   "outputs": [
    {
     "data": {
      "text/latex": [
       "$\\displaystyle \\lambda = I_{3} + \\frac{h_{s}}{\\Omega}$"
      ],
      "text/plain": [
       "               hₛ\n",
       "\\lambda = I₃ + ──\n",
       "               Ω "
      ]
     },
     "execution_count": 48,
     "metadata": {},
     "output_type": "execute_result"
    }
   ],
   "source": [
    "# Initialize the symbolic variables\n",
    "omega1sim, omega2sim, omega3sim = symbols('\\omega_1 \\omega_2 \\omega_3')\n",
    "dotomega1sim, dotomega2sim, dotomega3sim = symbols(\n",
    "    '\\dot{\\omega}_1 \\dot{\\omega}_2 \\dot{\\omega}_3')\n",
    "\n",
    "I1_sym, I2_sym, I3_sym = symbols('I1, I2, I3')\n",
    "hs_sym = symbols('h_s')\n",
    "Omega_sym = symbols('Omega')\n",
    "\n",
    "# Initialize the symbolic equation for lambda\n",
    "lambd_sym = I3_sym + hs_sym / Omega_sym\n",
    "Eq(Symbol('\\lambda'), lambd_sym)\n"
   ]
  },
  {
   "cell_type": "code",
   "execution_count": 49,
   "metadata": {},
   "outputs": [
    {
     "data": {
      "text/latex": [
       "$\\displaystyle \\left( I_{1} \\dot{\\omega}_1 - \\omega_{2} \\omega_{3} \\left(I_{2} - I_{3}\\right), \\  I_{2} \\dot{\\omega}_2 - \\omega_{1} \\omega_{3} \\left(- I_{1} + I_{3}\\right), \\  I_{3} \\dot{\\omega}_3 - \\omega_{1} \\omega_{2} \\left(I_{1} - I_{2}\\right)\\right)$"
      ],
      "text/plain": [
       "(I₁⋅\\dot{\\omega}₁ - \\omega₂⋅\\omega₃⋅(I₂ - I₃), I₂⋅\\dot{\\omega}₂ - \\omega₁⋅\\ome\n",
       "ga₃⋅(-I₁ + I₃), I₃⋅\\dot{\\omega}₃ - \\omega₁⋅\\omega₂⋅(I₁ - I₂))"
      ]
     },
     "execution_count": 49,
     "metadata": {},
     "output_type": "execute_result"
    }
   ],
   "source": [
    "# From Euler's equations\n",
    "T1_sym = (I1_sym*dotomega1sim - (I2_sym - I3_sym)*omega2sim*omega3sim)\n",
    "T2_sym = (I2_sym*dotomega2sim - (I3_sym - I1_sym)*omega3sim*omega1sim)\n",
    "T3_sym = (I3_sym*dotomega3sim - (I1_sym - I2_sym)*omega1sim*omega2sim)\n",
    "\n",
    "T1_sym, T2_sym, T3_sym"
   ]
  },
  {
   "cell_type": "code",
   "execution_count": 50,
   "metadata": {},
   "outputs": [
    {
     "data": {
      "text/latex": [
       "$\\displaystyle \\left( I_{1} \\dot{\\omega}_1 - I_{2} \\omega_{2} \\omega_{3} + \\omega_{2} \\left(I_{3} \\omega_{3} + h_{s}\\right), \\  I_{1} \\omega_{1} \\omega_{3} + I_{2} \\dot{\\omega}_2 - \\omega_{1} \\left(I_{3} \\omega_{3} + h_{s}\\right), \\  - I_{1} \\omega_{1} \\omega_{2} + I_{2} \\omega_{1} \\omega_{2} + I_{3} \\dot{\\omega}_3\\right)$"
      ],
      "text/plain": [
       "(I₁⋅\\dot{\\omega}₁ - I₂⋅\\omega₂⋅\\omega₃ + \\omega₂⋅(I₃⋅\\omega₃ + hₛ), I₁⋅\\omega₁\n",
       "⋅\\omega₃ + I₂⋅\\dot{\\omega}₂ - \\omega₁⋅(I₃⋅\\omega₃ + hₛ), -I₁⋅\\omega₁⋅\\omega₂ +\n",
       " I₂⋅\\omega₁⋅\\omega₂ + I₃⋅\\dot{\\omega}₃)"
      ]
     },
     "execution_count": 50,
     "metadata": {},
     "output_type": "execute_result"
    }
   ],
   "source": [
    "T_sym = adcs_sym.eq_torquefree_motion(3)\n",
    "T1_sym = T_sym[0]\n",
    "T2_sym = T_sym[1]\n",
    "T3_sym = T_sym[2]\n",
    "\n",
    "T1_sym, T2_sym, T3_sym\n"
   ]
  },
  {
   "cell_type": "markdown",
   "metadata": {},
   "source": [
    "From first condition for stability:"
   ]
  },
  {
   "cell_type": "code",
   "execution_count": 51,
   "metadata": {},
   "outputs": [
    {
     "data": {
      "text/latex": [
       "$\\displaystyle \\left( \\omega_{2} \\left(h_{s} - 0.2\\right) < 0, \\  - \\omega_{1} \\left(h_{s} + 0.2\\right) < 0\\right)$"
      ],
      "text/plain": [
       "(\\omega₂⋅(hₛ - 0.2) < 0, -\\omega₁⋅(hₛ + 0.2) < 0)"
      ]
     },
     "execution_count": 51,
     "metadata": {},
     "output_type": "execute_result"
    }
   ],
   "source": [
    "# Substitute values for:\n",
    "    # inertia = I1, I2\n",
    "    # dot angular velocity x and y = dotomega1sim, dotomega2sim = 0, 0 <- the spacecraft is not rotating in the x, y directions. Only in z direction\n",
    "T1_sym = T1_sym.subs(omega3sim,wz).subs(I2_sym, I2).subs(I3_sym, I3).subs(I1_sym, I1).subs(dotomega1sim, 0).subs(dotomega2sim, 0).simplify()\n",
    "T2_sym = T2_sym.subs(omega3sim, wz).subs(I2_sym, I2).subs(I3_sym, I3).subs(I1_sym, I1).subs(dotomega1sim, 0).subs(dotomega2sim, 0).simplify()\n",
    "\n",
    "(0 > T1_sym), (0 > T2_sym)\n"
   ]
  },
  {
   "cell_type": "code",
   "execution_count": 52,
   "metadata": {},
   "outputs": [
    {
     "data": {
      "text/latex": [
       "$\\displaystyle \\left( \\left[ 0.2\\right], \\  \\left[ -0.2\\right]\\right)$"
      ],
      "text/plain": [
       "([0.2], [-0.2])"
      ]
     },
     "execution_count": 52,
     "metadata": {},
     "output_type": "execute_result"
    }
   ],
   "source": [
    "solve(T1_sym, hs_sym), solve(T2_sym, hs_sym)"
   ]
  },
  {
   "cell_type": "markdown",
   "metadata": {},
   "source": [
    "From first condition for stability:\n",
    "\n",
    "$h_s \\gt 0.2$ N.m.s, $\\hspace 1em$ $h_s \\gt -0.2$ N.m.s.\n",
    "\n",
    "Therfore, for passive stability we take the largest equivalence and hence: $h_s \\gt 0.2$ N.m.s"
   ]
  },
  {
   "cell_type": "markdown",
   "metadata": {},
   "source": [
    "-------------------"
   ]
  },
  {
   "cell_type": "markdown",
   "metadata": {},
   "source": [
    "From second condition for stability:\n",
    "\n",
    "Using the same T1_sym and T2_sym as before:\n",
    "\n",
    "$h_s \\lt 0.2$ N.m.s, $\\hspace 1em$ $h_s \\lt -0.2$ N.m.s.\n",
    "\n",
    "Therfore, for passive stability we take the smallest equivalence and hence: $h_s \\lt -0.2$ N.m.s"
   ]
  }
 ],
 "metadata": {
  "interpreter": {
   "hash": "7bdadbcc745afc9ac1e1714124e1bb5770ee7d86d26de672bb194e9104174d2a"
  },
  "kernelspec": {
   "display_name": "Python 3.8.3 64-bit ('base': conda)",
   "language": "python",
   "name": "python3"
  },
  "language_info": {
   "codemirror_mode": {
    "name": "ipython",
    "version": 3
   },
   "file_extension": ".py",
   "mimetype": "text/x-python",
   "name": "python",
   "nbconvert_exporter": "python",
   "pygments_lexer": "ipython3",
   "version": "3.8.3"
  },
  "orig_nbformat": 4
 },
 "nbformat": 4,
 "nbformat_minor": 2
}
