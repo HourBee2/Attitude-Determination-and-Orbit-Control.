{
 "cells": [
  {
   "cell_type": "code",
   "execution_count": 1,
   "metadata": {},
   "outputs": [],
   "source": [
    "import math\n",
    "from sympy import *\n",
    "from sympy.physics.mechanics import ReferenceFrame\n",
    "init_printing(use_latex='mathjax')\n",
    "\n",
    "import sys\n",
    "sys.path.append(\n",
    "   \"c:\\\\Users\\\\diego\\\\Dropbox\\\\Academic\\\\MEng Space Systems\\\\3. DOCA\\\\ADCS functions\")\n",
    "import ADCS_Functions as adcs\n",
    "import ADCS_Functions_sym as adcs_sym"
   ]
  },
  {
   "cell_type": "code",
   "execution_count": 2,
   "metadata": {},
   "outputs": [
    {
     "data": {
      "text/latex": [
       "$\\displaystyle \\left( \\mu, \\  \\gamma, \\  \\psi\\right)$"
      ],
      "text/plain": [
       "(μ, γ, ψ)"
      ]
     },
     "execution_count": 2,
     "metadata": {},
     "output_type": "execute_result"
    }
   ],
   "source": [
    "## Define symbols\n",
    "x, y, z = symbols('mu gamma psi')\n",
    "x,y,z\n",
    "\n",
    "# Could also define as:\n",
    "# x, y, z = symbols(\"theta_1 theta_2 theta_3\")\n",
    "# dotx, doty, dotz = symbols(r\"\\dot{\\theta_1} \\dot{\\theta_2} \\dot{\\theta_3}\")"
   ]
  },
  {
   "cell_type": "code",
   "execution_count": 3,
   "metadata": {},
   "outputs": [],
   "source": [
    "## Elementary rotation matrices Functions:\n",
    "\n",
    "def C1(angle):\n",
    "    x = symbols('x')\n",
    "    Rx = Matrix([\n",
    "        [1, 0, 0],\n",
    "        [0, cos(x), sin(x)],\n",
    "        [0, -sin(x), cos(x)]])\n",
    "    return Rx.subs(x, angle)\n",
    "\n",
    "\n",
    "def C2(angle):\n",
    "    y = symbols('y')\n",
    "    Ry = Matrix([\n",
    "        [cos(y), 0, -sin(y)],\n",
    "        [0,  1, 0],\n",
    "        [sin(y), 0, cos(y)]])\n",
    "    return Ry.subs(y, angle)\n",
    "\n",
    "\n",
    "def C3(angle):\n",
    "    z = symbols('z')\n",
    "    Rz = Matrix([\n",
    "        [cos(z), sin(z), 0],\n",
    "        [-sin(z),  cos(z), 0],\n",
    "        [0,    0, 1]])\n",
    "    return Rz.subs(z, angle)\n"
   ]
  },
  {
   "cell_type": "code",
   "execution_count": 4,
   "metadata": {},
   "outputs": [],
   "source": [
    "class IJKReferenceFrame(ReferenceFrame):\n",
    "    def __init__(self, name):\n",
    "        super().__init__(name, latexs=['\\mathbf{%s}_{%s}' % (\n",
    "            idx, name) for idx in (\"i\", \"j\", \"k\")])\n",
    "        self.i = self.x\n",
    "        self.j = self.y\n",
    "        self.k = self.z"
   ]
  },
  {
   "cell_type": "markdown",
   "metadata": {},
   "source": [
    "## 3-2-3 Euler angles rotation matrices\n",
    "Find the Euler rotation matrix C21 in terms of 3-2-3 Euler angles rotation sequence, with angles ϴ1, ϴ2, ϴ3. Specifically, frame 2 is obtained from frame 1 by:\n",
    "\n",
    " - A rotation ϴ1 about the z-axis (3-axis) of frame 1,\n",
    " - a rotation ϴ2 about the y-axis (2-axis) of intermediate frame,\n",
    " - a rotation ϴ3 about the z-axis (3-axis) of the transformed frame."
   ]
  },
  {
   "cell_type": "code",
   "execution_count": 5,
   "metadata": {},
   "outputs": [
    {
     "data": {
      "text/latex": [
       "$\\displaystyle \\left[\\begin{matrix}- \\sin{\\left(\\mu \\right)} \\sin{\\left(\\psi \\right)} + \\cos{\\left(\\gamma \\right)} \\cos{\\left(\\mu \\right)} \\cos{\\left(\\psi \\right)} & \\sin{\\left(\\mu \\right)} \\cos{\\left(\\gamma \\right)} \\cos{\\left(\\psi \\right)} + \\sin{\\left(\\psi \\right)} \\cos{\\left(\\mu \\right)} & - \\sin{\\left(\\gamma \\right)} \\cos{\\left(\\psi \\right)}\\\\- \\sin{\\left(\\mu \\right)} \\cos{\\left(\\psi \\right)} - \\sin{\\left(\\psi \\right)} \\cos{\\left(\\gamma \\right)} \\cos{\\left(\\mu \\right)} & - \\sin{\\left(\\mu \\right)} \\sin{\\left(\\psi \\right)} \\cos{\\left(\\gamma \\right)} + \\cos{\\left(\\mu \\right)} \\cos{\\left(\\psi \\right)} & \\sin{\\left(\\gamma \\right)} \\sin{\\left(\\psi \\right)}\\\\\\sin{\\left(\\gamma \\right)} \\cos{\\left(\\mu \\right)} & \\sin{\\left(\\gamma \\right)} \\sin{\\left(\\mu \\right)} & \\cos{\\left(\\gamma \\right)}\\end{matrix}\\right]$"
      ],
      "text/plain": [
       "⎡-sin(μ)⋅sin(ψ) + cos(γ)⋅cos(μ)⋅cos(ψ)  sin(μ)⋅cos(γ)⋅cos(ψ) + sin(ψ)⋅cos(μ)  \n",
       "⎢                                                                             \n",
       "⎢-sin(μ)⋅cos(ψ) - sin(ψ)⋅cos(γ)⋅cos(μ)  -sin(μ)⋅sin(ψ)⋅cos(γ) + cos(μ)⋅cos(ψ) \n",
       "⎢                                                                             \n",
       "⎣            sin(γ)⋅cos(μ)                          sin(γ)⋅sin(μ)             \n",
       "\n",
       " -sin(γ)⋅cos(ψ)⎤\n",
       "               ⎥\n",
       " sin(γ)⋅sin(ψ) ⎥\n",
       "               ⎥\n",
       "     cos(γ)    ⎦"
      ]
     },
     "execution_count": 5,
     "metadata": {},
     "output_type": "execute_result"
    }
   ],
   "source": [
    "# 3-2-3 Euler angles rotation matrices\n",
    "\n",
    "# Ctot(x,y,z) = C3(x) * C2(y) * C3(z)\n",
    "\n",
    "C3_x = C3(x)\n",
    "C2_y = C2(y)\n",
    "C3_z = C3(z)\n",
    "\n",
    "R_zyz = C3_z * C2_y * C3_x\n",
    "R_zyz"
   ]
  },
  {
   "cell_type": "code",
   "execution_count": 6,
   "metadata": {},
   "outputs": [
    {
     "data": {
      "text/latex": [
       "$\\displaystyle \\left[\\begin{matrix}- \\sin{\\left(x \\right)} \\sin{\\left(z \\right)} + \\cos{\\left(x \\right)} \\cos{\\left(y \\right)} \\cos{\\left(z \\right)} & \\sin{\\left(x \\right)} \\cos{\\left(y \\right)} \\cos{\\left(z \\right)} + \\sin{\\left(z \\right)} \\cos{\\left(x \\right)} & - \\sin{\\left(y \\right)} \\cos{\\left(z \\right)}\\\\- \\sin{\\left(x \\right)} \\cos{\\left(z \\right)} - \\sin{\\left(z \\right)} \\cos{\\left(x \\right)} \\cos{\\left(y \\right)} & - \\sin{\\left(x \\right)} \\sin{\\left(z \\right)} \\cos{\\left(y \\right)} + \\cos{\\left(x \\right)} \\cos{\\left(z \\right)} & \\sin{\\left(y \\right)} \\sin{\\left(z \\right)}\\\\\\sin{\\left(y \\right)} \\cos{\\left(x \\right)} & \\sin{\\left(x \\right)} \\sin{\\left(y \\right)} & \\cos{\\left(y \\right)}\\end{matrix}\\right]$"
      ],
      "text/plain": [
       "⎡-sin(x)⋅sin(z) + cos(x)⋅cos(y)⋅cos(z)  sin(x)⋅cos(y)⋅cos(z) + sin(z)⋅cos(x)  \n",
       "⎢                                                                             \n",
       "⎢-sin(x)⋅cos(z) - sin(z)⋅cos(x)⋅cos(y)  -sin(x)⋅sin(z)⋅cos(y) + cos(x)⋅cos(z) \n",
       "⎢                                                                             \n",
       "⎣            sin(y)⋅cos(x)                          sin(x)⋅sin(y)             \n",
       "\n",
       " -sin(y)⋅cos(z)⎤\n",
       "               ⎥\n",
       " sin(y)⋅sin(z) ⎥\n",
       "               ⎥\n",
       "     cos(y)    ⎦"
      ]
     },
     "execution_count": 6,
     "metadata": {},
     "output_type": "execute_result"
    }
   ],
   "source": [
    "# Or using the library:\n",
    "adcs_sym.DCM('sim', 3, 2, 3)"
   ]
  },
  {
   "cell_type": "markdown",
   "metadata": {},
   "source": [
    "_______________________\n",
    "\n",
    "#### Examples from the lecture using the library:"
   ]
  },
  {
   "cell_type": "code",
   "execution_count": 7,
   "metadata": {},
   "outputs": [
    {
     "data": {
      "text/latex": [
       "$\\displaystyle \\left[\\begin{matrix}\\cos{\\left(y \\right)} \\cos{\\left(z \\right)} & \\sin{\\left(z \\right)} \\cos{\\left(y \\right)} & - \\sin{\\left(y \\right)}\\\\\\sin{\\left(x \\right)} \\sin{\\left(y \\right)} \\cos{\\left(z \\right)} - \\sin{\\left(z \\right)} \\cos{\\left(x \\right)} & \\sin{\\left(x \\right)} \\sin{\\left(y \\right)} \\sin{\\left(z \\right)} + \\cos{\\left(x \\right)} \\cos{\\left(z \\right)} & \\sin{\\left(x \\right)} \\cos{\\left(y \\right)}\\\\\\sin{\\left(x \\right)} \\sin{\\left(z \\right)} + \\sin{\\left(y \\right)} \\cos{\\left(x \\right)} \\cos{\\left(z \\right)} & - \\sin{\\left(x \\right)} \\cos{\\left(z \\right)} + \\sin{\\left(y \\right)} \\sin{\\left(z \\right)} \\cos{\\left(x \\right)} & \\cos{\\left(x \\right)} \\cos{\\left(y \\right)}\\end{matrix}\\right]$"
      ],
      "text/plain": [
       "⎡           cos(y)⋅cos(z)                          sin(z)⋅cos(y)              \n",
       "⎢                                                                             \n",
       "⎢sin(x)⋅sin(y)⋅cos(z) - sin(z)⋅cos(x)  sin(x)⋅sin(y)⋅sin(z) + cos(x)⋅cos(z)   \n",
       "⎢                                                                             \n",
       "⎣sin(x)⋅sin(z) + sin(y)⋅cos(x)⋅cos(z)  -sin(x)⋅cos(z) + sin(y)⋅sin(z)⋅cos(x)  \n",
       "\n",
       "   -sin(y)   ⎤\n",
       "             ⎥\n",
       "sin(x)⋅cos(y)⎥\n",
       "             ⎥\n",
       "cos(x)⋅cos(y)⎦"
      ]
     },
     "execution_count": 7,
     "metadata": {},
     "output_type": "execute_result"
    }
   ],
   "source": [
    "# Example 3-2-1 as in slide 35 of Lecture 6:\n",
    "\n",
    "adcs_sym.DCM('sim', 3, 2, 1, invorder=True)"
   ]
  },
  {
   "cell_type": "code",
   "execution_count": 8,
   "metadata": {},
   "outputs": [
    {
     "data": {
      "text/latex": [
       "$\\displaystyle \\left[\\begin{matrix}- \\sin{\\left(x \\right)} \\sin{\\left(z \\right)} \\cos{\\left(y \\right)} + \\cos{\\left(x \\right)} \\cos{\\left(z \\right)} & \\sin{\\left(x \\right)} \\cos{\\left(y \\right)} \\cos{\\left(z \\right)} + \\sin{\\left(z \\right)} \\cos{\\left(x \\right)} & \\sin{\\left(x \\right)} \\sin{\\left(y \\right)}\\\\- \\sin{\\left(x \\right)} \\cos{\\left(z \\right)} - \\sin{\\left(z \\right)} \\cos{\\left(x \\right)} \\cos{\\left(y \\right)} & - \\sin{\\left(x \\right)} \\sin{\\left(z \\right)} + \\cos{\\left(x \\right)} \\cos{\\left(y \\right)} \\cos{\\left(z \\right)} & \\sin{\\left(y \\right)} \\cos{\\left(x \\right)}\\\\\\sin{\\left(y \\right)} \\sin{\\left(z \\right)} & - \\sin{\\left(y \\right)} \\cos{\\left(z \\right)} & \\cos{\\left(y \\right)}\\end{matrix}\\right]$"
      ],
      "text/plain": [
       "⎡-sin(x)⋅sin(z)⋅cos(y) + cos(x)⋅cos(z)  sin(x)⋅cos(y)⋅cos(z) + sin(z)⋅cos(x)  \n",
       "⎢                                                                             \n",
       "⎢-sin(x)⋅cos(z) - sin(z)⋅cos(x)⋅cos(y)  -sin(x)⋅sin(z) + cos(x)⋅cos(y)⋅cos(z) \n",
       "⎢                                                                             \n",
       "⎣            sin(y)⋅sin(z)                         -sin(y)⋅cos(z)             \n",
       "\n",
       " sin(x)⋅sin(y)⎤\n",
       "              ⎥\n",
       " sin(y)⋅cos(x)⎥\n",
       "              ⎥\n",
       "    cos(y)    ⎦"
      ]
     },
     "execution_count": 8,
     "metadata": {},
     "output_type": "execute_result"
    }
   ],
   "source": [
    "# Example 3-1-3 as in slide 33 of Lecture 6:\n",
    "\n",
    "adcs_sym.DCM('sim', 3, 1, 3, invorder=True)\n"
   ]
  },
  {
   "cell_type": "markdown",
   "metadata": {},
   "source": [
    "#### End of examples from the lecture using the library.\n",
    "____________________"
   ]
  },
  {
   "cell_type": "markdown",
   "metadata": {},
   "source": [
    "### Find from the 3-2-3 Euler rotation matrix the appropriate Euler angles\n",
    "\n",
    "You can get this by looking at the matrix:\n",
    "1. Since $R_{zyz}$[2,2] = cos($\\gamma$) -> $\\gamma$ = $cos^{-1}$($R_{zyz}$[2,2])\n",
    "2. Then you can get $\\mu$ by doing $\\frac{R_{zyz}[2,1]}{R_{zyz}[2,0]}$. Therefore, you get $tan(\\mu)$ = $\\frac{R_{zyz}[2,1]}{R_{zyz}[2,0]}$\n",
    "3. Similarly, you can get $\\psi$ by doing $\\frac{R_{zyz}[1,2]}{R_{zyz}[0,2]}$\n",
    "\n",
    "Note that the notation used for indices corresponds to that of Python"
   ]
  },
  {
   "cell_type": "code",
   "execution_count": 9,
   "metadata": {},
   "outputs": [
    {
     "data": {
      "text/latex": [
       "$\\displaystyle \\left( \\operatorname{atan}{\\left(\\tan{\\left(\\mu \\right)} \\right)}, \\  \\operatorname{acos}{\\left(\\cos{\\left(\\gamma \\right)} \\right)}, \\  \\operatorname{atan}{\\left(\\tan{\\left(\\psi \\right)} \\right)}\\right)$"
      ],
      "text/plain": [
       "(atan(tan(μ)), acos(cos(γ)), atan(tan(ψ)))"
      ]
     },
     "execution_count": 9,
     "metadata": {},
     "output_type": "execute_result"
    }
   ],
   "source": [
    "x = trigsimp(atan(R_zyz[2, 1] / R_zyz[2, 0]))\n",
    "y = trigsimp(acos(R_zyz[2, 2]))\n",
    "z = -trigsimp(atan(R_zyz[1, 2] / R_zyz[0, 2]))\n",
    "x,y,z"
   ]
  },
  {
   "cell_type": "markdown",
   "metadata": {},
   "source": [
    "### For the 3-2-3 Euler sequence, derive the kinematic differential equation"
   ]
  },
  {
   "cell_type": "markdown",
   "metadata": {},
   "source": [
    "To do this start from the fact that the sequence is:   $C_3(\\theta_3)$ $\\leftarrow$ $C_2(\\theta_2)$ $\\leftarrow$ $C_3(\\theta_1)$\n",
    "\n",
    "We then know that:\n",
    "\n",
    "- $C_3(\\theta_1)$: $A' \\leftarrow A$: $\\hspace{1em}$ $\\vec{\\omega}^{A'/A}$\n",
    "- $C_2(\\theta_2)$: $A'' \\leftarrow A'$: $\\hspace{1em}$ $\\vec{\\omega}^{A''/A'}$\n",
    "- $C_3(\\theta_3)$: $B \\leftarrow A''$: $\\hspace{1em}$ $\\vec{\\omega}^{B/A''}$\n",
    "\n",
    "And that:\n",
    "\n",
    "- $\\vec{\\omega}^{A'/A}$ = $\\dot{\\theta_1} \\vec{a_3}$ = $\\dot{\\theta_1} \\vec{a'_3}$\n",
    "- $\\vec{\\omega}^{A''/A'}$ = $\\dot{\\theta_2} \\vec{a'_2}$ = $\\dot{\\theta_2} \\vec{a''_2}$\n",
    "- $\\vec{\\omega}^{B/A''}$ = $\\dot{\\theta_3} \\vec{a''_1}$ = $\\dot{\\theta_3} \\vec{b_1}$\n",
    "\n",
    "Also: $\\hspace{1em}$ $\\vec{\\omega}^{B/A} = \\vec{\\omega}^{B/A''}+\\vec{\\omega}^{A''/A'}+\\vec{\\omega}^{A'/A}$ = $\\dot{\\theta_3} \\vec{b_1} + \\dot{\\theta_2} \\vec{a''_2} + \\dot{\\theta_1} \\vec{a'_3}$\n",
    "\n",
    "Therefore,\n",
    "\n",
    "$\\vec{\\omega}^{B/A} = \\begin{bmatrix} \\vec{b_1} & \\vec{b_2} & \\vec{b_3} \\end{bmatrix} \\begin{bmatrix} 0 \\\\ 0 \\\\ \\dot{\\theta_3} \\end{bmatrix} + \n",
    "                      \\begin{bmatrix} \\vec{a''_1} & \\vec{a''_2} & \\vec{a''_3} \\end{bmatrix} \\begin{bmatrix} 0 \\\\ \\dot{\\theta_2} \\\\ 0 \\end{bmatrix} +\n",
    "                      \\begin{bmatrix} \\vec{a'_1} & \\vec{a'_2} & \\vec{a'_3} \\end{bmatrix} \\begin{bmatrix} 0 \\\\ 0 \\\\ \\dot{\\theta_1} \\end{bmatrix}$\n",
    "\n",
    "And since we know that:\n",
    "\n",
    "- $\\begin{bmatrix} \\vec{a''_1} & \\vec{a''_2} & \\vec{a''_3} \\end{bmatrix} = \\begin{bmatrix} \\vec{b_1} & \\vec{b_2} & \\vec{b_3} \\end{bmatrix} C_3(\\theta_3)$\n",
    "- $\\begin{bmatrix} \\vec{a'_1} & \\vec{a'_2} & \\vec{a'_3} \\end{bmatrix} = \\begin{bmatrix} \\vec{b_1} & \\vec{b_2} & \\vec{b_3} \\end{bmatrix} C_3(\\theta_3) C_2(\\theta_2)$\n",
    "\n",
    "And by definition:\n",
    "\n",
    "$\\vec{\\omega}^{B/A} = \\omega_1 \\vec{b_1} + \\omega_2 \\vec{b_2} + \\omega_3 \\vec{b_3}$\n",
    "\n",
    "We get:\n",
    "\n",
    "$\\begin{bmatrix} \\omega_1 \\\\ \\omega_2 \\\\ \\omega_3 \\end{bmatrix} = \\begin{bmatrix} 0 \\\\ 0 \\\\ \\dot{\\theta_3} \\end{bmatrix} + \n",
    "                      C_3(\\theta_3) \\begin{bmatrix} 0 \\\\ \\dot{\\theta_2} \\\\ 0 \\end{bmatrix} +\n",
    "                      C_3(\\theta_3) C_2(\\theta_2) \\begin{bmatrix} 0 \\\\ 0 \\\\ \\dot{\\theta_1} \\end{bmatrix}$\n",
    "\n"
   ]
  },
  {
   "cell_type": "code",
   "execution_count": 10,
   "metadata": {},
   "outputs": [
    {
     "data": {
      "text/latex": [
       "$\\displaystyle \\left[\\begin{matrix}- \\dot{\\theta_1} \\sin{\\left(\\theta_{2} \\right)} \\cos{\\left(\\theta_{3} \\right)} + \\dot{\\theta_2} \\sin{\\left(\\theta_{3} \\right)}\\\\\\dot{\\theta_1} \\sin{\\left(\\theta_{2} \\right)} \\sin{\\left(\\theta_{3} \\right)} + \\dot{\\theta_2} \\cos{\\left(\\theta_{3} \\right)}\\\\\\dot{\\theta_1} \\cos{\\left(\\theta_{2} \\right)} + \\dot{\\theta_3}\\end{matrix}\\right]$"
      ],
      "text/plain": [
       "⎡-\\dot{\\theta_1}⋅sin(θ₂)⋅cos(θ₃) + \\dot{\\theta_2}⋅sin(θ₃)⎤\n",
       "⎢                                                        ⎥\n",
       "⎢\\dot{\\theta_1}⋅sin(θ₂)⋅sin(θ₃) + \\dot{\\theta_2}⋅cos(θ₃) ⎥\n",
       "⎢                                                        ⎥\n",
       "⎣        \\dot{\\theta_1}⋅cos(θ₂) + \\dot{\\theta_3}         ⎦"
      ]
     },
     "execution_count": 10,
     "metadata": {},
     "output_type": "execute_result"
    }
   ],
   "source": [
    "#x, y, z = symbols('mu gamma psi')\n",
    "\n",
    "#dotx, doty, dotz = symbols('\\dot{\\mu} \\dot{\\gamma} \\dot{\\psi}')\n",
    "#omegax, omegay, omegaz = symbols('\\omega_mu \\omega_gamma \\omega_psi')\n",
    "\n",
    "x, y, z = symbols(\"theta_1 theta_2 theta_3\")\n",
    "dotx, doty, dotz = symbols(r\"\\dot{\\theta_1} \\dot{\\theta_2} \\dot{\\theta_3}\")\n",
    "\n",
    "\n",
    "matrix = simplify(Matrix([0, 0, dotz])) + C3(z)*(Matrix([0, doty, 0])) + \\\n",
    "    C3(z) * C2(y) * (Matrix([0, 0, dotx]))\n",
    "matrix\n"
   ]
  },
  {
   "cell_type": "code",
   "execution_count": 11,
   "metadata": {},
   "outputs": [],
   "source": [
    "def get_matrix_terms(matrix, dotx, doty, dotz):\n",
    "    \"\"\"\n",
    "    Expand the terms of a 3x1 matrix into a 3x3 matrix(with the coefficients).\n",
    "    Example use: When deriving the kinematic differential equation get the coefficients of the \n",
    "                 3x1 matrix containing the angular velocity components (dotx, doty, dotz)\n",
    "    \"\"\"\n",
    "    return Matrix([\n",
    "        [matrix[0].coeff(dotx), matrix[0].coeff(doty), matrix[0].coeff(dotz)],\n",
    "        [matrix[1].coeff(dotx), matrix[1].coeff(doty), matrix[1].coeff(dotz)],\n",
    "        [matrix[2].coeff(dotx), matrix[2].coeff(doty), matrix[2].coeff(dotz)]])\n"
   ]
  },
  {
   "cell_type": "code",
   "execution_count": 12,
   "metadata": {},
   "outputs": [
    {
     "data": {
      "text/latex": [
       "$\\displaystyle \\left[\\begin{matrix}- \\sin{\\left(\\theta_{2} \\right)} \\cos{\\left(\\theta_{3} \\right)} & \\sin{\\left(\\theta_{3} \\right)} & 0\\\\\\sin{\\left(\\theta_{2} \\right)} \\sin{\\left(\\theta_{3} \\right)} & \\cos{\\left(\\theta_{3} \\right)} & 0\\\\\\cos{\\left(\\theta_{2} \\right)} & 0 & 1\\end{matrix}\\right]$"
      ],
      "text/plain": [
       "⎡-sin(θ₂)⋅cos(θ₃)  sin(θ₃)  0⎤\n",
       "⎢                            ⎥\n",
       "⎢sin(θ₂)⋅sin(θ₃)   cos(θ₃)  0⎥\n",
       "⎢                            ⎥\n",
       "⎣    cos(θ₂)          0     1⎦"
      ]
     },
     "execution_count": 12,
     "metadata": {},
     "output_type": "execute_result"
    }
   ],
   "source": [
    "matrix = get_matrix_terms(matrix, dotx, doty, dotz)\n",
    "matrix"
   ]
  },
  {
   "cell_type": "markdown",
   "metadata": {},
   "source": [
    "To get this in the form that is in the class examples, put it in the form [3x3 Matrix] = [dox, doty, dotz].T"
   ]
  },
  {
   "cell_type": "markdown",
   "metadata": {},
   "source": [
    "_______________________________________"
   ]
  },
  {
   "cell_type": "markdown",
   "metadata": {},
   "source": [
    "Note! Example for 3-2-1 Euler angles \n",
    "\n",
    "STARTS HERE:"
   ]
  },
  {
   "cell_type": "code",
   "execution_count": 14,
   "metadata": {},
   "outputs": [
    {
     "data": {
      "text/latex": [
       "$\\displaystyle \\left[\\begin{matrix}\\dot{\\theta_1} - \\dot{\\theta_3} \\sin{\\left(\\theta_{2} \\right)}\\\\\\dot{\\theta_2} \\cos{\\left(\\theta_{1} \\right)} + \\dot{\\theta_3} \\sin{\\left(\\theta_{1} \\right)} \\cos{\\left(\\theta_{2} \\right)}\\\\- \\dot{\\theta_2} \\sin{\\left(\\theta_{1} \\right)} + \\dot{\\theta_3} \\cos{\\left(\\theta_{1} \\right)} \\cos{\\left(\\theta_{2} \\right)}\\end{matrix}\\right]$"
      ],
      "text/plain": [
       "⎡        \\dot{\\theta_1} - \\dot{\\theta_3}⋅sin(θ₂)         ⎤\n",
       "⎢                                                        ⎥\n",
       "⎢\\dot{\\theta_2}⋅cos(θ₁) + \\dot{\\theta_3}⋅sin(θ₁)⋅cos(θ₂) ⎥\n",
       "⎢                                                        ⎥\n",
       "⎣-\\dot{\\theta_2}⋅sin(θ₁) + \\dot{\\theta_3}⋅cos(θ₁)⋅cos(θ₂)⎦"
      ]
     },
     "execution_count": 14,
     "metadata": {},
     "output_type": "execute_result"
    }
   ],
   "source": [
    "# Example for 3-2-1 Euler angles\n",
    "ex = simplify((Matrix([dotx, 0, 0])) + C1(x)*(Matrix([0, doty, 0])) +\n",
    "         C1(x) * C2(y) * (Matrix([0, 0, dotz])))\n",
    "ex"
   ]
  },
  {
   "cell_type": "code",
   "execution_count": 15,
   "metadata": {},
   "outputs": [
    {
     "data": {
      "text/latex": [
       "$\\displaystyle \\left[\\begin{matrix}1 & 0 & - \\sin{\\left(\\theta_{2} \\right)}\\\\0 & \\cos{\\left(\\theta_{1} \\right)} & \\sin{\\left(\\theta_{1} \\right)} \\cos{\\left(\\theta_{2} \\right)}\\\\0 & - \\sin{\\left(\\theta_{1} \\right)} & \\cos{\\left(\\theta_{1} \\right)} \\cos{\\left(\\theta_{2} \\right)}\\end{matrix}\\right]$"
      ],
      "text/plain": [
       "⎡1     0         -sin(θ₂)    ⎤\n",
       "⎢                            ⎥\n",
       "⎢0  cos(θ₁)   sin(θ₁)⋅cos(θ₂)⎥\n",
       "⎢                            ⎥\n",
       "⎣0  -sin(θ₁)  cos(θ₁)⋅cos(θ₂)⎦"
      ]
     },
     "execution_count": 15,
     "metadata": {},
     "output_type": "execute_result"
    }
   ],
   "source": [
    "get_matrix_terms(ex, dotx, doty, dotz)"
   ]
  },
  {
   "cell_type": "code",
   "execution_count": 16,
   "metadata": {},
   "outputs": [
    {
     "data": {
      "text/latex": [
       "$\\displaystyle \\left[\\begin{matrix}\\cos{\\left(\\theta_{2} \\right)} & \\sin{\\left(\\theta_{1} \\right)} \\sin{\\left(\\theta_{2} \\right)} & \\sin{\\left(\\theta_{2} \\right)} \\cos{\\left(\\theta_{1} \\right)}\\\\0 & \\cos{\\left(\\theta_{1} \\right)} \\cos{\\left(\\theta_{2} \\right)} & - \\sin{\\left(\\theta_{1} \\right)} \\cos{\\left(\\theta_{2} \\right)}\\\\0 & \\sin{\\left(\\theta_{1} \\right)} & \\cos{\\left(\\theta_{1} \\right)}\\end{matrix}\\right]$"
      ],
      "text/plain": [
       "⎡cos(θ₂)  sin(θ₁)⋅sin(θ₂)  sin(θ₂)⋅cos(θ₁) ⎤\n",
       "⎢                                          ⎥\n",
       "⎢   0     cos(θ₁)⋅cos(θ₂)  -sin(θ₁)⋅cos(θ₂)⎥\n",
       "⎢                                          ⎥\n",
       "⎣   0         sin(θ₁)          cos(θ₁)     ⎦"
      ]
     },
     "execution_count": 16,
     "metadata": {},
     "output_type": "execute_result"
    }
   ],
   "source": [
    "# Using the library to get the terms of the matrix for 3-2-1 Euler angles kinematic differential equation: \n",
    "# As in the slide 78 of Lecture 6:\n",
    "\n",
    "simplify(adcs_sym.diff_kinem_Euler_theta_matrix(3, 2, 1, invorder=True)*cos(y))\n"
   ]
  },
  {
   "cell_type": "code",
   "execution_count": 17,
   "metadata": {},
   "outputs": [
    {
     "data": {
      "text/latex": [
       "$\\displaystyle \\left( \\left[\\begin{matrix}\\dot{\\theta_1}\\\\\\dot{\\theta_2}\\\\\\dot{\\theta_3}\\end{matrix}\\right], \\  \\frac{1}{\\cos{\\left(\\theta_{2} \\right)}}, \\  \\left[\\begin{matrix}\\cos{\\left(\\theta_{2} \\right)} & \\sin{\\left(\\theta_{1} \\right)} \\sin{\\left(\\theta_{2} \\right)} & \\sin{\\left(\\theta_{2} \\right)} \\cos{\\left(\\theta_{1} \\right)}\\\\0 & \\cos{\\left(\\theta_{1} \\right)} \\cos{\\left(\\theta_{2} \\right)} & - \\sin{\\left(\\theta_{1} \\right)} \\cos{\\left(\\theta_{2} \\right)}\\\\0 & \\sin{\\left(\\theta_{1} \\right)} & \\cos{\\left(\\theta_{1} \\right)}\\end{matrix}\\right], \\  \\left[\\begin{matrix}0.0872664625997165 \\sin{\\left(0.1 t \\right)}\\\\0.000872664625997165\\\\0.0872664625997165 \\cos{\\left(0.1 t \\right)}\\end{matrix}\\right]\\right)$"
      ],
      "text/plain": [
       "⎛⎡\\dot{\\theta_1}⎤           ⎡cos(θ₂)  sin(θ₁)⋅sin(θ₂)  sin(θ₂)⋅cos(θ₁) ⎤  ⎡0.0\n",
       "⎜⎢              ⎥     1     ⎢                                          ⎥  ⎢   \n",
       "⎜⎢\\dot{\\theta_2}⎥, ───────, ⎢   0     cos(θ₁)⋅cos(θ₂)  -sin(θ₁)⋅cos(θ₂)⎥, ⎢   \n",
       "⎜⎢              ⎥  cos(θ₂)  ⎢                                          ⎥  ⎢   \n",
       "⎝⎣\\dot{\\theta_3}⎦           ⎣   0         sin(θ₁)          cos(θ₁)     ⎦  ⎣0.0\n",
       "\n",
       "872664625997165⋅sin(0.1⋅t)⎤⎞\n",
       "                          ⎥⎟\n",
       " 0.000872664625997165     ⎥⎟\n",
       "                          ⎥⎟\n",
       "872664625997165⋅cos(0.1⋅t)⎦⎠"
      ]
     },
     "execution_count": 17,
     "metadata": {},
     "output_type": "execute_result"
    }
   ],
   "source": [
    "# Just to show what I am solving for:\n",
    "import numpy as np\n",
    "time_sym = Symbol('t')\n",
    "aa = Matrix([dotx, doty, dotz]) \n",
    "bb = (1 / cos(y)) \n",
    "cc = simplify(adcs_sym.diff_kinem_Euler_theta_matrix(3, 2, 1, invorder=True)*cos(y))\n",
    "dd = Matrix([sin(0.1*time_sym), 0.01, cos(0.1*time_sym)]) * np.deg2rad(5)\n",
    "\n",
    "aa, bb, cc, dd"
   ]
  },
  {
   "cell_type": "markdown",
   "metadata": {},
   "source": [
    "ENDS HERE"
   ]
  },
  {
   "cell_type": "markdown",
   "metadata": {},
   "source": [
    "_______________________________________"
   ]
  },
  {
   "cell_type": "markdown",
   "metadata": {},
   "source": [
    "To check if the inversion matrix is the one given in the problem, we compute the following:"
   ]
  },
  {
   "cell_type": "code",
   "execution_count": 18,
   "metadata": {},
   "outputs": [
    {
     "data": {
      "text/latex": [
       "$\\displaystyle \\left[\\begin{matrix}- \\frac{\\cos{\\left(\\theta_{3} \\right)}}{\\sin{\\left(\\theta_{2} \\right)}} & \\frac{\\sin{\\left(\\theta_{3} \\right)}}{\\sin{\\left(\\theta_{2} \\right)}} & 0\\\\\\sin{\\left(\\theta_{3} \\right)} & \\cos{\\left(\\theta_{3} \\right)} & 0\\\\\\frac{\\cos{\\left(\\theta_{3} \\right)}}{\\tan{\\left(\\theta_{2} \\right)}} & - \\frac{\\sin{\\left(\\theta_{3} \\right)}}{\\tan{\\left(\\theta_{2} \\right)}} & 1\\end{matrix}\\right]$"
      ],
      "text/plain": [
       "⎡-cos(θ₃)    sin(θ₃)    ⎤\n",
       "⎢─────────   ───────   0⎥\n",
       "⎢ sin(θ₂)    sin(θ₂)    ⎥\n",
       "⎢                       ⎥\n",
       "⎢ sin(θ₃)    cos(θ₃)   0⎥\n",
       "⎢                       ⎥\n",
       "⎢ cos(θ₃)   -sin(θ₃)    ⎥\n",
       "⎢ ───────   ─────────  1⎥\n",
       "⎣ tan(θ₂)    tan(θ₂)    ⎦"
      ]
     },
     "execution_count": 18,
     "metadata": {},
     "output_type": "execute_result"
    }
   ],
   "source": [
    "invmatrix =simplify(matrix.inv())  \n",
    "invmatrix"
   ]
  },
  {
   "cell_type": "code",
   "execution_count": 31,
   "metadata": {},
   "outputs": [
    {
     "data": {
      "text/latex": [
       "$\\displaystyle \\left[\\begin{matrix}- \\cos{\\left(\\theta_{3} \\right)} & \\sin{\\left(\\theta_{3} \\right)} & 0\\\\\\sin{\\left(\\theta_{2} \\right)} \\sin{\\left(\\theta_{3} \\right)} & \\sin{\\left(\\theta_{2} \\right)} \\cos{\\left(\\theta_{3} \\right)} & 0\\\\\\frac{\\sin{\\left(\\theta_{2} \\right)} \\cos{\\left(\\theta_{3} \\right)}}{\\tan{\\left(\\theta_{2} \\right)}} & - \\frac{\\sin{\\left(\\theta_{2} \\right)} \\sin{\\left(\\theta_{3} \\right)}}{\\tan{\\left(\\theta_{2} \\right)}} & \\sin{\\left(\\theta_{2} \\right)}\\end{matrix}\\right]$"
      ],
      "text/plain": [
       "⎡   -cos(θ₃)           sin(θ₃)          0   ⎤\n",
       "⎢                                           ⎥\n",
       "⎢sin(θ₂)⋅sin(θ₃)   sin(θ₂)⋅cos(θ₃)      0   ⎥\n",
       "⎢                                           ⎥\n",
       "⎢sin(θ₂)⋅cos(θ₃)  -sin(θ₂)⋅sin(θ₃)          ⎥\n",
       "⎢───────────────  ─────────────────  sin(θ₂)⎥\n",
       "⎣    tan(θ₂)           tan(θ₂)              ⎦"
      ]
     },
     "execution_count": 31,
     "metadata": {},
     "output_type": "execute_result"
    }
   ],
   "source": [
    "(adcs_sym.diff_kinem_Euler_theta_matrix(3, 2, 3, invorder=False)*sin(y))"
   ]
  },
  {
   "cell_type": "code",
   "execution_count": 34,
   "metadata": {},
   "outputs": [
    {
     "data": {
      "text/latex": [
       "$\\displaystyle \\left[\\begin{matrix}- \\cos{\\left(\\theta_{3} \\right)} & \\sin{\\left(\\theta_{3} \\right)} & 0\\\\\\sin{\\left(\\theta_{2} \\right)} \\sin{\\left(\\theta_{3} \\right)} & \\sin{\\left(\\theta_{2} \\right)} \\cos{\\left(\\theta_{3} \\right)} & 0\\\\\\cos{\\left(\\theta_{2} \\right)} \\cos{\\left(\\theta_{3} \\right)} & - \\sin{\\left(\\theta_{3} \\right)} \\cos{\\left(\\theta_{2} \\right)} & \\sin{\\left(\\theta_{2} \\right)}\\end{matrix}\\right]$"
      ],
      "text/plain": [
       "⎡   -cos(θ₃)          sin(θ₃)          0   ⎤\n",
       "⎢                                          ⎥\n",
       "⎢sin(θ₂)⋅sin(θ₃)  sin(θ₂)⋅cos(θ₃)      0   ⎥\n",
       "⎢                                          ⎥\n",
       "⎣cos(θ₂)⋅cos(θ₃)  -sin(θ₃)⋅cos(θ₂)  sin(θ₂)⎦"
      ]
     },
     "execution_count": 34,
     "metadata": {},
     "output_type": "execute_result"
    }
   ],
   "source": [
    "# Or using the library:\n",
    "simplify(adcs_sym.diff_kinem_Euler_theta_matrix(3, 2, 3)*sin(y))\n"
   ]
  },
  {
   "cell_type": "code",
   "execution_count": 20,
   "metadata": {},
   "outputs": [
    {
     "data": {
      "text/latex": [
       "$\\displaystyle \\left( \\frac{1}{\\sin{\\left(\\theta_{2} \\right)}}, \\  \\left[\\begin{matrix}- \\cos{\\left(\\theta_{3} \\right)} & \\sin{\\left(\\theta_{3} \\right)} & 0\\\\\\sin{\\left(\\theta_{2} \\right)} \\sin{\\left(\\theta_{3} \\right)} & \\sin{\\left(\\theta_{2} \\right)} \\cos{\\left(\\theta_{3} \\right)} & 0\\\\\\cos{\\left(\\theta_{2} \\right)} \\cos{\\left(\\theta_{3} \\right)} & - \\sin{\\left(\\theta_{3} \\right)} \\cos{\\left(\\theta_{2} \\right)} & \\sin{\\left(\\theta_{2} \\right)}\\end{matrix}\\right]\\right)$"
      ],
      "text/plain": [
       "⎛         ⎡   -cos(θ₃)          sin(θ₃)          0   ⎤⎞\n",
       "⎜   1     ⎢                                          ⎥⎟\n",
       "⎜───────, ⎢sin(θ₂)⋅sin(θ₃)  sin(θ₂)⋅cos(θ₃)      0   ⎥⎟\n",
       "⎜sin(θ₂)  ⎢                                          ⎥⎟\n",
       "⎝         ⎣cos(θ₂)⋅cos(θ₃)  -sin(θ₃)⋅cos(θ₂)  sin(θ₂)⎦⎠"
      ]
     },
     "execution_count": 20,
     "metadata": {},
     "output_type": "execute_result"
    }
   ],
   "source": [
    "# Show how the matrix would look like (instead of a comma it should be a dot product)\n",
    "1/sin(y), simplify(invmatrix*sin(y))\n"
   ]
  },
  {
   "cell_type": "code",
   "execution_count": 21,
   "metadata": {},
   "outputs": [
    {
     "data": {
      "text/latex": [
       "$\\displaystyle \\left[\\begin{matrix}1 & 0 & 0\\\\0 & 1 & 0\\\\0 & 0 & 1\\end{matrix}\\right]$"
      ],
      "text/plain": [
       "⎡1  0  0⎤\n",
       "⎢       ⎥\n",
       "⎢0  1  0⎥\n",
       "⎢       ⎥\n",
       "⎣0  0  1⎦"
      ]
     },
     "execution_count": 21,
     "metadata": {},
     "output_type": "execute_result"
    }
   ],
   "source": [
    "# Check if correct by multiplying the original matrix by its inverse. \n",
    "# Should get an Identity matrix\n",
    "\n",
    "simplify(matrix*invmatrix)"
   ]
  },
  {
   "cell_type": "code",
   "execution_count": 22,
   "metadata": {},
   "outputs": [
    {
     "name": "stdout",
     "output_type": "stream",
     "text": [
      "The matrix is correct\n"
     ]
    }
   ],
   "source": [
    "if eye(3) == simplify(matrix*invmatrix):\n",
    "    print(\"The matrix is correct\")\n",
    "else:\n",
    "    print(\"The matrix is incorrect\")"
   ]
  }
 ],
 "metadata": {
  "interpreter": {
   "hash": "7bdadbcc745afc9ac1e1714124e1bb5770ee7d86d26de672bb194e9104174d2a"
  },
  "kernelspec": {
   "display_name": "Python 3.8.3 64-bit ('base': conda)",
   "name": "python3"
  },
  "language_info": {
   "codemirror_mode": {
    "name": "ipython",
    "version": 3
   },
   "file_extension": ".py",
   "mimetype": "text/x-python",
   "name": "python",
   "nbconvert_exporter": "python",
   "pygments_lexer": "ipython3",
   "version": "3.8.3"
  },
  "orig_nbformat": 4
 },
 "nbformat": 4,
 "nbformat_minor": 2
}
