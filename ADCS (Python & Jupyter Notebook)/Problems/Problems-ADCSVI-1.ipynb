{
 "cells": [
  {
   "cell_type": "markdown",
   "metadata": {},
   "source": [
    "# A program to convert between reference frames using directional cosine matrices."
   ]
  },
  {
   "cell_type": "code",
   "execution_count": 2,
   "metadata": {},
   "outputs": [],
   "source": [
    "#%% Import libraries\n",
    "import numpy as np\n",
    "import sys\n",
    "sys.path.append(\n",
    "   \"c:\\\\Users\\\\diego\\\\Dropbox\\\\Academic\\\\MEng Space Systems\\\\3. DOCA\\\\ADCS functions\")\n",
    "import ADCS_Functions as adcs\n",
    "# from math import sin, cos, pi\n"
   ]
  },
  {
   "cell_type": "code",
   "execution_count": 3,
   "metadata": {},
   "outputs": [
    {
     "data": {
      "text/plain": [
       "(matrix([[ 0.5      ,  0.       ,  0.8660254],\n",
       "         [ 0.8660254,  0.       , -0.5      ],\n",
       "         [ 0.       ,  1.       ,  0.       ]]),\n",
       " matrix([[ 0,  1,  0],\n",
       "         [ 1,  0,  0],\n",
       "         [ 0,  0, -1]]))"
      ]
     },
     "execution_count": 3,
     "metadata": {},
     "output_type": "execute_result"
    }
   ],
   "source": [
    "#%% Data\n",
    "# Assume three reference frames A, B and I.\n",
    "# Let the two reference frames A and B be defined relative to the inertial reference frame I by the orthonormal unit base vectors.\n",
    "\n",
    "a1, a2, a3 = np.array([1/2, np.sqrt(3)/2, 0]), np.array([0,\n",
    "                                                         0, 1]), np.array([np.sqrt(3)/2, -1/2, 0])\n",
    "b1, b2, b3 = np.array([0, 1, 0]), np.array([1, 0, 0]), np.array([0, 0, -1])\n",
    "\n",
    "a = np.matrix([a1, a2, a3]).T\n",
    "b = np.matrix([b1, b2, b3]).T\n",
    "\n",
    "a, b\n"
   ]
  },
  {
   "cell_type": "code",
   "execution_count": 4,
   "metadata": {},
   "outputs": [
    {
     "data": {
      "text/plain": [
       "matrix([[1, 0, 0],\n",
       "        [0, 1, 0],\n",
       "        [0, 0, 1]])"
      ]
     },
     "execution_count": 4,
     "metadata": {},
     "output_type": "execute_result"
    }
   ],
   "source": [
    "# where the ai and bi (i = 1, 2, 3) vector components are written in the inertial frame I.\n",
    "# Note that the unit base vectors of the inertial frame are:\n",
    "\n",
    "i1, i2, i3 = np.array([1, 0, 0]), np.array([0, 1, 0]), np.array([0, 0, 1])\n",
    "\n",
    "i = np.matrix([i1, i2, i3]).T\n",
    "i"
   ]
  },
  {
   "cell_type": "code",
   "execution_count": 5,
   "metadata": {},
   "outputs": [
    {
     "name": "stdout",
     "output_type": "stream",
     "text": [
      "True\n",
      "True\n",
      "True\n",
      "True\n",
      "True\n",
      "True\n"
     ]
    }
   ],
   "source": [
    "#%% (a) Check that the unit base vectors ai respectively bi (i = 1, 2, 3) build an orthonormal reference frame.\n",
    "\n",
    "print(np.dot(a1, a2) == 0)\n",
    "print(np.dot(a2, a3) == 0)\n",
    "print(np.dot(a1, a3) == 0)\n",
    "\n",
    "print(np.allclose(np.dot(a1, a1), 1))\n",
    "print(np.allclose(np.dot(a2, a2), 1))\n",
    "print(np.allclose(np.dot(a3, a3), 1))\n"
   ]
  },
  {
   "cell_type": "code",
   "execution_count": 6,
   "metadata": {},
   "outputs": [
    {
     "name": "stdout",
     "output_type": "stream",
     "text": [
      "True\n",
      "True\n",
      "True\n",
      "True\n",
      "True\n",
      "True\n"
     ]
    }
   ],
   "source": [
    "print(np.dot(b1, b2) == 0)\n",
    "print(np.dot(b2, b3) == 0)\n",
    "print(np.dot(b1, b3) == 0)\n",
    "\n",
    "print(np.allclose(np.dot(b1, b1), 1))\n",
    "print(np.allclose(np.dot(b2, b2), 1))\n",
    "print(np.allclose(np.dot(b3, b3), 1))"
   ]
  },
  {
   "cell_type": "code",
   "execution_count": 7,
   "metadata": {},
   "outputs": [
    {
     "data": {
      "text/plain": [
       "array([[ 0.8660254,  0.5      ,  0.       ],\n",
       "       [ 0.       ,  0.       , -1.       ],\n",
       "       [-0.5      ,  0.8660254,  0.       ]])"
      ]
     },
     "execution_count": 7,
     "metadata": {},
     "output_type": "execute_result"
    }
   ],
   "source": [
    "#%% (b) Find the directional cosine matrix Cab that describes the orientation of frame A relative to frame B\n",
    "Cab = np.array([[np.dot(a1, b1), np.dot(a1, b2), np.dot(a1, b3)],\n",
    "                [np.dot(a2, b1), np.dot(a2, b2), np.dot(a2, b3)],\n",
    "                [np.dot(a3, b1), np.dot(a3, b2), np.dot(a3, b3)]])\n",
    "\n",
    "Cab"
   ]
  },
  {
   "cell_type": "markdown",
   "metadata": {},
   "source": [
    "Or just use my custom library:"
   ]
  },
  {
   "cell_type": "code",
   "execution_count": 8,
   "metadata": {},
   "outputs": [
    {
     "data": {
      "text/plain": [
       "matrix([[ 0.8660254,  0.5      ,  0.       ],\n",
       "        [ 0.       ,  0.       , -1.       ],\n",
       "        [-0.5      ,  0.8660254,  0.       ]])"
      ]
     },
     "execution_count": 8,
     "metadata": {},
     "output_type": "execute_result"
    }
   ],
   "source": [
    "Cab = adcs.DCM_A_B(a, b)\n",
    "Cab\n"
   ]
  },
  {
   "cell_type": "code",
   "execution_count": 9,
   "metadata": {},
   "outputs": [
    {
     "data": {
      "text/plain": [
       "matrix([[ 0.5      ,  0.8660254,  0.       ],\n",
       "        [ 0.       ,  0.       ,  1.       ],\n",
       "        [ 0.8660254, -0.5      ,  0.       ]])"
      ]
     },
     "execution_count": 9,
     "metadata": {},
     "output_type": "execute_result"
    }
   ],
   "source": [
    "#%% (c) Find the directional cosine matrix Cai that describes the orientation of frame A relative to frame I\n",
    "Cai = adcs.DCM_A_B(a, i)\n",
    "Cai"
   ]
  },
  {
   "cell_type": "code",
   "execution_count": 10,
   "metadata": {},
   "outputs": [
    {
     "data": {
      "text/plain": [
       "matrix([[ 0,  1,  0],\n",
       "        [ 1,  0,  0],\n",
       "        [ 0,  0, -1]])"
      ]
     },
     "execution_count": 10,
     "metadata": {},
     "output_type": "execute_result"
    }
   ],
   "source": [
    "#%% (d) Find the directional cosine matrix Cab that describes the orientation of frame B relative to frame I\n",
    "Cbi = adcs.DCM_A_B(b, i)\n",
    "Cbi"
   ]
  },
  {
   "cell_type": "code",
   "execution_count": 11,
   "metadata": {},
   "outputs": [
    {
     "data": {
      "text/plain": [
       "True"
      ]
     },
     "execution_count": 11,
     "metadata": {},
     "output_type": "execute_result"
    }
   ],
   "source": [
    "#%% (e) Check if Cab = Cai*(Cbi).T holds\n",
    "np.allclose(Cab, Cai@(Cbi.T))"
   ]
  },
  {
   "cell_type": "code",
   "execution_count": 12,
   "metadata": {},
   "outputs": [
    {
     "data": {
      "text/plain": [
       "True"
      ]
     },
     "execution_count": 12,
     "metadata": {},
     "output_type": "execute_result"
    }
   ],
   "source": [
    "#%% (f) Check if Cab*(Cab).T = I\n",
    "np.allclose(Cab@(Cab.T), np.eye(3))"
   ]
  },
  {
   "cell_type": "code",
   "execution_count": 13,
   "metadata": {},
   "outputs": [
    {
     "data": {
      "text/plain": [
       "False"
      ]
     },
     "execution_count": 13,
     "metadata": {},
     "output_type": "execute_result"
    }
   ],
   "source": [
    "#%% (g) For given arbitrary matrix A and matrix B check if they do not commute (AB != BA)\n",
    "A = Cai\n",
    "B = (Cbi).T\n",
    "np.allclose(A@B, B@A)"
   ]
  },
  {
   "cell_type": "code",
   "execution_count": 14,
   "metadata": {},
   "outputs": [
    {
     "name": "stdout",
     "output_type": "stream",
     "text": [
      "False\n"
     ]
    }
   ],
   "source": [
    "#%% (h) Is the following matrix C = [1/2, 0, 0; 0, 1, 0; 0, 0, 2] a rotation matrix?\n",
    "C = np.matrix([[1/2, 0, 0],\n",
    "               [0, 1, 0],\n",
    "               [0, 0, 2]])\n",
    "print(np.allclose(C@C.T, 1))\n"
   ]
  },
  {
   "cell_type": "markdown",
   "metadata": {},
   "source": [
    "$C C^T = 1$ for a rotation matrix"
   ]
  }
 ],
 "metadata": {
  "interpreter": {
   "hash": "7bdadbcc745afc9ac1e1714124e1bb5770ee7d86d26de672bb194e9104174d2a"
  },
  "kernelspec": {
   "display_name": "Python 3.8.3 64-bit ('base': conda)",
   "language": "python",
   "name": "python3"
  },
  "language_info": {
   "codemirror_mode": {
    "name": "ipython",
    "version": 3
   },
   "file_extension": ".py",
   "mimetype": "text/x-python",
   "name": "python",
   "nbconvert_exporter": "python",
   "pygments_lexer": "ipython3",
   "version": "3.8.3"
  },
  "orig_nbformat": 4
 },
 "nbformat": 4,
 "nbformat_minor": 2
}
