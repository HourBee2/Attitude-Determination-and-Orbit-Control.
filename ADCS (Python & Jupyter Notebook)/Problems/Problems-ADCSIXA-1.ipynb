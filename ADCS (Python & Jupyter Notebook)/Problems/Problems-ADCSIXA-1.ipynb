{
 "cells": [
  {
   "cell_type": "code",
   "execution_count": 2,
   "metadata": {},
   "outputs": [],
   "source": [
    "#%% Import libraries\n",
    "import numpy as np\n",
    "from sympy import *\n",
    "# from sympy.physics.mechanics import ReferenceFrame\n",
    "from IPython.display import display, Latex, Math\n",
    "init_printing(use_latex='mathjax')\n",
    "\n",
    "from sys import path\n",
    "path.append(\n",
    "    \"c:\\\\Users\\\\diego\\\\Dropbox\\\\Academic\\\\MEng Space Systems\\\\3. DOCA\\\\ADCS functions\")\n",
    "import ADCS_Functions as adcs\n",
    "import ADCS_Functions_sym as adcs_sym"
   ]
  },
  {
   "cell_type": "markdown",
   "metadata": {},
   "source": [
    "________________________________________________________"
   ]
  },
  {
   "cell_type": "markdown",
   "metadata": {},
   "source": [
    "Consider a cylinder of mass m, radius r, length 4r (assume uniform mass distribution).\n",
    "\n",
    "The body is spinning with initial conditions\n",
    "\n",
    "$\\vec{\\omega}(t=0)=\\Omega_{0}\\left(\\frac{3}{5} \\overrightarrow{\\mathbf{b}}_{1}+\\frac{4}{5} \\overrightarrow{\\mathbf{b}}_{3}\\right)$\n",
    "\n",
    "Solve for $\\omega(t)$"
   ]
  },
  {
   "cell_type": "code",
   "execution_count": 3,
   "metadata": {},
   "outputs": [],
   "source": [
    "r, m, h = symbols('r m h')\n",
    "omega1sim, omega2sim, omega3sim = symbols('\\omega_1 \\omega_2 \\omega_3')\n",
    "I1sim, I2sim, I3sim, = symbols('I_1 I_2 I_3')\n",
    "dotomega1sim, dotomega2sim, dotomega3sim = symbols('\\dot{\\omega}_1 \\dot{\\omega}_2 \\dot{\\omega}_3')"
   ]
  },
  {
   "cell_type": "markdown",
   "metadata": {},
   "source": [
    "__________________\n",
    "\n",
    "Solution:"
   ]
  },
  {
   "cell_type": "markdown",
   "metadata": {},
   "source": [
    "Euler equations without torques are given by:\n",
    "\n",
    "* $I_{1} \\dot{\\omega}_{1}-\\left(I_{2}-I_{3}\\right) \\omega_{2} \\omega_{3}=0$\n",
    "* $I_{2} \\dot{\\omega}_{2}-\\left(I_{3}-I_{1}\\right) \\omega_{3} \\omega_{1}=0$\n",
    "* $I_{3} \\dot{\\omega}_{3}-\\left(I_{1}-I_{2}\\right) \\omega_{1} \\omega_{2}=0$\n",
    "\n"
   ]
  },
  {
   "cell_type": "code",
   "execution_count": 4,
   "metadata": {},
   "outputs": [
    {
     "data": {
      "text/latex": [
       "$\\displaystyle \\left( I_{1} \\dot{\\omega}_1 - \\omega_{2} \\omega_{3} \\left(I_{2} - I_{3}\\right), \\  I_{2} \\dot{\\omega}_2 - \\omega_{1} \\omega_{3} \\left(- I_{1} + I_{3}\\right), \\  I_{3} \\dot{\\omega}_3 - \\omega_{1} \\omega_{2} \\left(I_{1} - I_{2}\\right)\\right)$"
      ],
      "text/plain": [
       "(I₁⋅\\dot{\\omega}₁ - \\omega₂⋅\\omega₃⋅(I₂ - I₃), I₂⋅\\dot{\\omega}₂ - \\omega₁⋅\\ome\n",
       "ga₃⋅(-I₁ + I₃), I₃⋅\\dot{\\omega}₃ - \\omega₁⋅\\omega₂⋅(I₁ - I₂))"
      ]
     },
     "execution_count": 4,
     "metadata": {},
     "output_type": "execute_result"
    }
   ],
   "source": [
    "Eul1 = I1sim*dotomega1sim - (I2sim - I3sim)*omega2sim*omega3sim\n",
    "Eul2 = I2sim*dotomega2sim - (I3sim - I1sim)*omega3sim*omega1sim\n",
    "Eul3 = I3sim*dotomega3sim - (I1sim - I2sim)*omega1sim*omega2sim\n",
    "\n",
    "Eul1, Eul2, Eul3\n"
   ]
  },
  {
   "cell_type": "markdown",
   "metadata": {},
   "source": [
    "From a table we get that the principal moments of inertia  for a  cylinder of radius r and height h is given by:\n",
    "\n",
    "\n",
    "* $I_{1}=I_{2}=\\frac{1}{12} m\\left(3 r^{2}+h^{2}\\right)$\n",
    "* $I_{3}=\\frac{1}{2} m r^{2}$"
   ]
  },
  {
   "cell_type": "code",
   "execution_count": 5,
   "metadata": {},
   "outputs": [
    {
     "data": {
      "text/latex": [
       "$\\displaystyle \\left( 0.0833333333333333 m \\left(h^{2} + 3 r^{2}\\right), \\  0.0833333333333333 m \\left(h^{2} + 3 r^{2}\\right), \\  0.5 m r^{2}\\right)$"
      ],
      "text/plain": [
       "⎛                     ⎛ 2      2⎞                       ⎛ 2      2⎞         2⎞\n",
       "⎝0.0833333333333333⋅m⋅⎝h  + 3⋅r ⎠, 0.0833333333333333⋅m⋅⎝h  + 3⋅r ⎠, 0.5⋅m⋅r ⎠"
      ]
     },
     "execution_count": 5,
     "metadata": {},
     "output_type": "execute_result"
    }
   ],
   "source": [
    "I1 = 1/12 * Symbol('m') * (3*Symbol('r')**2 + Symbol('h')**2)\n",
    "I2 = I1\n",
    "I3 = 1/2 * m * r**2\n",
    "\n",
    "I1, I2, I3"
   ]
  },
  {
   "cell_type": "code",
   "execution_count": 7,
   "metadata": {},
   "outputs": [
    {
     "data": {
      "text/latex": [
       "$\\displaystyle \\left( 1.58333333333333 m r^{2}, \\  1.58333333333333 m r^{2}, \\  0.5 m r^{2}\\right)$"
      ],
      "text/plain": [
       "⎛                    2                      2         2⎞\n",
       "⎝1.58333333333333⋅m⋅r , 1.58333333333333⋅m⋅r , 0.5⋅m⋅r ⎠"
      ]
     },
     "execution_count": 7,
     "metadata": {},
     "output_type": "execute_result"
    }
   ],
   "source": [
    "# Since we have h = 4r, we get\n",
    "I1 = I1.subs(h, 4*r)\n",
    "I2 = I1\n",
    "\n",
    "I1, I2, I3\n"
   ]
  },
  {
   "cell_type": "code",
   "execution_count": 8,
   "metadata": {},
   "outputs": [
    {
     "data": {
      "text/latex": [
       "$\\displaystyle 1.58333333333333 \\dot{\\omega}_1 m r^{2} - 1.08333333333333 \\omega_{2} \\omega_{3} m r^{2}$"
      ],
      "text/plain": [
       "                                  2                                       2\n",
       "1.58333333333333⋅\\dot{\\omega}₁⋅m⋅r  - 1.08333333333333⋅\\omega₂⋅\\omega₃⋅m⋅r "
      ]
     },
     "execution_count": 8,
     "metadata": {},
     "output_type": "execute_result"
    }
   ],
   "source": [
    "Eul1 = Eul1.subs(I1sim, I1).subs(I2sim, I2).subs(I3sim, I3)\n",
    "Eul1"
   ]
  },
  {
   "cell_type": "code",
   "execution_count": 9,
   "metadata": {},
   "outputs": [
    {
     "data": {
      "text/latex": [
       "$\\displaystyle 1.58333333333333 \\dot{\\omega}_2 m r^{2} + 1.08333333333333 \\omega_{1} \\omega_{3} m r^{2}$"
      ],
      "text/plain": [
       "                                  2                                       2\n",
       "1.58333333333333⋅\\dot{\\omega}₂⋅m⋅r  + 1.08333333333333⋅\\omega₁⋅\\omega₃⋅m⋅r "
      ]
     },
     "execution_count": 9,
     "metadata": {},
     "output_type": "execute_result"
    }
   ],
   "source": [
    "Eul2 = Eul2.subs(I1sim, I1).subs(I2sim, I2).subs(I3sim, I3)\n",
    "Eul2"
   ]
  },
  {
   "cell_type": "code",
   "execution_count": 10,
   "metadata": {},
   "outputs": [
    {
     "data": {
      "text/latex": [
       "$\\displaystyle 0.5 \\dot{\\omega}_3 m r^{2}$"
      ],
      "text/plain": [
       "                     2\n",
       "0.5⋅\\dot{\\omega}₃⋅m⋅r "
      ]
     },
     "execution_count": 10,
     "metadata": {},
     "output_type": "execute_result"
    }
   ],
   "source": [
    "Eul3 = Eul3.subs(I1sim, I1).subs(I2sim, I2).subs(I3sim, I3)\n",
    "Eul3"
   ]
  },
  {
   "cell_type": "markdown",
   "metadata": {},
   "source": [
    "The last equation implies that $\\omega_3$ is a constant (=0). Therefore, using the initial condition on $\\omega_3$:"
   ]
  },
  {
   "cell_type": "markdown",
   "metadata": {},
   "source": [
    "$\\omega_{3}(0)=\\frac{4}{5} \\Omega_{0} \\Rightarrow \\omega_{3}(t)=\\frac{4}{5} \\Omega_{0}$"
   ]
  },
  {
   "cell_type": "code",
   "execution_count": 11,
   "metadata": {},
   "outputs": [
    {
     "data": {
      "text/latex": [
       "$\\displaystyle \\left( - 0.866666666666667 \\Omega_{0} \\omega_{2} m r^{2} + 1.58333333333333 \\dot{\\omega}_1 m r^{2}, \\  0.866666666666667 \\Omega_{0} \\omega_{1} m r^{2} + 1.58333333333333 \\dot{\\omega}_2 m r^{2}\\right)$"
      ],
      "text/plain": [
       "⎛                                       2                                     \n",
       "⎝- 0.866666666666667⋅\\Omega₀⋅\\omega₂⋅m⋅r  + 1.58333333333333⋅\\dot{\\omega}₁⋅m⋅r\n",
       "\n",
       "2                                       2                                     \n",
       " , 0.866666666666667⋅\\Omega₀⋅\\omega₁⋅m⋅r  + 1.58333333333333⋅\\dot{\\omega}₂⋅m⋅r\n",
       "\n",
       "2⎞\n",
       " ⎠"
      ]
     },
     "execution_count": 11,
     "metadata": {},
     "output_type": "execute_result"
    }
   ],
   "source": [
    "omega3 = 4/5 * Symbol('\\Omega_0')\n",
    "\n",
    "Eul1 = Eul1.subs(omega3sim, omega3)\n",
    "Eul2 = Eul2.subs(omega3sim, omega3)\n",
    "\n",
    "Eul1, Eul2\n"
   ]
  },
  {
   "cell_type": "code",
   "execution_count": 12,
   "metadata": {},
   "outputs": [
    {
     "data": {
      "text/latex": [
       "$\\displaystyle \\left( 0.547368421052632 \\Omega_{0} \\omega_{2}, \\  - 0.547368421052632 \\Omega_{0} \\omega_{1}\\right)$"
      ],
      "text/plain": [
       "(0.547368421052632⋅\\Omega₀⋅\\omega₂, -0.547368421052632⋅\\Omega₀⋅\\omega₁)"
      ]
     },
     "execution_count": 12,
     "metadata": {},
     "output_type": "execute_result"
    }
   ],
   "source": [
    "dotomega1 = solve(Eul1, dotomega1sim)[0]\n",
    "dotomega2 = solve(Eul2, dotomega2sim)[0]\n",
    "\n",
    "dotomega1, dotomega2"
   ]
  },
  {
   "cell_type": "code",
   "execution_count": 13,
   "metadata": {},
   "outputs": [],
   "source": [
    "# Letting a equal: 0.547368421052632*Ω_0"
   ]
  },
  {
   "cell_type": "code",
   "execution_count": 14,
   "metadata": {},
   "outputs": [
    {
     "data": {
      "text/latex": [
       "$\\displaystyle \\left( \\omega_{2} a, \\  - 0.547368421052632 \\Omega_{0} \\omega_{1}\\right)$"
      ],
      "text/plain": [
       "(\\omega₂⋅a, -0.547368421052632⋅\\Omega₀⋅\\omega₁)"
      ]
     },
     "execution_count": 14,
     "metadata": {},
     "output_type": "execute_result"
    }
   ],
   "source": [
    "dotomega1 = dotomega1.subs(dotomega1 / omega2sim, Symbol('a'))\n",
    "dotomega2 = dotomega2.subs(dotomega2 / omega1sim, Symbol('a'))\n",
    "\n",
    "dotomega1, dotomega2\n"
   ]
  },
  {
   "cell_type": "markdown",
   "metadata": {},
   "source": [
    "Continue by solving for $\\omega_{1}$ and $\\omega_{2}$ ..."
   ]
  }
 ],
 "metadata": {
  "interpreter": {
   "hash": "7bdadbcc745afc9ac1e1714124e1bb5770ee7d86d26de672bb194e9104174d2a"
  },
  "kernelspec": {
   "display_name": "Python 3.8.3 64-bit ('base': conda)",
   "language": "python",
   "name": "python3"
  },
  "language_info": {
   "codemirror_mode": {
    "name": "ipython",
    "version": 3
   },
   "file_extension": ".py",
   "mimetype": "text/x-python",
   "name": "python",
   "nbconvert_exporter": "python",
   "pygments_lexer": "ipython3",
   "version": "3.8.3"
  },
  "orig_nbformat": 4
 },
 "nbformat": 4,
 "nbformat_minor": 2
}
