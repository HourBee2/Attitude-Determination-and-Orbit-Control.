{
 "cells": [
  {
   "cell_type": "code",
   "execution_count": 11,
   "metadata": {},
   "outputs": [],
   "source": [
    "#%% Import libraries\n",
    "import numpy as np\n",
    "from sympy import *\n",
    "from IPython.display import display, Latex, Math\n",
    "init_printing(use_latex='mathjax')\n"
   ]
  },
  {
   "cell_type": "markdown",
   "metadata": {},
   "source": [
    "### Consider the moment of inertia matrix:"
   ]
  },
  {
   "cell_type": "code",
   "execution_count": 16,
   "metadata": {},
   "outputs": [
    {
     "data": {
      "text/latex": [
       "$\\displaystyle \\left[\\begin{matrix}Jxx & Jxy & Jxz\\\\Jxy & Jyy & Jyz\\\\Jxz & Jyz & Jzz\\end{matrix}\\right]$"
      ],
      "text/plain": [
       "⎡Jxx  Jxy  Jxz⎤\n",
       "⎢             ⎥\n",
       "⎢Jxy  Jyy  Jyz⎥\n",
       "⎢             ⎥\n",
       "⎣Jxz  Jyz  Jzz⎦"
      ]
     },
     "execution_count": 16,
     "metadata": {},
     "output_type": "execute_result"
    }
   ],
   "source": [
    "J, Jxx, Jxy, Jxz, Jyy, Jyz, Jzz = symbols('J Jxx Jxy Jxz Jyy Jyz Jzz')\n",
    "\n",
    "J = Matrix([[Jxx, Jxy, Jxz], [Jxy, Jyy, Jyz], [Jxz, Jyz, Jzz]])\n",
    "J"
   ]
  },
  {
   "cell_type": "markdown",
   "metadata": {},
   "source": [
    "### Show that for any three-dimensional body:"
   ]
  },
  {
   "cell_type": "code",
   "execution_count": 13,
   "metadata": {},
   "outputs": [
    {
     "data": {
      "text/latex": [
       "$\\displaystyle Jxx - Jyy + Jzz \\geq 0$"
      ],
      "text/plain": [
       "Jxx - Jyy + Jzz ≥ 0"
      ]
     },
     "execution_count": 13,
     "metadata": {},
     "output_type": "execute_result"
    }
   ],
   "source": [
    "GreaterThan(Jxx - Jyy + Jzz, 0)"
   ]
  },
  {
   "cell_type": "markdown",
   "metadata": {},
   "source": [
    "#### Going back to the definition of the moments of inertia of the three axis:"
   ]
  },
  {
   "cell_type": "markdown",
   "metadata": {},
   "source": [
    "$\\begin{aligned} \\mathbf{J} & \\triangleq-\\int_{V} \\boldsymbol{\\rho}^{\\times} \\boldsymbol{\\rho}^{\\times} \\mathrm{d} m \\\\=& \\int_{V}\\left[\\begin{array}{ccc}\\left(\\rho_{y}^{2}+\\rho_{z}^{2}\\right) & -\\rho_{x} \\rho_{y} & -\\rho_{x} \\rho_{z} \\\\ -\\rho_{x} \\rho_{y} & \\left(\\rho_{x}^{2}+\\rho_{z}^{2}\\right) & -\\rho_{y} \\rho_{z} \\\\ -\\rho_{x} \\rho_{z} & -\\rho_{y} \\rho_{z} & \\left(\\rho_{x}^{2}+\\rho_{y}^{2}\\right)\\end{array}\\right] \\sigma\\left(\\rho_{x}, \\rho_{y}, \\rho_{z}\\right) \\mathrm{d} V \\end{aligned}$"
   ]
  },
  {
   "cell_type": "code",
   "execution_count": 17,
   "metadata": {},
   "outputs": [
    {
     "data": {
      "text/latex": [
       "$\\displaystyle \\left( \\int \\left(\\rho_{y}^{2} + \\rho_{z}^{2}\\right)\\, dm, \\  \\int \\left(\\rho_{x}^{2} + \\rho_{z}^{2}\\right)\\, dm, \\  \\int \\left(\\rho_{x}^{2} + \\rho_{y}^{2}\\right)\\, dm\\right)$"
      ],
      "text/plain": [
       "⎛⌠                   ⌠                  ⌠                ⎞\n",
       "⎜⎮ ⎛   2      2⎞     ⎮ ⎛  2      2⎞     ⎮ ⎛  2      2⎞   ⎟\n",
       "⎜⎮ ⎝ρ_y  + ρ_z ⎠ dm, ⎮ ⎝ρₓ  + ρ_z ⎠ dm, ⎮ ⎝ρₓ  + ρ_y ⎠ dm⎟\n",
       "⎝⌡                   ⌡                  ⌡                ⎠"
      ]
     },
     "execution_count": 17,
     "metadata": {},
     "output_type": "execute_result"
    }
   ],
   "source": [
    "rhox, rhoy, rhoz, m = symbols('rho_x rho_y rho_z m')\n",
    "\n",
    "Jxx = Integral((rhoy**2 + rhoz**2), (m))\n",
    "Jyy = Integral((rhox**2 + rhoz**2), (m))\n",
    "Jzz = Integral((rhox**2 + rhoy**2), (m))\n",
    "\n",
    "Jxx, Jyy, Jzz"
   ]
  },
  {
   "cell_type": "markdown",
   "metadata": {},
   "source": [
    "Therefore:"
   ]
  },
  {
   "cell_type": "code",
   "execution_count": 15,
   "metadata": {},
   "outputs": [
    {
     "data": {
      "text/latex": [
       "$\\displaystyle 2 m \\rho_{y}^{2} > 0$"
      ],
      "text/plain": [
       "       2    \n",
       "2⋅m⋅ρ_y  > 0"
      ]
     },
     "execution_count": 15,
     "metadata": {},
     "output_type": "execute_result"
    }
   ],
   "source": [
    "(Jxx - Jyy + Jzz > 0).simplify()\n"
   ]
  },
  {
   "cell_type": "markdown",
   "metadata": {},
   "source": [
    "For any 3-dimensional body, there are points within the body with non-zero\n",
    "y-coordinates. Therefore, the above integral is positive, which gives the result\n",
    "sought after in the question.\n"
   ]
  }
 ],
 "metadata": {
  "interpreter": {
   "hash": "7bdadbcc745afc9ac1e1714124e1bb5770ee7d86d26de672bb194e9104174d2a"
  },
  "kernelspec": {
   "display_name": "Python 3.8.3 64-bit ('base': conda)",
   "name": "python3"
  },
  "language_info": {
   "codemirror_mode": {
    "name": "ipython",
    "version": 3
   },
   "file_extension": ".py",
   "mimetype": "text/x-python",
   "name": "python",
   "nbconvert_exporter": "python",
   "pygments_lexer": "ipython3",
   "version": "3.8.3"
  },
  "orig_nbformat": 4
 },
 "nbformat": 4,
 "nbformat_minor": 2
}
