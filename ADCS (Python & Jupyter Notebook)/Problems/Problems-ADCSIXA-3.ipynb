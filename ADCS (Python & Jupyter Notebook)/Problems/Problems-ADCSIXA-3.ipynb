{
 "cells": [
  {
   "cell_type": "code",
   "execution_count": 12,
   "metadata": {},
   "outputs": [],
   "source": [
    "#%% Import libraries\n",
    "import numpy as np\n",
    "from sympy import *\n",
    "# from sympy.physics.mechanics import ReferenceFrame\n",
    "from IPython.display import display, Latex, Math\n",
    "init_printing(use_latex='mathjax')\n",
    "\n",
    "from sys import path\n",
    "path.append(\n",
    "    \"c:\\\\Users\\\\diego\\\\Dropbox\\\\Academic\\\\MEng Space Systems\\\\3. DOCA\\\\ADCS functions\")\n",
    "import ADCS_Functions as adcs\n",
    "import ADCS_Functions_sym as adcs_sym"
   ]
  },
  {
   "cell_type": "code",
   "execution_count": 13,
   "metadata": {},
   "outputs": [],
   "source": [
    "r, m, h = symbols('r m h')\n",
    "omega1sim, omega2sim, omega3sim = symbols('\\omega_1 \\omega_2 \\omega_3')\n",
    "I1sim, I2sim, I3sim, = symbols('I_1 I_2 I_3')\n",
    "dotomega1sim, dotomega2sim, dotomega3sim = symbols(\n",
    "    '\\dot{\\omega}_1 \\dot{\\omega}_2 \\dot{\\omega}_3')\n"
   ]
  },
  {
   "cell_type": "markdown",
   "metadata": {},
   "source": [
    "_____________________"
   ]
  },
  {
   "cell_type": "markdown",
   "metadata": {},
   "source": [
    "Explore the polhode trajectory (intersection of kinetic energy ellipsoid and \n",
    "angular momentum ellipsoid) for the torque-free rotation for the two \n",
    "particular body geometries where the body is either axisymmetric with I1 = I2, \n",
    "or the body principal inertias are all equal with I1 = I2 = I3. This last condition \n",
    "occurs if the body is a homogenous cube and the body frame B is a principal \n",
    "coordinate frame, or the body is a homogenous sphere with any body fixed \n",
    "frame B."
   ]
  },
  {
   "cell_type": "markdown",
   "metadata": {},
   "source": [
    "### Case 1: axisymmetric body with $I_1 = I_2$"
   ]
  },
  {
   "cell_type": "markdown",
   "metadata": {},
   "source": [
    "For the axisymmetric spacecraft assume (without loss of generality) that $I_1 = I_2$. \n",
    "\n",
    "Using Euler equations:\n",
    "\n",
    "* $I_{1} \\dot{\\omega}_{1}-\\left(I_{2}-I_{3}\\right) \\omega_{2} \\omega_{3}=0$\n",
    "* $I_{2} \\dot{\\omega}_{2}-\\left(I_{3}-I_{1}\\right) \\omega_{3} \\omega_{1}=0$\n",
    "* $I_{3} \\dot{\\omega}_{3}-\\left(I_{1}-I_{2}\\right) \\omega_{1} \\omega_{2}=0$"
   ]
  },
  {
   "cell_type": "code",
   "execution_count": 14,
   "metadata": {},
   "outputs": [
    {
     "data": {
      "text/latex": [
       "$\\displaystyle \\left( I_{1} \\dot{\\omega}_1 - \\omega_{2} \\omega_{3} \\left(I_{2} - I_{3}\\right) = 0, \\  I_{2} \\dot{\\omega}_2 - \\omega_{1} \\omega_{3} \\left(- I_{1} + I_{3}\\right) = 0, \\  I_{3} \\dot{\\omega}_3 - \\omega_{1} \\omega_{2} \\left(I_{1} - I_{2}\\right) = 0\\right)$"
      ],
      "text/plain": [
       "(I₁⋅\\dot{\\omega}₁ - \\omega₂⋅\\omega₃⋅(I₂ - I₃) = 0, I₂⋅\\dot{\\omega}₂ - \\omega₁⋅\n",
       "\\omega₃⋅(-I₁ + I₃) = 0, I₃⋅\\dot{\\omega}₃ - \\omega₁⋅\\omega₂⋅(I₁ - I₂) = 0)"
      ]
     },
     "execution_count": 14,
     "metadata": {},
     "output_type": "execute_result"
    }
   ],
   "source": [
    "Eul1 = (I1sim*dotomega1sim - (I2sim - I3sim)*omega2sim*omega3sim)\n",
    "Eul2 = (I2sim*dotomega2sim - (I3sim - I1sim)*omega3sim*omega1sim)\n",
    "Eul3 = (I3sim*dotomega3sim - (I1sim - I2sim)*omega1sim*omega2sim)\n",
    "\n",
    "Eq(Eul1, 0), Eq(Eul2,0), Eq(Eul3,0)\n"
   ]
  },
  {
   "cell_type": "code",
   "execution_count": 15,
   "metadata": {},
   "outputs": [
    {
     "data": {
      "text/latex": [
       "$\\displaystyle \\left( \\left[\\begin{matrix}\\frac{\\omega_{2} \\omega_{3} \\left(I_{1} - I_{3}\\right)}{I_{1}}\\end{matrix}\\right], \\  \\left[\\begin{matrix}\\frac{\\omega_{1} \\omega_{3} \\left(- I_{1} + I_{3}\\right)}{I_{1}}\\end{matrix}\\right], \\  \\left[\\begin{matrix}0\\end{matrix}\\right]\\right)$"
      ],
      "text/plain": [
       "⎛⎡\\omega₂⋅\\omega₃⋅(I₁ - I₃)⎤  ⎡\\omega₁⋅\\omega₃⋅(-I₁ + I₃)⎤     ⎞\n",
       "⎜⎢─────────────────────────⎥, ⎢──────────────────────────⎥, [0]⎟\n",
       "⎝⎣            I₁           ⎦  ⎣            I₁            ⎦     ⎠"
      ]
     },
     "execution_count": 15,
     "metadata": {},
     "output_type": "execute_result"
    }
   ],
   "source": [
    "# Since I1 = I2\n",
    "Eul1 = Matrix(solve(Eul1, dotomega1sim)).subs(I2sim, I1sim)\n",
    "Eul2 = Matrix(solve(Eul2, dotomega2sim)).subs(I2sim, I1sim)\n",
    "Eul3 = Matrix(solve(Eul3, dotomega3sim)).subs(I2sim, I1sim)\n",
    "\n",
    "Eul1, Eul2, Eul3"
   ]
  },
  {
   "cell_type": "markdown",
   "metadata": {},
   "source": [
    "Therefore, $\\omega_3 (t) = \\omega_3 (t_0)$, which is a constant value.\n",
    "\n",
    "Using:\n",
    "\n",
    "$\\frac{h_{1}^{2}}{2 I_{1} T}+\\frac{h_{2}^{2}}{2 I_{2} T}+\\frac{h_{3}^{2}}{2 I_{3} T}=1$,\n",
    "\n",
    "the \n",
    "kinetic energy ellipsoid has identical semi-axis in the h1 and h2 direction, with \n",
    "an unique semi-axis in the h3 direction. \n",
    "\n",
    "Intersecting this energy constraint \n",
    "surface with the spherical momentum constraint surface leads to circular \n",
    "intersection trajectories about the h3. \n",
    "\n",
    "Because we can assume I1 = I2 > I3, the resulting ω trajectory orbit the h3 axis \n",
    "in a clockwise fashion. "
   ]
  },
  {
   "cell_type": "markdown",
   "metadata": {},
   "source": [
    "Remark: On the momentum sphere $(h_1, h_2)$ equatorial plane an interesting \n",
    "motion occurs. Note that here $h_3 = \\omega_3 = 0$, and for this axisymmetric body we \n",
    "know that $\\omega_3(t) = \\omega_3(t_0) = 0$. \n",
    "\n",
    "Looking at the Euler equation shown above, we \n",
    "find that in this case we have $\\dot{\\omega_1} = \\dot{\\omega_2} = 0$ . This means that if $\\omega_3 = 0$, then $\\omega_1$ and \n",
    "$\\omega_2$ will have constant values.\n",
    "\n",
    " In the polhode plot this constant angular rate \n",
    "condition is illustrated by having dots on the momentum sphere equator \n",
    "instead of trajectories."
   ]
  },
  {
   "cell_type": "markdown",
   "metadata": {},
   "source": [
    "___________________"
   ]
  },
  {
   "cell_type": "markdown",
   "metadata": {},
   "source": [
    "### Case 2: Symmetric body with $I_1 = I_2 = I_3$"
   ]
  },
  {
   "cell_type": "code",
   "execution_count": 16,
   "metadata": {},
   "outputs": [
    {
     "data": {
      "text/latex": [
       "$\\displaystyle \\left( \\left[\\begin{matrix}0\\end{matrix}\\right], \\  \\left[\\begin{matrix}0\\end{matrix}\\right], \\  \\left[\\begin{matrix}0\\end{matrix}\\right]\\right)$"
      ],
      "text/plain": [
       "([0], [0], [0])"
      ]
     },
     "execution_count": 16,
     "metadata": {},
     "output_type": "execute_result"
    }
   ],
   "source": [
    "I1sim = I2sim = I3sim\n",
    "\n",
    "Eul1 = (I1sim*dotomega1sim - (I2sim - I3sim)*omega2sim*omega3sim).simplify()\n",
    "Eul2 = (I2sim*dotomega2sim - (I3sim - I1sim)*omega3sim*omega1sim).simplify()\n",
    "Eul3 = (I3sim*dotomega3sim - (I1sim - I2sim)*omega1sim*omega2sim).simplify()\n",
    "\n",
    "Eul1 = Matrix(solve(Eul1, dotomega1sim))\n",
    "Eul2 = Matrix(solve(Eul2, dotomega2sim))\n",
    "Eul3 = Matrix(solve(Eul3, dotomega3sim))\n",
    "\n",
    "Eul1, Eul2, Eul3"
   ]
  },
  {
   "cell_type": "code",
   "execution_count": 17,
   "metadata": {},
   "outputs": [
    {
     "data": {
      "text/latex": [
       "$\\displaystyle \\left( \\dot{\\omega}_1 = 0, \\  \\dot{\\omega}_2 = 0, \\  \\dot{\\omega}_3 = 0\\right)$"
      ],
      "text/plain": [
       "(\\dot{\\omega}₁ = 0, \\dot{\\omega}₂ = 0, \\dot{\\omega}₃ = 0)"
      ]
     },
     "execution_count": 17,
     "metadata": {},
     "output_type": "execute_result"
    }
   ],
   "source": [
    "# Meaning:\n",
    "\n",
    "Eq(dotomega1sim, 0), Eq(dotomega2sim, 0), Eq(dotomega3sim, 0)"
   ]
  },
  {
   "cell_type": "markdown",
   "metadata": {},
   "source": [
    "All $\\omega_i (t)$ will be constant. \n",
    "\n",
    "Geometrically, this condition indicates that the \n",
    "energy ellipsoid has become a sphere that is identical to the momentum \n",
    "sphere. \n",
    "\n",
    "Thus, every point on the sphere is an intersection of the momentum \n",
    "and energy constraints. "
   ]
  }
 ],
 "metadata": {
  "interpreter": {
   "hash": "7bdadbcc745afc9ac1e1714124e1bb5770ee7d86d26de672bb194e9104174d2a"
  },
  "kernelspec": {
   "display_name": "Python 3.8.3 64-bit ('base': conda)",
   "language": "python",
   "name": "python3"
  },
  "language_info": {
   "codemirror_mode": {
    "name": "ipython",
    "version": 3
   },
   "file_extension": ".py",
   "mimetype": "text/x-python",
   "name": "python",
   "nbconvert_exporter": "python",
   "pygments_lexer": "ipython3",
   "version": "3.8.3"
  },
  "orig_nbformat": 4
 },
 "nbformat": 4,
 "nbformat_minor": 2
}
