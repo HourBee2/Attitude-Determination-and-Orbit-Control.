{
 "cells": [
  {
   "cell_type": "code",
   "execution_count": 14,
   "metadata": {},
   "outputs": [],
   "source": [
    "#%% Import libraries\n",
    "import numpy as np\n",
    "from IPython.display import display, Latex, Math\n",
    "from sys import path\n",
    "path.append(\n",
    "    \"c:\\\\Users\\\\diego\\\\Dropbox\\\\Academic\\\\MEng Space Systems\\\\3. DOCA\\\\ADCS functions\")\n",
    "import ADCS_Functions as adcs"
   ]
  },
  {
   "cell_type": "code",
   "execution_count": 15,
   "metadata": {},
   "outputs": [],
   "source": [
    "#%% Functions\n",
    "\n",
    "def print_matrix(array, decimals=3):\n",
    "    \"\"\"\n",
    "    A function to just print a matrix in Latex form. It just looks nicer.\n",
    "    \"\"\"\n",
    "    matrix = ''\n",
    "    for row in array:\n",
    "        try:\n",
    "            for number in row:\n",
    "                matrix += f'{round(number,decimals)}&'\n",
    "        except TypeError:\n",
    "            matrix += f'{round(row,decimals)}&'\n",
    "        matrix = matrix[:-1] + r'\\\\'\n",
    "    display(Math(r'\\begin{bmatrix}'+matrix+r'\\end{bmatrix}'))\n",
    "\n",
    "\n",
    "def find_eig_3x3(J):\n",
    "    \"\"\"\n",
    "    A function to find the eigenvalues and eigenvectors of a 3x3 matrix.\n",
    "    \"\"\"\n",
    "    Eigen = np.linalg.eigh(J)  # Other methods include la.eig (import scipy.linalg as la) or np.linalg.eig, but give a different order for eigenvectors\n",
    "    Eigenvalues = Eigen[0]\n",
    "    # The column v[:, i] is the normalized eigenvector corresponding to the eigenvalue w[i]. Will return a matrix object if a is a matrix object.\n",
    "    Eigenvectors = Eigen[1]\n",
    "    return Eigenvalues, Eigenvectors\n"
   ]
  },
  {
   "cell_type": "markdown",
   "metadata": {},
   "source": [
    "### Consider rigid body with following inertia matrix about a body-fixed frame with its origin at center of mass.\n",
    "### Find eigenvalues, eigenvectors and rotation matrix."
   ]
  },
  {
   "cell_type": "code",
   "execution_count": 16,
   "metadata": {},
   "outputs": [
    {
     "data": {
      "text/latex": [
       "$\\displaystyle \\begin{bmatrix}1500&0&-1000\\\\0&2700&0\\\\-1000&0&3000\\\\\\end{bmatrix}$"
      ],
      "text/plain": [
       "<IPython.core.display.Math object>"
      ]
     },
     "metadata": {},
     "output_type": "display_data"
    }
   ],
   "source": [
    "#%% Data\n",
    "J = np.array([[1500, 0, -1000],\n",
    "              [0, 2700, 0], \n",
    "              [-1000, 0, 3000] ] )\n",
    "\n",
    "print_matrix(J)\n"
   ]
  },
  {
   "cell_type": "markdown",
   "metadata": {},
   "source": [
    "The three eigenvalues of the inertia matrix J can be obtained as shown in the lecture with $(\\bold{J}-\\lambda \\bold{1})\\bold{\\omega} = 0$  and with  $\\mathrm{det}(\\bold{J}-\\lambda \\bold{1}) = 0$ . (See also Problem 2 for a \n",
    "step by step derivation.) "
   ]
  },
  {
   "cell_type": "code",
   "execution_count": 17,
   "metadata": {},
   "outputs": [
    {
     "data": {
      "text/latex": [
       "$\\displaystyle \\begin{bmatrix}1000.0\\\\2700.0\\\\3500.0\\\\\\end{bmatrix}$"
      ],
      "text/plain": [
       "<IPython.core.display.Math object>"
      ]
     },
     "metadata": {},
     "output_type": "display_data"
    },
    {
     "data": {
      "text/latex": [
       "$\\displaystyle \\begin{bmatrix}-0.894&0.0&-0.447\\\\0.0&1.0&0.0\\\\-0.447&0.0&0.894\\\\\\end{bmatrix}$"
      ],
      "text/plain": [
       "<IPython.core.display.Math object>"
      ]
     },
     "metadata": {},
     "output_type": "display_data"
    }
   ],
   "source": [
    "Eigenvalues, Eigenvectors = find_eig_3x3(J)\n",
    "\n",
    "print_matrix(Eigenvalues)\n",
    "print_matrix(Eigenvectors) # This is also the rotation matrix between the principal axes and the one given above\n"
   ]
  },
  {
   "cell_type": "markdown",
   "metadata": {},
   "source": [
    "### Note that each eigenvector is a column vector that composes the matrix. Also the rotation matrix between the principal axes and the one given above is equal to the eigenvectors matrix."
   ]
  },
  {
   "cell_type": "markdown",
   "metadata": {},
   "source": [
    "### The inertia matrix is therefore:"
   ]
  },
  {
   "cell_type": "code",
   "execution_count": 18,
   "metadata": {},
   "outputs": [
    {
     "data": {
      "text/latex": [
       "$\\displaystyle \\begin{bmatrix}1000.0&0.0&-0.0\\\\0.0&2700.0&0.0\\\\0.0&0.0&3500.0\\\\\\end{bmatrix}$"
      ],
      "text/plain": [
       "<IPython.core.display.Math object>"
      ]
     },
     "metadata": {},
     "output_type": "display_data"
    }
   ],
   "source": [
    "# Can also use @ between the vectors, or np.round(np.dot(np.dot(Eigenvectors,J),Eigenvectors.T))\n",
    "#I = np.round(np.dot(np.dot(Eigenvectors, J), Eigenvectors.T))\n",
    "I = np.round(Eigenvectors @ J @ Eigenvectors.T)\n",
    "print_matrix(I)\n"
   ]
  },
  {
   "cell_type": "code",
   "execution_count": 19,
   "metadata": {},
   "outputs": [
    {
     "data": {
      "text/plain": [
       "True"
      ]
     },
     "execution_count": 19,
     "metadata": {},
     "output_type": "execute_result"
    }
   ],
   "source": [
    "# Confirm that it's the same\n",
    "\n",
    "np.allclose(I, Eigenvalues*np.eye(3))\n"
   ]
  }
 ],
 "metadata": {
  "interpreter": {
   "hash": "7bdadbcc745afc9ac1e1714124e1bb5770ee7d86d26de672bb194e9104174d2a"
  },
  "kernelspec": {
   "display_name": "Python 3.8.3 64-bit ('base': conda)",
   "name": "python3"
  },
  "language_info": {
   "codemirror_mode": {
    "name": "ipython",
    "version": 3
   },
   "file_extension": ".py",
   "mimetype": "text/x-python",
   "name": "python",
   "nbconvert_exporter": "python",
   "pygments_lexer": "ipython3",
   "version": "3.8.3"
  },
  "orig_nbformat": 4
 },
 "nbformat": 4,
 "nbformat_minor": 2
}
