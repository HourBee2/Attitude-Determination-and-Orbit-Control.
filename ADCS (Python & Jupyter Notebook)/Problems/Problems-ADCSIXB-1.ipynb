{
 "cells": [
  {
   "cell_type": "code",
   "execution_count": 1,
   "metadata": {},
   "outputs": [],
   "source": [
    "#%% Import libraries\n",
    "import numpy as np\n",
    "from sympy import *\n",
    "# from sympy.physics.mechanics import ReferenceFrame\n",
    "from IPython.display import display, Latex, Math\n",
    "init_printing(use_latex='mathjax')\n",
    "\n",
    "from sys import path\n",
    "path.append(\n",
    "    \"c:\\\\Users\\\\diego\\\\Dropbox\\\\Academic\\\\MEng Space Systems\\\\3. DOCA\\\\ADCS functions\")\n",
    "import ADCS_Functions as adcs\n",
    "import ADCS_Functions_sym as adcs_sym"
   ]
  },
  {
   "cell_type": "markdown",
   "metadata": {},
   "source": [
    "_______________________________"
   ]
  },
  {
   "cell_type": "markdown",
   "metadata": {},
   "source": [
    "Given a homogenous cylinder of radius R and height h, what is the smallest \n",
    "possible cylinder height such that this object would still be gravity gradient  \n",
    "stabilized in attitude (assume height is aligned with $\\hat{O_3}$)?"
   ]
  },
  {
   "cell_type": "markdown",
   "metadata": {},
   "source": [
    "________________________"
   ]
  },
  {
   "cell_type": "markdown",
   "metadata": {},
   "source": [
    "Here $\\hat{O_3}$ is aligned with the cylinder symmetry axis(aligned with the length h\n",
    "                                                    direction).  The principal inertias for a cylinder are given by"
   ]
  },
  {
   "cell_type": "code",
   "execution_count": 2,
   "metadata": {},
   "outputs": [
    {
     "data": {
      "text/latex": [
       "$\\displaystyle \\left( I_{1} = 0.0833333333333333 m \\left(h^{2} + 3 r^{2}\\right), \\  I_{2} = 0.0833333333333333 m \\left(h^{2} + 3 r^{2}\\right), \\  I_{3} = 0.5 m r^{2}\\right)$"
      ],
      "text/plain": [
       "⎛                          ⎛ 2      2⎞                            ⎛ 2      2⎞ \n",
       "⎝I₁ = 0.0833333333333333⋅m⋅⎝h  + 3⋅r ⎠, I₂ = 0.0833333333333333⋅m⋅⎝h  + 3⋅r ⎠,\n",
       "\n",
       "             2⎞\n",
       " I₃ = 0.5⋅m⋅r ⎠"
      ]
     },
     "execution_count": 2,
     "metadata": {},
     "output_type": "execute_result"
    }
   ],
   "source": [
    "I1, I2, I3 = adcs_sym.Inertia_cylinder()\n",
    "Eq(Symbol('I1'), I1), Eq(Symbol('I2'), I2), Eq(Symbol('I3'), I3)"
   ]
  },
  {
   "cell_type": "markdown",
   "metadata": {},
   "source": [
    "The stability condition requires that $I_2 \\geq I_1 \\geq I_3$. Since $I_2 = I_1$, the first part of \n",
    "this stability condition is automatically satisfied. Thus, we need to make sure that $I_1 \\geq I_3$"
   ]
  },
  {
   "cell_type": "code",
   "execution_count": 4,
   "metadata": {},
   "outputs": [
    {
     "data": {
      "text/latex": [
       "$\\displaystyle 0.5 m r^{2} \\leq 0.0833333333333333 m \\left(h^{2} + 3 r^{2}\\right)$"
      ],
      "text/plain": [
       "       2                        ⎛ 2      2⎞\n",
       "0.5⋅m⋅r  ≤ 0.0833333333333333⋅m⋅⎝h  + 3⋅r ⎠"
      ]
     },
     "execution_count": 4,
     "metadata": {},
     "output_type": "execute_result"
    }
   ],
   "source": [
    "(I1 >= I3).simplify()"
   ]
  },
  {
   "cell_type": "markdown",
   "metadata": {},
   "source": [
    "Therefore, $h \\geq \\sqrt{3} R$"
   ]
  }
 ],
 "metadata": {
  "interpreter": {
   "hash": "7bdadbcc745afc9ac1e1714124e1bb5770ee7d86d26de672bb194e9104174d2a"
  },
  "kernelspec": {
   "display_name": "Python 3.8.3 64-bit ('base': conda)",
   "language": "python",
   "name": "python3"
  },
  "language_info": {
   "codemirror_mode": {
    "name": "ipython",
    "version": 3
   },
   "file_extension": ".py",
   "mimetype": "text/x-python",
   "name": "python",
   "nbconvert_exporter": "python",
   "pygments_lexer": "ipython3",
   "version": "3.8.3"
  },
  "orig_nbformat": 4
 },
 "nbformat": 4,
 "nbformat_minor": 2
}
