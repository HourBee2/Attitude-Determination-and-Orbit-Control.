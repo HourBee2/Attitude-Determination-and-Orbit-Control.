{
 "cells": [
  {
   "cell_type": "code",
   "execution_count": 42,
   "metadata": {},
   "outputs": [],
   "source": [
    "#%% Import libraries\n",
    "import numpy as np\n",
    "import sympy as sp\n",
    "# from sympy.physics.mechanics import ReferenceFrame\n",
    "from IPython.display import display, Latex, Math\n",
    "sp.init_printing(use_latex='mathjax')\n",
    "\n",
    "from sys import path\n",
    "path.append(\n",
    "    \"c:\\\\Users\\\\diego\\\\Dropbox\\\\Academic\\\\MEng Space Systems\\\\3. DOCA\\\\ADCS functions\")\n",
    "import ADCS_Functions as adcs\n",
    "import ADCS_Functions_sym as adcs_sym\n"
   ]
  },
  {
   "cell_type": "markdown",
   "metadata": {},
   "source": [
    "_________________________"
   ]
  },
  {
   "cell_type": "code",
   "execution_count": 43,
   "metadata": {},
   "outputs": [],
   "source": [
    "Ix = 98  # kg*m^2\n",
    "Iy = 102 # kg*m^2\n",
    "Iz = 150 # kg*m^2\n",
    "I = np.array([Ix, Iy, Iz])\n",
    "\n",
    "wx = 0.1 # rad/s\n",
    "wy = 0.02 # rad/s\n",
    "wz = 0.5 # rad/s\n",
    "w = np.array([wx, wy, wz])"
   ]
  },
  {
   "cell_type": "markdown",
   "metadata": {},
   "source": [
    "The principal inertias are very close. Therefore, we approximate the spacecraft as being axisymmetric"
   ]
  },
  {
   "cell_type": "markdown",
   "metadata": {},
   "source": [
    "### a) Describe the resulting spacecraft attitude motion if there are no disturbance torques."
   ]
  },
  {
   "cell_type": "code",
   "execution_count": 51,
   "metadata": {},
   "outputs": [
    {
     "data": {
      "text/latex": [
       "$\\displaystyle 100.0$"
      ],
      "text/plain": [
       "100.0"
      ]
     },
     "execution_count": 51,
     "metadata": {},
     "output_type": "execute_result"
    }
   ],
   "source": [
    "IT = (Ix + Iy )/2 # Since it is axisymmetric it is equal to  = Ix  = Iy\n",
    "IT"
   ]
  },
  {
   "cell_type": "code",
   "execution_count": 45,
   "metadata": {},
   "outputs": [
    {
     "name": "stdout",
     "output_type": "stream",
     "text": [
      "Is Iz > IT ? True\n"
     ]
    }
   ],
   "source": [
    "print('Is Iz > IT ?', Iz > IT)"
   ]
  },
  {
   "cell_type": "markdown",
   "metadata": {},
   "source": [
    "The spacecraft will behave like and oblate spinner, with the principal z-axis tracing out a cone in inertial space. This is because IZ > IT"
   ]
  },
  {
   "cell_type": "markdown",
   "metadata": {},
   "source": [
    "### b) Determine the nutation angle. "
   ]
  },
  {
   "cell_type": "code",
   "execution_count": 46,
   "metadata": {},
   "outputs": [
    {
     "data": {
      "text/latex": [
       "$\\displaystyle \\left( 9.8, \\  2.04, \\  75.0\\right)$"
      ],
      "text/plain": [
       "(9.8, 2.04, 75.0)"
      ]
     },
     "execution_count": 46,
     "metadata": {},
     "output_type": "execute_result"
    }
   ],
   "source": [
    "h = I*w\n",
    "\n",
    "h[0], h[1], h[2]"
   ]
  },
  {
   "cell_type": "code",
   "execution_count": 47,
   "metadata": {},
   "outputs": [
    {
     "data": {
      "text/latex": [
       "$\\displaystyle 10.0100749247945$"
      ],
      "text/plain": [
       "10.01007492479452"
      ]
     },
     "execution_count": 47,
     "metadata": {},
     "output_type": "execute_result"
    }
   ],
   "source": [
    "hT = np.linalg.norm(np.array([h[0], h[1]]))\n",
    "hT # transversal angular momentum"
   ]
  },
  {
   "cell_type": "code",
   "execution_count": 48,
   "metadata": {},
   "outputs": [
    {
     "data": {
      "text/latex": [
       "$\\displaystyle 75.6650619506784$"
      ],
      "text/plain": [
       "75.6650619506784"
      ]
     },
     "execution_count": 48,
     "metadata": {},
     "output_type": "execute_result"
    }
   ],
   "source": [
    "h_mag =  np.linalg.norm(h)\n",
    "h_mag"
   ]
  },
  {
   "cell_type": "code",
   "execution_count": 49,
   "metadata": {},
   "outputs": [
    {
     "data": {
      "text/latex": [
       "$\\displaystyle 7.60220547131551$"
      ],
      "text/plain": [
       "7.60220547131551"
      ]
     },
     "execution_count": 49,
     "metadata": {},
     "output_type": "execute_result"
    }
   ],
   "source": [
    "# Nutation angle\n",
    "gamma =  np.arcsin(hT/h_mag)\n",
    "np.rad2deg(gamma)"
   ]
  },
  {
   "cell_type": "markdown",
   "metadata": {},
   "source": [
    "### c) Determine the precession rate"
   ]
  },
  {
   "cell_type": "code",
   "execution_count": 50,
   "metadata": {},
   "outputs": [
    {
     "data": {
      "text/latex": [
       "$\\displaystyle 43.3528870636978$"
      ],
      "text/plain": [
       "43.35288706369784"
      ]
     },
     "execution_count": 50,
     "metadata": {},
     "output_type": "execute_result"
    }
   ],
   "source": [
    "Omega_p = h_mag / IT\n",
    "np.rad2deg(Omega_p)"
   ]
  },
  {
   "cell_type": "markdown",
   "metadata": {},
   "source": [
    "### Converting everything into a simple function"
   ]
  },
  {
   "cell_type": "code",
   "execution_count": 54,
   "metadata": {},
   "outputs": [],
   "source": [
    "def axisym_torquefree(I, w):\n",
    "    \"\"\"\n",
    "    This function calculates the axisymatic angular momentum, nutation angle and precession rate\n",
    "    \"\"\"\n",
    "    IT = (I[0] + I[1])/2 # Since it is axisymmetric it is equal to  = Ix  = Iy\n",
    "    h = I*w\n",
    "    hT = np.linalg.norm(np.array([h[0], h[1]]))\n",
    "    h_mag = np.linalg.norm(h)\n",
    "    gamma =  np.arcsin(hT/h_mag)\n",
    "    Omega_p = h_mag / IT\n",
    "    return h, hT, h_mag, gamma, Omega_p\n"
   ]
  },
  {
   "cell_type": "code",
   "execution_count": 55,
   "metadata": {},
   "outputs": [
    {
     "data": {
      "text/plain": [
       "(array([ 9.8 ,  2.04, 75.  ]),\n",
       " 10.01007492479452,\n",
       " 75.6650619506784,\n",
       " 0.13268351588758298,\n",
       " 0.756650619506784)"
      ]
     },
     "execution_count": 55,
     "metadata": {},
     "output_type": "execute_result"
    }
   ],
   "source": [
    "h, hT, h_mag, gamma, Omega_p = axisym_torquefree(I, w)\n",
    "\n",
    "h, hT, h_mag, gamma, Omega_p\n"
   ]
  }
 ],
 "metadata": {
  "interpreter": {
   "hash": "7bdadbcc745afc9ac1e1714124e1bb5770ee7d86d26de672bb194e9104174d2a"
  },
  "kernelspec": {
   "display_name": "Python 3.8.3 64-bit ('base': conda)",
   "language": "python",
   "name": "python3"
  },
  "language_info": {
   "codemirror_mode": {
    "name": "ipython",
    "version": 3
   },
   "file_extension": ".py",
   "mimetype": "text/x-python",
   "name": "python",
   "nbconvert_exporter": "python",
   "pygments_lexer": "ipython3",
   "version": "3.8.3"
  },
  "orig_nbformat": 4
 },
 "nbformat": 4,
 "nbformat_minor": 2
}
