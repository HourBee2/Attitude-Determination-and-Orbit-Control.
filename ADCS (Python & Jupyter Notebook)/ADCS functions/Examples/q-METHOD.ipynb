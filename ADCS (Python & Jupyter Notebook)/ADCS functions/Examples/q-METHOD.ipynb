{
 "cells": [
  {
   "cell_type": "markdown",
   "metadata": {},
   "source": [
    "## q-METHOD Example Lecture VII\n",
    "### slide 28"
   ]
  },
  {
   "cell_type": "code",
   "execution_count": 19,
   "metadata": {},
   "outputs": [],
   "source": [
    "import numpy as np\n",
    "from sys import path\n",
    "path.append(\n",
    "    \"c:\\\\Users\\\\diego\\\\Dropbox\\\\Academic\\\\MEng Space Systems\\\\3. DOCA\\\\ADCS functions\")\n",
    "import ADCS_Functions as adcs\n",
    "import ADCS_Functions_sym as adcs_sym"
   ]
  },
  {
   "cell_type": "code",
   "execution_count": 20,
   "metadata": {},
   "outputs": [
    {
     "data": {
      "text/latex": [
       "$\\displaystyle \\begin{bmatrix}0.707\\\\-0.707\\\\0.0\\\\\\end{bmatrix}$"
      ],
      "text/plain": [
       "<IPython.core.display.Math object>"
      ]
     },
     "metadata": {},
     "output_type": "display_data"
    },
    {
     "data": {
      "text/latex": [
       "$\\displaystyle \\begin{bmatrix}0.707\\\\0.707\\\\0.0\\\\\\end{bmatrix}$"
      ],
      "text/plain": [
       "<IPython.core.display.Math object>"
      ]
     },
     "metadata": {},
     "output_type": "display_data"
    },
    {
     "data": {
      "text/latex": [
       "$\\displaystyle \\begin{bmatrix}1\\\\0\\\\0\\\\\\end{bmatrix}$"
      ],
      "text/plain": [
       "<IPython.core.display.Math object>"
      ]
     },
     "metadata": {},
     "output_type": "display_data"
    },
    {
     "data": {
      "text/latex": [
       "$\\displaystyle \\begin{bmatrix}0\\\\1\\\\0\\\\\\end{bmatrix}$"
      ],
      "text/plain": [
       "<IPython.core.display.Math object>"
      ]
     },
     "metadata": {},
     "output_type": "display_data"
    },
    {
     "data": {
      "text/plain": [
       "(None, None, None, None)"
      ]
     },
     "execution_count": 20,
     "metadata": {},
     "output_type": "execute_result"
    }
   ],
   "source": [
    "ub = np.matrix([np.sqrt(2)/2, -np.sqrt(2)/2, 0]).T\n",
    "vb = np.matrix([np.sqrt(2)/2, np.sqrt(2)/2, 0]).T\n",
    "\n",
    "ui = np.matrix([1, 0, 0]).T\n",
    "vi = np.matrix([0, 1, 0]).T\n",
    "\n",
    "adcs.print_matrix(np.array(ub)), adcs.print_matrix(\n",
    "    np.array(vb)), adcs.print_matrix(np.array(ui)), adcs.print_matrix(np.array(vi))\n"
   ]
  },
  {
   "cell_type": "code",
   "execution_count": 21,
   "metadata": {},
   "outputs": [
    {
     "data": {
      "text/plain": [
       "(matrix([[ 0.70710678],\n",
       "         [-0.70710678],\n",
       "         [ 0.        ]]),\n",
       " matrix([[0.70710678],\n",
       "         [0.70710678],\n",
       "         [0.        ]]),\n",
       " matrix([[1],\n",
       "         [0],\n",
       "         [0]]),\n",
       " matrix([[0],\n",
       "         [1],\n",
       "         [0]]))"
      ]
     },
     "execution_count": 21,
     "metadata": {},
     "output_type": "execute_result"
    }
   ],
   "source": [
    "ub, vb, ui, vi"
   ]
  },
  {
   "cell_type": "code",
   "execution_count": 22,
   "metadata": {},
   "outputs": [
    {
     "data": {
      "text/latex": [
       "$\\displaystyle \\begin{bmatrix}0.707&0.707&0.0\\\\-0.707&0.707&0.0\\\\0.0&0.0&0.0\\\\\\end{bmatrix}$"
      ],
      "text/plain": [
       "<IPython.core.display.Math object>"
      ]
     },
     "metadata": {},
     "output_type": "display_data"
    }
   ],
   "source": [
    "B = vb*vi.T+ub*ui.T\n",
    "adcs.print_matrix(np.array(B))\n"
   ]
  },
  {
   "cell_type": "code",
   "execution_count": 23,
   "metadata": {},
   "outputs": [
    {
     "data": {
      "text/latex": [
       "$\\displaystyle 1.4142135623731$"
      ],
      "text/plain": [
       "1.4142135623730951"
      ]
     },
     "execution_count": 23,
     "metadata": {},
     "output_type": "execute_result"
    }
   ],
   "source": [
    "k22 = np.trace(B)\n",
    "k22"
   ]
  },
  {
   "cell_type": "code",
   "execution_count": 24,
   "metadata": {},
   "outputs": [
    {
     "data": {
      "text/latex": [
       "$\\displaystyle \\begin{bmatrix}0.0&0.0&0.0\\\\0.0&0.0&0.0\\\\0.0&0.0&-1.414\\\\\\end{bmatrix}$"
      ],
      "text/plain": [
       "<IPython.core.display.Math object>"
      ]
     },
     "metadata": {},
     "output_type": "display_data"
    }
   ],
   "source": [
    "K11 = B + B.T - k22*np.eye(3,3)\n",
    "adcs.print_matrix(np.array(K11))\n"
   ]
  },
  {
   "cell_type": "code",
   "execution_count": 25,
   "metadata": {},
   "outputs": [
    {
     "data": {
      "text/latex": [
       "$\\displaystyle \\begin{bmatrix}0.0\\\\0.0\\\\1.414\\\\\\end{bmatrix}$"
      ],
      "text/plain": [
       "<IPython.core.display.Math object>"
      ]
     },
     "metadata": {},
     "output_type": "display_data"
    }
   ],
   "source": [
    "k12 = np.array([(B[1, 2] - B[2, 1]), (B[2, 0] - B[0, 2]), (B[0, 1] - B[1, 0])]).T\n",
    "adcs.print_matrix(k12)\n"
   ]
  },
  {
   "cell_type": "code",
   "execution_count": 26,
   "metadata": {},
   "outputs": [
    {
     "data": {
      "text/latex": [
       "$\\displaystyle \\begin{bmatrix}0.0&0.0&0.0&0.0\\\\0.0&0.0&0.0&0.0\\\\0.0&0.0&-1.414&1.414\\\\0.0&0.0&1.414&1.414\\\\\\end{bmatrix}$"
      ],
      "text/plain": [
       "<IPython.core.display.Math object>"
      ]
     },
     "metadata": {},
     "output_type": "display_data"
    }
   ],
   "source": [
    "K = np.zeros((4,4))\n",
    "K[0:3, 0:3] = K11\n",
    "K[0:3, 3] = k12.T\n",
    "K[3, 0:3] = k12.T\n",
    "K[3, 3] = k22\n",
    "\n",
    "adcs.print_matrix(K)\n"
   ]
  },
  {
   "cell_type": "code",
   "execution_count": 27,
   "metadata": {},
   "outputs": [
    {
     "data": {
      "text/latex": [
       "$\\displaystyle \\begin{bmatrix}-2.0\\\\0.0\\\\0.0\\\\2.0\\\\\\end{bmatrix}$"
      ],
      "text/plain": [
       "<IPython.core.display.Math object>"
      ]
     },
     "metadata": {},
     "output_type": "display_data"
    },
    {
     "data": {
      "text/latex": [
       "$\\displaystyle \\begin{bmatrix}0.0&0.0&1.0&0.0\\\\0.0&1.0&0.0&0.0\\\\-0.924&0.0&0.0&0.383\\\\0.383&0.0&0.0&0.924\\\\\\end{bmatrix}$"
      ],
      "text/plain": [
       "<IPython.core.display.Math object>"
      ]
     },
     "metadata": {},
     "output_type": "display_data"
    },
    {
     "data": {
      "text/plain": [
       "(None, None)"
      ]
     },
     "execution_count": 27,
     "metadata": {},
     "output_type": "execute_result"
    }
   ],
   "source": [
    "Eigenvalues, Eigenvectors = adcs.find_eig(K)\n",
    "adcs.print_matrix(Eigenvalues), adcs.print_matrix(Eigenvectors)\n",
    "\n"
   ]
  },
  {
   "cell_type": "code",
   "execution_count": 28,
   "metadata": {},
   "outputs": [
    {
     "data": {
      "text/latex": [
       "$\\displaystyle \\begin{bmatrix}2.0\\\\\\end{bmatrix}$"
      ],
      "text/plain": [
       "<IPython.core.display.Math object>"
      ]
     },
     "metadata": {},
     "output_type": "display_data"
    },
    {
     "data": {
      "text/latex": [
       "$\\displaystyle \\begin{bmatrix}0.0&0.0&0.383&0.924\\\\\\end{bmatrix}$"
      ],
      "text/plain": [
       "<IPython.core.display.Math object>"
      ]
     },
     "metadata": {},
     "output_type": "display_data"
    }
   ],
   "source": [
    "max_Eigenvalue = np.max(Eigenvalues)\n",
    "max_Eigenvector = Eigenvectors[:, np.where(Eigenvalues == np.max(Eigenvalues))]\n",
    "\n",
    "adcs.print_matrix(np.array(np.matrix(max_Eigenvalue))),\n",
    "adcs.print_matrix(np.array(np.matrix(max_Eigenvector)))\n"
   ]
  },
  {
   "cell_type": "code",
   "execution_count": 29,
   "metadata": {},
   "outputs": [
    {
     "data": {
      "text/latex": [
       "$\\displaystyle \\begin{bmatrix}0.707&0.707&0.0\\\\-0.707&0.707&0.0\\\\0.0&0.0&1.0\\\\\\end{bmatrix}$"
      ],
      "text/plain": [
       "<IPython.core.display.Math object>"
      ]
     },
     "metadata": {},
     "output_type": "display_data"
    }
   ],
   "source": [
    "C = adcs.Quaternion_to_DCM(max_Eigenvector)\n",
    "\n",
    "adcs.print_matrix(C)"
   ]
  },
  {
   "cell_type": "code",
   "execution_count": 46,
   "metadata": {},
   "outputs": [
    {
     "data": {
      "text/latex": [
       "$\\displaystyle \\begin{bmatrix}0.707&0.707&0.0\\\\-0.707&0.707&0.0\\\\0.0&0.0&0.0\\\\\\end{bmatrix}$"
      ],
      "text/plain": [
       "<IPython.core.display.Math object>"
      ]
     },
     "metadata": {},
     "output_type": "display_data"
    },
    {
     "data": {
      "text/latex": [
       "$\\displaystyle \\begin{bmatrix}0.0&0.0&0.0&0.0\\\\0.0&0.0&0.0&0.0\\\\0.0&0.0&-1.414&1.414\\\\0.0&0.0&1.414&1.414\\\\\\end{bmatrix}$"
      ],
      "text/plain": [
       "<IPython.core.display.Math object>"
      ]
     },
     "metadata": {},
     "output_type": "display_data"
    },
    {
     "data": {
      "text/latex": [
       "$\\displaystyle \\begin{bmatrix}0.0\\\\0.0\\\\0.383\\\\0.924\\\\\\end{bmatrix}$"
      ],
      "text/plain": [
       "<IPython.core.display.Math object>"
      ]
     },
     "metadata": {},
     "output_type": "display_data"
    },
    {
     "data": {
      "text/latex": [
       "$\\displaystyle \\begin{bmatrix}0.707&0.707&0.0\\\\-0.707&0.707&0.0\\\\0.0&0.0&1.0\\\\\\end{bmatrix}$"
      ],
      "text/plain": [
       "<IPython.core.display.Math object>"
      ]
     },
     "metadata": {},
     "output_type": "display_data"
    },
    {
     "data": {
      "text/plain": [
       "(None, None, None, None)"
      ]
     },
     "execution_count": 46,
     "metadata": {},
     "output_type": "execute_result"
    }
   ],
   "source": [
    "# using the library:\n",
    "\n",
    "b = np.array([vb, ub])\n",
    "RF = np.array([vi, ui])\n",
    "\n",
    "B, k22, K11, k12, K, max_Eigenvalue, max_Eigenvector, C = adcs.q_method(b, RF)\n",
    "adcs.print_matrix(B), adcs.print_matrix(K), adcs.print_matrix((max_Eigenvector)[:, 0]), adcs.print_matrix(C)\n"
   ]
  },
  {
   "cell_type": "code",
   "execution_count": 44,
   "metadata": {},
   "outputs": [
    {
     "data": {
      "text/latex": [
       "$\\displaystyle \\begin{bmatrix}0.0\\\\0.0\\\\0.383\\\\0.924\\\\\\end{bmatrix}$"
      ],
      "text/plain": [
       "<IPython.core.display.Math object>"
      ]
     },
     "metadata": {},
     "output_type": "display_data"
    }
   ],
   "source": [
    "\n"
   ]
  },
  {
   "cell_type": "markdown",
   "metadata": {},
   "source": [
    "_____________________"
   ]
  },
  {
   "cell_type": "markdown",
   "metadata": {},
   "source": [
    "## Example from Problem 1 of Lecture VII:"
   ]
  },
  {
   "cell_type": "code",
   "execution_count": null,
   "metadata": {},
   "outputs": [],
   "source": [
    "#%% Data\n",
    "# Define vectors\n",
    "ne_eci = np.array([-1, 0, 0]).T\n",
    "ns_eci = np.array([0, 1, 0]).T\n",
    "\n",
    "#%% 1) Determine rotation matrix CbG from body coordinates to ECI coordinates.\n",
    "\n",
    "# Define rotation matrix\n",
    "CbG = np.array(adcs_sym.C3().subs(\"theta_3\", np.pi/4)).astype(np.float64)\n",
    "\n",
    "# Calculate body coordinates\n",
    "ne_body = np.dot(CbG, ne_eci)\n",
    "ns_body = np.dot(CbG, ns_eci)\n"
   ]
  },
  {
   "cell_type": "code",
   "execution_count": null,
   "metadata": {},
   "outputs": [
    {
     "ename": "TypeError",
     "evalue": "q_method() takes from 2 to 3 positional arguments but 4 were given",
     "output_type": "error",
     "traceback": [
      "\u001b[1;31m---------------------------------------------------------------------------\u001b[0m",
      "\u001b[1;31mTypeError\u001b[0m                                 Traceback (most recent call last)",
      "\u001b[1;32m<ipython-input-14-c2b1618168fa>\u001b[0m in \u001b[0;36m<module>\u001b[1;34m\u001b[0m\n\u001b[0;32m      1\u001b[0m \u001b[0mvb\u001b[0m\u001b[1;33m,\u001b[0m \u001b[0mub\u001b[0m\u001b[1;33m,\u001b[0m \u001b[0mvi\u001b[0m\u001b[1;33m,\u001b[0m \u001b[0mui\u001b[0m \u001b[1;33m=\u001b[0m \u001b[0mne_body\u001b[0m\u001b[1;33m,\u001b[0m \u001b[0mns_body\u001b[0m\u001b[1;33m,\u001b[0m \u001b[0mne_eci\u001b[0m\u001b[1;33m,\u001b[0m \u001b[0mns_eci\u001b[0m\u001b[1;33m\u001b[0m\u001b[1;33m\u001b[0m\u001b[0m\n\u001b[1;32m----> 2\u001b[1;33m B, k22, K11, k12, K, max_Eigenvalue, max_Eigenvector, C = adcs.q_method(\n\u001b[0m\u001b[0;32m      3\u001b[0m     vb, ub, vi, ui)\n\u001b[0;32m      4\u001b[0m \u001b[0madcs\u001b[0m\u001b[1;33m.\u001b[0m\u001b[0mprint_matrix\u001b[0m\u001b[1;33m(\u001b[0m\u001b[0mC\u001b[0m\u001b[1;33m)\u001b[0m\u001b[1;33m\u001b[0m\u001b[1;33m\u001b[0m\u001b[0m\n",
      "\u001b[1;31mTypeError\u001b[0m: q_method() takes from 2 to 3 positional arguments but 4 were given"
     ]
    }
   ],
   "source": [
    "vb, ub, vi, ui = ne_body, ns_body, ne_eci, ns_eci\n",
    "B, k22, K11, k12, K, max_Eigenvalue, max_Eigenvector, C = adcs.q_method(\n",
    "    vb, ub, vi, ui)\n",
    "adcs.print_matrix(C)\n"
   ]
  },
  {
   "cell_type": "code",
   "execution_count": null,
   "metadata": {},
   "outputs": [],
   "source": [
    "adcs.print_matrix(B)\n",
    "adcs.print_matrix(K)\n"
   ]
  }
 ],
 "metadata": {
  "interpreter": {
   "hash": "7bdadbcc745afc9ac1e1714124e1bb5770ee7d86d26de672bb194e9104174d2a"
  },
  "kernelspec": {
   "display_name": "Python 3.8.3 64-bit ('base': conda)",
   "language": "python",
   "name": "python3"
  },
  "language_info": {
   "codemirror_mode": {
    "name": "ipython",
    "version": 3
   },
   "file_extension": ".py",
   "mimetype": "text/x-python",
   "name": "python",
   "nbconvert_exporter": "python",
   "pygments_lexer": "ipython3",
   "version": "3.8.3"
  },
  "orig_nbformat": 4
 },
 "nbformat": 4,
 "nbformat_minor": 2
}
