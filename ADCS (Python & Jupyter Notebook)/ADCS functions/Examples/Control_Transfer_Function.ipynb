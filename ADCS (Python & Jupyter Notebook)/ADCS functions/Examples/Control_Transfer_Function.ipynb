{
 "cells": [
  {
   "cell_type": "code",
   "execution_count": 56,
   "metadata": {},
   "outputs": [],
   "source": [
    "#%% Import libraries\n",
    "import numpy as np\n",
    "import matplotlib.pyplot as plt\n",
    "#from scipy.integrate import solve_ivp\n",
    "from sympy import *\n",
    "from sympy.physics.mechanics import ReferenceFrame\n",
    "from IPython.display import display, Latex, Math\n",
    "#init_printing(use_latex='mathjax')\n",
    "\n",
    "from sys import path\n",
    "path.append(\n",
    "    \"c:\\\\Users\\\\diego\\\\Dropbox\\\\Academic\\\\MEng Space Systems\\\\3. DOCA\\\\ADCS functions\")\n",
    "import ADCS_Functions as adcs\n",
    "import ADCS_Functions_sym as adcs_sym\n"
   ]
  },
  {
   "cell_type": "markdown",
   "metadata": {},
   "source": [
    "________________"
   ]
  },
  {
   "cell_type": "code",
   "execution_count": 57,
   "metadata": {},
   "outputs": [
    {
     "data": {
      "text/latex": [
       "$\\displaystyle \\left( 10 s + 20, \\  s \\left(s^{2} + 2 s + 2\\right), \\  \\frac{10 s + 20}{s \\left(s^{2} + 2 s + 2\\right)}\\right)$"
      ],
      "text/plain": [
       "⎛             ⎛ 2          ⎞     10⋅s + 20    ⎞\n",
       "⎜10⋅s + 20, s⋅⎝s  + 2⋅s + 2⎠, ────────────────⎟\n",
       "⎜                               ⎛ 2          ⎞⎟\n",
       "⎝                             s⋅⎝s  + 2⋅s + 2⎠⎠"
      ]
     },
     "execution_count": 57,
     "metadata": {},
     "output_type": "execute_result"
    }
   ],
   "source": [
    "s = Symbol('s')\n",
    "\n",
    "Y = (10*(s+2))\n",
    "U = (s*(s**2+2*s+2))\n",
    "\n",
    "G = Y/U\n",
    "Y, U, G"
   ]
  },
  {
   "cell_type": "code",
   "execution_count": 58,
   "metadata": {},
   "outputs": [
    {
     "data": {
      "text/latex": [
       "$\\displaystyle \\left( \\left[ -2\\right], \\  \\left[ 0, \\  -1 - i, \\  -1 + i\\right]\\right)$"
      ],
      "text/plain": [
       "([-2], [0, -1 - ⅈ, -1 + ⅈ])"
      ]
     },
     "execution_count": 58,
     "metadata": {},
     "output_type": "execute_result"
    }
   ],
   "source": [
    "zeros = solve(Y, s)\n",
    "poles = solve(U, s)\n",
    "\n",
    "zeros, poles"
   ]
  },
  {
   "cell_type": "code",
   "execution_count": 59,
   "metadata": {},
   "outputs": [
    {
     "data": {
      "text/plain": [
       "(array([-2.+0.j]), array([ 0.+0.j, -1.-1.j, -1.+1.j]))"
      ]
     },
     "execution_count": 59,
     "metadata": {},
     "output_type": "execute_result"
    }
   ],
   "source": [
    "zeros = np.fromiter(zeros, dtype=complex) # Equating numerator to zero\n",
    "poles = np.fromiter(poles, dtype=complex) # Equating denominator to zero\n",
    "\n",
    "zeros, poles"
   ]
  },
  {
   "cell_type": "code",
   "execution_count": 61,
   "metadata": {},
   "outputs": [
    {
     "data": {
      "image/png": "[encoded data removed]",
      "text/plain": [
       "<Figure size 640x480 with 1 Axes>"
      ]
     },
     "metadata": {},
     "output_type": "display_data"
    }
   ],
   "source": [
    "# data\n",
    "# extract real part\n",
    "poles_re = [ele.real for ele in poles]\n",
    "zeros_re = [ele.real for ele in zeros]\n",
    "# extract imaginary part\n",
    "poles_im = [ele.imag for ele in poles]\n",
    "zeros_im = [ele.imag for ele in zeros]\n",
    "\n",
    "# plot the complex numbers\n",
    "plt.scatter(poles_re, poles_im, marker='x', color='red')\n",
    "plt.scatter(zeros_re, zeros_im, marker='o', color='blue')\n",
    "plt.axhline(0, color='k')  # x = 0\n",
    "plt.axvline(0, color='k')  # y = 0\n",
    "plt.title('s-plane')\n",
    "plt.ylabel('j')\n",
    "plt.xlabel('$\\sigma$')\n",
    "plt.grid()\n",
    "plt.show()\n"
   ]
  }
 ],
 "metadata": {
  "interpreter": {
   "hash": "7bdadbcc745afc9ac1e1714124e1bb5770ee7d86d26de672bb194e9104174d2a"
  },
  "kernelspec": {
   "display_name": "Python 3.8.3 64-bit ('base': conda)",
   "language": "python",
   "name": "python3"
  },
  "language_info": {
   "codemirror_mode": {
    "name": "ipython",
    "version": 3
   },
   "file_extension": ".py",
   "mimetype": "text/x-python",
   "name": "python",
   "nbconvert_exporter": "python",
   "pygments_lexer": "ipython3",
   "version": "3.8.3"
  },
  "orig_nbformat": 4
 },
 "nbformat": 4,
 "nbformat_minor": 2
}
