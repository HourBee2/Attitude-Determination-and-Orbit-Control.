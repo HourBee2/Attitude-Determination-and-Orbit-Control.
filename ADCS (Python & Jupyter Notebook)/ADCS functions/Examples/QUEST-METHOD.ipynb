{
 "cells": [
  {
   "cell_type": "markdown",
   "metadata": {},
   "source": [
    "## QUEST-METHOD Example Lecture VII\n",
    "### slide 35"
   ]
  },
  {
   "cell_type": "code",
   "execution_count": 1,
   "metadata": {},
   "outputs": [],
   "source": [
    "import numpy as np\n",
    "from sys import path\n",
    "path.append(\n",
    "    \"c:\\\\Users\\\\diego\\\\Dropbox\\\\Academic\\\\MEng Space Systems\\\\3. DOCA\\\\ADCS functions\")\n",
    "import ADCS_Functions as adcs\n",
    "import ADCS_Functions_sym as adcs_sym"
   ]
  },
  {
   "cell_type": "code",
   "execution_count": 2,
   "metadata": {},
   "outputs": [
    {
     "data": {
      "text/latex": [
       "$\\displaystyle \\begin{bmatrix}0.707\\\\-0.707\\\\0.0\\\\\\end{bmatrix}$"
      ],
      "text/plain": [
       "<IPython.core.display.Math object>"
      ]
     },
     "metadata": {},
     "output_type": "display_data"
    },
    {
     "data": {
      "text/latex": [
       "$\\displaystyle \\begin{bmatrix}0.707\\\\0.707\\\\0.0\\\\\\end{bmatrix}$"
      ],
      "text/plain": [
       "<IPython.core.display.Math object>"
      ]
     },
     "metadata": {},
     "output_type": "display_data"
    },
    {
     "data": {
      "text/latex": [
       "$\\displaystyle \\begin{bmatrix}1\\\\0\\\\0\\\\\\end{bmatrix}$"
      ],
      "text/plain": [
       "<IPython.core.display.Math object>"
      ]
     },
     "metadata": {},
     "output_type": "display_data"
    },
    {
     "data": {
      "text/latex": [
       "$\\displaystyle \\begin{bmatrix}0\\\\1\\\\0\\\\\\end{bmatrix}$"
      ],
      "text/plain": [
       "<IPython.core.display.Math object>"
      ]
     },
     "metadata": {},
     "output_type": "display_data"
    },
    {
     "data": {
      "text/plain": [
       "(None, None, None, None)"
      ]
     },
     "execution_count": 2,
     "metadata": {},
     "output_type": "execute_result"
    }
   ],
   "source": [
    "ub = np.array([np.sqrt(2)/2, -np.sqrt(2)/2, 0]).T\n",
    "vb = np.array([np.sqrt(2)/2, np.sqrt(2)/2, 0]).T\n",
    "\n",
    "ui = np.array([1, 0, 0]).T\n",
    "vi = np.array([0, 1, 0]).T\n",
    "\n",
    "adcs.print_matrix(np.array(ub)), adcs.print_matrix(\n",
    "    np.array(vb)), adcs.print_matrix(np.array(ui)), adcs.print_matrix(np.array(vi))\n"
   ]
  },
  {
   "cell_type": "code",
   "execution_count": 3,
   "metadata": {},
   "outputs": [
    {
     "data": {
      "text/latex": [
       "$\\displaystyle \\begin{bmatrix}0.707&0.707&0.0\\\\-0.707&0.707&0.0\\\\0.0&0.0&0.0\\\\\\end{bmatrix}$"
      ],
      "text/plain": [
       "<IPython.core.display.Math object>"
      ]
     },
     "metadata": {},
     "output_type": "display_data"
    }
   ],
   "source": [
    "B = np.outer(vb, vi)+np.outer(ub,ui)\n",
    "adcs.print_matrix(B)\n"
   ]
  },
  {
   "cell_type": "code",
   "execution_count": 4,
   "metadata": {},
   "outputs": [
    {
     "data": {
      "text/latex": [
       "$\\displaystyle \\begin{bmatrix}1.414&0.0&0.0\\\\0.0&1.414&0.0\\\\0.0&0.0&0.0\\\\\\end{bmatrix}$"
      ],
      "text/plain": [
       "<IPython.core.display.Math object>"
      ]
     },
     "metadata": {},
     "output_type": "display_data"
    }
   ],
   "source": [
    "S = B + B.T\n",
    "adcs.print_matrix(S)"
   ]
  },
  {
   "cell_type": "code",
   "execution_count": 5,
   "metadata": {},
   "outputs": [
    {
     "data": {
      "text/latex": [
       "$\\displaystyle \\begin{bmatrix}0.0&0.0&0.0&0.0\\\\0.0&0.0&0.0&0.0\\\\0.0&0.0&-1.414&1.414\\\\0.0&0.0&1.414&1.414\\\\\\end{bmatrix}$"
      ],
      "text/plain": [
       "<IPython.core.display.Math object>"
      ]
     },
     "metadata": {},
     "output_type": "display_data"
    }
   ],
   "source": [
    "k22 = np.trace(B)\n",
    "K11 = B + B.T - k22*np.eye(3, 3)\n",
    "k12 = np.array(\n",
    "    [(B[1, 2] - B[2, 1]), (B[2, 0] - B[0, 2]), (B[0, 1] - B[1, 0])]).T\n",
    "\n",
    "K = np.zeros((4, 4))\n",
    "K[0:3, 0:3] = K11\n",
    "K[0:3, 3] = k12.T\n",
    "K[3, 0:3] = k12.T\n",
    "K[3, 3] = k22\n",
    "\n",
    "adcs.print_matrix(K)"
   ]
  },
  {
   "cell_type": "code",
   "execution_count": 6,
   "metadata": {},
   "outputs": [
    {
     "data": {
      "text/latex": [
       "$\\displaystyle 2.0$"
      ],
      "text/plain": [
       "2.0000000000000004"
      ]
     },
     "execution_count": 6,
     "metadata": {},
     "output_type": "execute_result"
    }
   ],
   "source": [
    "Eigenvalues, Eigenvectors = adcs.find_eig(K)\n",
    "max_Eigenvalue = np.max(Eigenvalues)\n",
    "max_Eigenvector = Eigenvectors[:, np.where(\n",
    "    Eigenvalues == np.max(Eigenvalues))]\n",
    "max_Eigenvalue"
   ]
  },
  {
   "cell_type": "code",
   "execution_count": 7,
   "metadata": {},
   "outputs": [
    {
     "data": {
      "text/latex": [
       "$\\displaystyle \\begin{bmatrix}0.0\\\\0.0\\\\0.414\\\\\\end{bmatrix}$"
      ],
      "text/plain": [
       "<IPython.core.display.Math object>"
      ]
     },
     "metadata": {},
     "output_type": "display_data"
    }
   ],
   "source": [
    "p = np.dot(np.linalg.inv(np.array([(max_Eigenvalue + k22)*np.eye(3,3) - S ])), k12).T\n",
    "adcs.print_matrix(p)"
   ]
  },
  {
   "cell_type": "code",
   "execution_count": 8,
   "metadata": {},
   "outputs": [
    {
     "data": {
      "text/latex": [
       "$\\displaystyle \\begin{bmatrix}0.0\\\\0.0\\\\0.414\\\\1\\\\\\end{bmatrix}$"
      ],
      "text/plain": [
       "<IPython.core.display.Math object>"
      ]
     },
     "metadata": {},
     "output_type": "display_data"
    }
   ],
   "source": [
    "p4 = np.array([p[0], p[1], p[2], 1], dtype=object).T\n",
    "adcs.print_matrix(p4)"
   ]
  },
  {
   "cell_type": "code",
   "execution_count": 9,
   "metadata": {},
   "outputs": [
    {
     "data": {
      "text/latex": [
       "$\\displaystyle \\begin{bmatrix}0.0\\\\0.0\\\\0.383\\\\0.924\\\\\\end{bmatrix}$"
      ],
      "text/plain": [
       "<IPython.core.display.Math object>"
      ]
     },
     "metadata": {},
     "output_type": "display_data"
    }
   ],
   "source": [
    "q = 1 / (np.sqrt(1 + p.T @ p)) * p4\n",
    "q = np.array(q[0])\n",
    "adcs.print_matrix(q)\n"
   ]
  },
  {
   "cell_type": "code",
   "execution_count": 10,
   "metadata": {},
   "outputs": [
    {
     "data": {
      "text/latex": [
       "$\\displaystyle \\begin{bmatrix}0.707&0.707&0.0\\\\-0.707&0.707&0.0\\\\0.0&0.0&1.0\\\\\\end{bmatrix}$"
      ],
      "text/plain": [
       "<IPython.core.display.Math object>"
      ]
     },
     "metadata": {},
     "output_type": "display_data"
    }
   ],
   "source": [
    "C = adcs.Quaternion_to_DCM(q)\n",
    "adcs.print_matrix(C)"
   ]
  },
  {
   "cell_type": "code",
   "execution_count": 11,
   "metadata": {},
   "outputs": [
    {
     "data": {
      "text/latex": [
       "$\\displaystyle \\begin{bmatrix}1.414&0.0&0.0\\\\0.0&1.414&0.0\\\\0.0&0.0&0.0\\\\\\end{bmatrix}$"
      ],
      "text/plain": [
       "<IPython.core.display.Math object>"
      ]
     },
     "metadata": {},
     "output_type": "display_data"
    },
    {
     "data": {
      "text/latex": [
       "$\\displaystyle \\begin{bmatrix}0.0&0.0&0.0&0.0\\\\0.0&0.0&0.0&0.0\\\\0.0&0.0&-1.414&1.414\\\\0.0&0.0&1.414&1.414\\\\\\end{bmatrix}$"
      ],
      "text/plain": [
       "<IPython.core.display.Math object>"
      ]
     },
     "metadata": {},
     "output_type": "display_data"
    },
    {
     "data": {
      "text/latex": [
       "$\\displaystyle \\begin{bmatrix}0.0\\\\0.0\\\\0.414\\\\\\end{bmatrix}$"
      ],
      "text/plain": [
       "<IPython.core.display.Math object>"
      ]
     },
     "metadata": {},
     "output_type": "display_data"
    },
    {
     "data": {
      "text/latex": [
       "$\\displaystyle \\begin{bmatrix}0.0\\\\0.0\\\\0.383\\\\0.924\\\\\\end{bmatrix}$"
      ],
      "text/plain": [
       "<IPython.core.display.Math object>"
      ]
     },
     "metadata": {},
     "output_type": "display_data"
    },
    {
     "data": {
      "text/latex": [
       "$\\displaystyle \\begin{bmatrix}0.707&0.707&0.0\\\\-0.707&0.707&0.0\\\\0.0&0.0&1.0\\\\\\end{bmatrix}$"
      ],
      "text/plain": [
       "<IPython.core.display.Math object>"
      ]
     },
     "metadata": {},
     "output_type": "display_data"
    },
    {
     "data": {
      "text/plain": [
       "(None, None, None, None, None)"
      ]
     },
     "execution_count": 11,
     "metadata": {},
     "output_type": "execute_result"
    }
   ],
   "source": [
    "def QUEST(b_vec, RF_vec, weights=None):\n",
    "    \"\"\"\n",
    "    Inputs:\n",
    "        b_vec: Body vectors\n",
    "        RF_vec: Reference Frame vectors\n",
    "        weights: Weights for the different components\n",
    "    Outputs:\n",
    "        S: S matrix (3x3 matrix)\n",
    "        K: K matrix (4x4 matrix) with components: K11, k12, k22\n",
    "        p: p vector (3x1 vector)\n",
    "        q: quaternion\n",
    "        C: Rotation matrix\n",
    "    \"\"\"\n",
    "    if weights==None:\n",
    "        weights = np.ones(len(b_vec))\n",
    "\n",
    "    B = np.zeros((3, 3))\n",
    "    for i in range(len(b_vec)):\n",
    "        Bb = weights[i]*np.outer(b[i], RF[i])\n",
    "        B += Bb\n",
    "\n",
    "    S = B + B.T\n",
    "\n",
    "    k22 = np.trace(B)\n",
    "    K11 = B + B.T - k22*np.eye(3, 3)\n",
    "    k12 = np.array(\n",
    "        [(B[1, 2] - B[2, 1]), (B[2, 0] - B[0, 2]), (B[0, 1] - B[1, 0])]).T\n",
    "\n",
    "    K = np.zeros((4, 4))\n",
    "    K[0:3, 0:3] = K11\n",
    "    K[0:3, 3] = k12.T\n",
    "    K[3, 0:3] = k12.T\n",
    "    K[3, 3] = k22\n",
    "\n",
    "    Eigenvalues, _ = adcs.find_eig(K)\n",
    "    max_Eigenvalue = np.max(Eigenvalues)\n",
    "\n",
    "    p = np.dot(np.linalg.inv(\n",
    "        np.array([(max_Eigenvalue + k22)*np.eye(3, 3) - S])), k12).T\n",
    "    p4 = np.array([p[0], p[1], p[2], 1], dtype=object).T\n",
    "\n",
    "    q = 1 / (np.sqrt(1 + p.T @ p)) * p4\n",
    "    q = np.array(q[0])\n",
    "    \n",
    "    C = adcs.Quaternion_to_DCM(q)\n",
    "    return S, K, p, q, C\n",
    "\n",
    "\n",
    "\n",
    "# TEST IT\n",
    "b = np.array([vb, ub])\n",
    "RF = np.array([vi, ui])\n",
    "\n",
    "S, K, p, q, C = adcs.QUEST(b, RF)\n",
    "adcs.print_matrix(S), adcs.print_matrix(K), adcs.print_matrix(p), adcs.print_matrix(q), adcs.print_matrix(C)\n"
   ]
  }
 ],
 "metadata": {
  "interpreter": {
   "hash": "7bdadbcc745afc9ac1e1714124e1bb5770ee7d86d26de672bb194e9104174d2a"
  },
  "kernelspec": {
   "display_name": "Python 3.8.3 64-bit ('base': conda)",
   "language": "python",
   "name": "python3"
  },
  "language_info": {
   "codemirror_mode": {
    "name": "ipython",
    "version": 3
   },
   "file_extension": ".py",
   "mimetype": "text/x-python",
   "name": "python",
   "nbconvert_exporter": "python",
   "pygments_lexer": "ipython3",
   "version": "3.8.3"
  },
  "orig_nbformat": 4
 },
 "nbformat": 4,
 "nbformat_minor": 2
}
