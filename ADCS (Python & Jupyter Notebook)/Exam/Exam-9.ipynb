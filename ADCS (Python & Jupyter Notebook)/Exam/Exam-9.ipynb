{
 "cells": [
  {
   "cell_type": "code",
   "execution_count": 4,
   "metadata": {},
   "outputs": [],
   "source": [
    "#%% Import libraries\n",
    "from sys import path\n",
    "import numpy as np\n",
    "from sympy import *\n",
    "from sympy.physics.vector import dynamicsymbols, init_vprinting\n",
    "import control as ctl\n",
    "import matplotlib.pyplot as plt\n",
    "# from sympy.physics.mechanics import ReferenceFrame\n",
    "from IPython.display import display, Latex, Math\n",
    "init_vprinting(use_latex='mathjax')\n",
    "\n",
    "path.append(\n",
    "    \"c:\\\\Users\\\\diego\\\\Dropbox\\\\Academic\\\\MEng Space Systems\\\\3. DOCA\\\\ADCS functions\")\n",
    "import ADCS_Functions_sym as adcs_sym\n",
    "import ADCS_Functions as adcs"
   ]
  },
  {
   "cell_type": "markdown",
   "metadata": {},
   "source": [
    "____________________"
   ]
  },
  {
   "cell_type": "code",
   "execution_count": 5,
   "metadata": {},
   "outputs": [
    {
     "data": {
      "text/latex": [
       "$\\displaystyle I \\ddot{\\theta} - u$"
      ],
      "text/plain": [
       "I⋅θ̈ - u"
      ]
     },
     "execution_count": 5,
     "metadata": {},
     "output_type": "execute_result"
    }
   ],
   "source": [
    "I =1\n",
    "Mp = 0.15\n",
    "tp = 5\n",
    "\n",
    "theta_sym = dynamicsymbols('theta')\n",
    "I_sym, u_sym, xi_sym, omega_nsym = symbols('I u xi \\omega_n')\n",
    "\n",
    "eq = diff(diff(theta_sym)) * I_sym - u_sym\n",
    "eq\n"
   ]
  },
  {
   "cell_type": "code",
   "execution_count": 6,
   "metadata": {},
   "outputs": [
    {
     "data": {
      "text/latex": [
       "$\\displaystyle \\frac{\\omega_{n}^{2}}{\\omega_{n}^{2} + 2 \\omega_{n} s \\xi + s^{2}}$"
      ],
      "text/plain": [
       "                  2          \n",
       "           \\omegaₙ           \n",
       "─────────────────────────────\n",
       "       2                    2\n",
       "\\omegaₙ  + 2⋅\\omegaₙ⋅s⋅ξ + s "
      ]
     },
     "execution_count": 6,
     "metadata": {},
     "output_type": "execute_result"
    }
   ],
   "source": [
    "TF = adcs_sym.close_loop_TF()\n",
    "TF\n"
   ]
  },
  {
   "cell_type": "code",
   "execution_count": 9,
   "metadata": {},
   "outputs": [
    {
     "data": {
      "text/latex": [
       "$\\displaystyle 0.628318530717959$"
      ],
      "text/plain": [
       "0.6283185307179586"
      ]
     },
     "execution_count": 9,
     "metadata": {},
     "output_type": "execute_result"
    }
   ],
   "source": [
    "omega_d = np.pi/tp\n",
    "omega_d"
   ]
  },
  {
   "cell_type": "code",
   "execution_count": 20,
   "metadata": {},
   "outputs": [
    {
     "data": {
      "text/latex": [
       "$\\displaystyle e^{- \\frac{\\pi \\omega_{n} \\xi}{\\omega_{d}}}$"
      ],
      "text/plain": [
       " -π⋅ωₙ⋅ξ \n",
       " ────────\n",
       "   ω_d   \n",
       "ℯ        "
      ]
     },
     "execution_count": 20,
     "metadata": {},
     "output_type": "execute_result"
    }
   ],
   "source": [
    "Mp_eq = adcs_sym.max_overshoot_CLTF('y')#.subs('omega_d', omega_d)\n",
    "Mp_eq"
   ]
  },
  {
   "cell_type": "code",
   "execution_count": 21,
   "metadata": {},
   "outputs": [
    {
     "data": {
      "text/latex": [
       "$\\displaystyle \\left[ 0.60387204646602 \\omega_{d}\\right]$"
      ],
      "text/plain": [
       "[0.60387204646602⋅ω_d]"
      ]
     },
     "execution_count": 21,
     "metadata": {},
     "output_type": "execute_result"
    }
   ],
   "source": [
    "solve(Eq(Mp, Mp_eq), Symbol('omega_n')*Symbol('xi'))"
   ]
  },
  {
   "cell_type": "code",
   "execution_count": 23,
   "metadata": {},
   "outputs": [
    {
     "data": {
      "text/latex": [
       "$\\displaystyle 0.758847993954354$"
      ],
      "text/plain": [
       "0.758847993954354"
      ]
     },
     "execution_count": 23,
     "metadata": {},
     "output_type": "execute_result"
    }
   ],
   "source": [
    "2*0.379423996977177*1"
   ]
  }
 ],
 "metadata": {
  "interpreter": {
   "hash": "7bdadbcc745afc9ac1e1714124e1bb5770ee7d86d26de672bb194e9104174d2a"
  },
  "kernelspec": {
   "display_name": "Python 3.8.3 64-bit ('base': conda)",
   "language": "python",
   "name": "python3"
  },
  "language_info": {
   "codemirror_mode": {
    "name": "ipython",
    "version": 3
   },
   "file_extension": ".py",
   "mimetype": "text/x-python",
   "name": "python",
   "nbconvert_exporter": "python",
   "pygments_lexer": "ipython3",
   "version": "3.8.3"
  },
  "orig_nbformat": 4
 },
 "nbformat": 4,
 "nbformat_minor": 2
}
