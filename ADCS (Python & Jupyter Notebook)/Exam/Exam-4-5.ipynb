{
 "cells": [
  {
   "cell_type": "code",
   "execution_count": 30,
   "metadata": {},
   "outputs": [],
   "source": [
    "#%% Import libraries\n",
    "import numpy as np\n",
    "from sympy import *\n",
    "from sympy.physics.vector import dynamicsymbols, init_vprinting\n",
    "import matplotlib.pyplot as plt\n",
    "# from sympy.physics.mechanics import ReferenceFrame\n",
    "from IPython.display import display, Latex, Math\n",
    "init_vprinting(use_latex='mathjax')\n",
    "\n",
    "from sys import path\n",
    "path.append(\n",
    "    \"c:\\\\Users\\\\diego\\\\Dropbox\\\\Academic\\\\MEng Space Systems\\\\3. DOCA\\\\ADCS functions\")\n",
    "import ADCS_Functions as adcs\n",
    "import ADCS_Functions_sym as adcs_sym"
   ]
  },
  {
   "cell_type": "markdown",
   "metadata": {},
   "source": [
    "____________________"
   ]
  },
  {
   "cell_type": "code",
   "execution_count": 31,
   "metadata": {},
   "outputs": [
    {
     "data": {
      "text/latex": [
       "$\\displaystyle \\left[\\begin{matrix}- \\sin{\\left(x \\right)} \\sin{\\left(y \\right)} \\sin{\\left(z \\right)} + \\cos{\\left(x \\right)} \\cos{\\left(z \\right)} & \\sin{\\left(x \\right)} \\cos{\\left(z \\right)} + \\sin{\\left(y \\right)} \\sin{\\left(z \\right)} \\cos{\\left(x \\right)} & - \\sin{\\left(z \\right)} \\cos{\\left(y \\right)}\\\\- \\sin{\\left(x \\right)} \\cos{\\left(y \\right)} & \\cos{\\left(x \\right)} \\cos{\\left(y \\right)} & \\sin{\\left(y \\right)}\\\\\\sin{\\left(x \\right)} \\sin{\\left(y \\right)} \\cos{\\left(z \\right)} + \\sin{\\left(z \\right)} \\cos{\\left(x \\right)} & \\sin{\\left(x \\right)} \\sin{\\left(z \\right)} - \\sin{\\left(y \\right)} \\cos{\\left(x \\right)} \\cos{\\left(z \\right)} & \\cos{\\left(y \\right)} \\cos{\\left(z \\right)}\\end{matrix}\\right]$"
      ],
      "text/plain": [
       "⎡-sin(x)⋅sin(y)⋅sin(z) + cos(x)⋅cos(z)  sin(x)⋅cos(z) + sin(y)⋅sin(z)⋅cos(x)  \n",
       "⎢                                                                             \n",
       "⎢           -sin(x)⋅cos(y)                         cos(x)⋅cos(y)              \n",
       "⎢                                                                             \n",
       "⎣sin(x)⋅sin(y)⋅cos(z) + sin(z)⋅cos(x)   sin(x)⋅sin(z) - sin(y)⋅cos(x)⋅cos(z)  \n",
       "\n",
       "-sin(z)⋅cos(y)⎤\n",
       "              ⎥\n",
       "    sin(y)    ⎥\n",
       "              ⎥\n",
       "cos(y)⋅cos(z) ⎦"
      ]
     },
     "execution_count": 31,
     "metadata": {},
     "output_type": "execute_result"
    }
   ],
   "source": [
    "adcs_sym.DCM('sim', 3, 1, 2)"
   ]
  },
  {
   "cell_type": "code",
   "execution_count": 32,
   "metadata": {},
   "outputs": [
    {
     "data": {
      "text/latex": [
       "$\\displaystyle \\left[\\begin{matrix}- \\sin{\\left(\\theta_{3} \\right)} & 0 & \\cos{\\left(\\theta_{3} \\right)}\\\\\\cos{\\left(\\theta_{2} \\right)} \\cos{\\left(\\theta_{3} \\right)} & 0 & \\sin{\\left(\\theta_{3} \\right)} \\cos{\\left(\\theta_{2} \\right)}\\\\\\sin{\\left(\\theta_{2} \\right)} \\sin{\\left(\\theta_{3} \\right)} & \\cos{\\left(\\theta_{2} \\right)} & - \\sin{\\left(\\theta_{2} \\right)} \\cos{\\left(\\theta_{3} \\right)}\\end{matrix}\\right]$"
      ],
      "text/plain": [
       "⎡   -sin(θ₃)         0         cos(θ₃)     ⎤\n",
       "⎢                                          ⎥\n",
       "⎢cos(θ₂)⋅cos(θ₃)     0     sin(θ₃)⋅cos(θ₂) ⎥\n",
       "⎢                                          ⎥\n",
       "⎣sin(θ₂)⋅sin(θ₃)  cos(θ₂)  -sin(θ₂)⋅cos(θ₃)⎦"
      ]
     },
     "execution_count": 32,
     "metadata": {},
     "output_type": "execute_result"
    }
   ],
   "source": [
    "(adcs_sym.diff_kinem_Euler_theta_matrix(\n",
    "    3, 1, 2, invorder=False)*cos(Symbol('theta_2'))).trigsimp().simplify()\n"
   ]
  },
  {
   "cell_type": "code",
   "execution_count": 33,
   "metadata": {},
   "outputs": [
    {
     "data": {
      "text/latex": [
       "$\\displaystyle \\left[ \\frac{\\pi}{2}, \\  \\frac{3 \\pi}{2}\\right]$"
      ],
      "text/plain": [
       "⎡π  3⋅π⎤\n",
       "⎢─, ───⎥\n",
       "⎣2   2 ⎦"
      ]
     },
     "execution_count": 33,
     "metadata": {},
     "output_type": "execute_result"
    }
   ],
   "source": [
    "solve(Eq(cos(Symbol('theta_2')), 0))"
   ]
  },
  {
   "cell_type": "code",
   "execution_count": 34,
   "metadata": {},
   "outputs": [
    {
     "data": {
      "text/latex": [
       "$\\displaystyle \\begin{bmatrix}0.739&-0.573&0.354\\\\0.612&0.354&0.707\\\\0.28&0.739&0.612\\\\\\end{bmatrix}$"
      ],
      "text/plain": [
       "<IPython.core.display.Math object>"
      ]
     },
     "metadata": {},
     "output_type": "display_data"
    }
   ],
   "source": [
    "DCM = np.array( [ \n",
    "    [ 0.7392, -0.5732, 0.3536],\n",
    "    [0.6124, 0.3536, 0.7071],\n",
    "    [0.2803, 0.7392, 0.6124]\n",
    "])\n",
    "adcs.print_matrix(DCM)"
   ]
  },
  {
   "cell_type": "code",
   "execution_count": 35,
   "metadata": {},
   "outputs": [
    {
     "data": {
      "text/latex": [
       "$\\displaystyle \\begin{bmatrix}49.105\\\\-20.708\\\\-37.791\\\\\\end{bmatrix}$"
      ],
      "text/plain": [
       "<IPython.core.display.Math object>"
      ]
     },
     "metadata": {},
     "output_type": "display_data"
    }
   ],
   "source": [
    "Euler = adcs.Eul_ang(DCM)\n",
    "adcs.print_matrix(Euler)"
   ]
  },
  {
   "cell_type": "code",
   "execution_count": 36,
   "metadata": {},
   "outputs": [
    {
     "data": {
      "text/latex": [
       "$\\displaystyle \\begin{bmatrix}-0.01\\\\-0.022\\\\-0.36\\\\0.822\\\\\\end{bmatrix}$"
      ],
      "text/plain": [
       "<IPython.core.display.Math object>"
      ]
     },
     "metadata": {},
     "output_type": "display_data"
    }
   ],
   "source": [
    "q = adcs.DCM_to_Quaternion(DCM)\n",
    "adcs.print_matrix(q)"
   ]
  },
  {
   "cell_type": "markdown",
   "metadata": {},
   "source": [
    "_____________"
   ]
  },
  {
   "cell_type": "code",
   "execution_count": 37,
   "metadata": {},
   "outputs": [
    {
     "data": {
      "text/latex": [
       "$\\displaystyle \\begin{bmatrix}1\\\\0\\\\-1\\\\\\end{bmatrix}$"
      ],
      "text/plain": [
       "<IPython.core.display.Math object>"
      ]
     },
     "metadata": {},
     "output_type": "display_data"
    },
    {
     "data": {
      "text/latex": [
       "$\\displaystyle \\begin{bmatrix}1\\\\0\\\\1\\\\\\end{bmatrix}$"
      ],
      "text/plain": [
       "<IPython.core.display.Math object>"
      ]
     },
     "metadata": {},
     "output_type": "display_data"
    },
    {
     "data": {
      "text/latex": [
       "$\\displaystyle \\begin{bmatrix}1\\\\0\\\\0\\\\\\end{bmatrix}$"
      ],
      "text/plain": [
       "<IPython.core.display.Math object>"
      ]
     },
     "metadata": {},
     "output_type": "display_data"
    },
    {
     "data": {
      "text/latex": [
       "$\\displaystyle \\begin{bmatrix}0\\\\1\\\\0\\\\\\end{bmatrix}$"
      ],
      "text/plain": [
       "<IPython.core.display.Math object>"
      ]
     },
     "metadata": {},
     "output_type": "display_data"
    },
    {
     "data": {
      "text/plain": [
       "(None, None, None, None)"
      ]
     },
     "execution_count": 37,
     "metadata": {},
     "output_type": "execute_result"
    }
   ],
   "source": [
    "v1b = np.array([1, 0, -1]).T\n",
    "v2b = np.array([1, 0, 1]).T\n",
    "\n",
    "v1i = np.array([1, 0, 0]).T\n",
    "v2i = np.array([0, 1, 0]).T\n",
    "\n",
    "adcs.print_matrix(v1b), adcs.print_matrix(v2b), adcs.print_matrix(v1i), adcs.print_matrix(v2i)"
   ]
  },
  {
   "cell_type": "code",
   "execution_count": 38,
   "metadata": {},
   "outputs": [
    {
     "data": {
      "text/plain": [
       "array([1., 0., 0.])"
      ]
     },
     "execution_count": 38,
     "metadata": {},
     "output_type": "execute_result"
    }
   ],
   "source": [
    "v1i / np.linalg.norm(v1i)\n"
   ]
  },
  {
   "cell_type": "code",
   "execution_count": 39,
   "metadata": {},
   "outputs": [
    {
     "data": {
      "text/latex": [
       "$\\displaystyle \\begin{bmatrix}0.707&0.0&-0.707\\\\0.0&-1.0&-0.0\\\\-0.707&0.0&-0.707\\\\\\end{bmatrix}$"
      ],
      "text/plain": [
       "<IPython.core.display.Math object>"
      ]
     },
     "metadata": {},
     "output_type": "display_data"
    },
    {
     "data": {
      "text/latex": [
       "$\\displaystyle \\begin{bmatrix}1.0&0.0&0.0\\\\0.0&0.0&-1.0\\\\0.0&1.0&0.0\\\\\\end{bmatrix}$"
      ],
      "text/plain": [
       "<IPython.core.display.Math object>"
      ]
     },
     "metadata": {},
     "output_type": "display_data"
    },
    {
     "data": {
      "text/latex": [
       "$\\displaystyle \\begin{bmatrix}0.707&0.707&0.0\\\\0.0&0.0&-1.0\\\\-0.707&0.707&0.0\\\\\\end{bmatrix}$"
      ],
      "text/plain": [
       "<IPython.core.display.Math object>"
      ]
     },
     "metadata": {},
     "output_type": "display_data"
    },
    {
     "data": {
      "text/plain": [
       "(None, None, None)"
      ]
     },
     "execution_count": 39,
     "metadata": {},
     "output_type": "execute_result"
    }
   ],
   "source": [
    "rot_triad_b, rot_triad_i, Cbi_triad = adcs.triad(v1b, v2b, v1i, v2i)\n",
    "\n",
    "adcs.print_matrix(rot_triad_b), adcs.print_matrix(rot_triad_i), adcs.print_matrix(Cbi_triad)"
   ]
  },
  {
   "cell_type": "code",
   "execution_count": 40,
   "metadata": {},
   "outputs": [],
   "source": [
    "v1i = v1i / np.linalg.norm(v1i)\n",
    "v2i = v2i / np.linalg.norm(v2i)\n",
    "v1b = v1b / np.linalg.norm(v1b)\n",
    "v2b = v2b / np.linalg.norm(v2b)"
   ]
  },
  {
   "cell_type": "code",
   "execution_count": 41,
   "metadata": {},
   "outputs": [
    {
     "data": {
      "text/latex": [
       "$\\displaystyle \\begin{bmatrix}0.707&0.0&-0.707\\\\0.707&0.0&0.707\\\\\\end{bmatrix}$"
      ],
      "text/plain": [
       "<IPython.core.display.Math object>"
      ]
     },
     "metadata": {},
     "output_type": "display_data"
    },
    {
     "data": {
      "text/latex": [
       "$\\displaystyle \\begin{bmatrix}1.0&0.0&0.0\\\\0.0&1.0&0.0\\\\\\end{bmatrix}$"
      ],
      "text/plain": [
       "<IPython.core.display.Math object>"
      ]
     },
     "metadata": {},
     "output_type": "display_data"
    },
    {
     "data": {
      "text/plain": [
       "(None, None)"
      ]
     },
     "execution_count": 41,
     "metadata": {},
     "output_type": "execute_result"
    }
   ],
   "source": [
    "# q-method\n",
    "b = np.array([v1b, v2b])\n",
    "RF = np.array([v1i, v2i])\n",
    "\n",
    "adcs.print_matrix(b), adcs.print_matrix(RF)"
   ]
  },
  {
   "cell_type": "code",
   "execution_count": 42,
   "metadata": {},
   "outputs": [],
   "source": [
    "B, k22, K11, k12, K, max_Eigenvalue, max_Eigenvector, q_method_C = adcs.q_method(b, RF)"
   ]
  },
  {
   "cell_type": "code",
   "execution_count": 43,
   "metadata": {},
   "outputs": [
    {
     "data": {
      "text/latex": [
       "$\\displaystyle \\begin{bmatrix}0.707&0.707&0.0\\\\0.0&0.0&0.0\\\\-0.707&0.707&0.0\\\\\\end{bmatrix}$"
      ],
      "text/plain": [
       "<IPython.core.display.Math object>"
      ]
     },
     "metadata": {},
     "output_type": "display_data"
    }
   ],
   "source": [
    "adcs.print_matrix(B)"
   ]
  },
  {
   "cell_type": "code",
   "execution_count": 44,
   "metadata": {},
   "outputs": [
    {
     "data": {
      "text/latex": [
       "$\\displaystyle \\begin{bmatrix}0.707&0.707&-0.707\\\\0.707&-0.707&0.707\\\\-0.707&0.707&-0.707\\\\\\end{bmatrix}$"
      ],
      "text/plain": [
       "<IPython.core.display.Math object>"
      ]
     },
     "metadata": {},
     "output_type": "display_data"
    }
   ],
   "source": [
    "adcs.print_matrix(K11)"
   ]
  },
  {
   "cell_type": "code",
   "execution_count": 45,
   "metadata": {},
   "outputs": [
    {
     "data": {
      "text/latex": [
       "$\\displaystyle \\begin{bmatrix}-0.707\\\\-0.707\\\\0.707\\\\\\end{bmatrix}$"
      ],
      "text/plain": [
       "<IPython.core.display.Math object>"
      ]
     },
     "metadata": {},
     "output_type": "display_data"
    }
   ],
   "source": [
    "adcs.print_matrix(k12)"
   ]
  },
  {
   "cell_type": "code",
   "execution_count": 46,
   "metadata": {},
   "outputs": [
    {
     "data": {
      "text/latex": [
       "$\\displaystyle \\begin{bmatrix}0.707&0.707&-0.0\\\\-0.0&-0.0&-1.0\\\\-0.707&0.707&-0.0\\\\\\end{bmatrix}$"
      ],
      "text/plain": [
       "<IPython.core.display.Math object>"
      ]
     },
     "metadata": {},
     "output_type": "display_data"
    }
   ],
   "source": [
    "adcs.print_matrix(q_method_C)\n"
   ]
  }
 ],
 "metadata": {
  "interpreter": {
   "hash": "7bdadbcc745afc9ac1e1714124e1bb5770ee7d86d26de672bb194e9104174d2a"
  },
  "kernelspec": {
   "display_name": "Python 3.8.3 64-bit ('base': conda)",
   "language": "python",
   "name": "python3"
  },
  "language_info": {
   "codemirror_mode": {
    "name": "ipython",
    "version": 3
   },
   "file_extension": ".py",
   "mimetype": "text/x-python",
   "name": "python",
   "nbconvert_exporter": "python",
   "pygments_lexer": "ipython3",
   "version": "3.8.3"
  },
  "orig_nbformat": 4
 },
 "nbformat": 4,
 "nbformat_minor": 2
}
