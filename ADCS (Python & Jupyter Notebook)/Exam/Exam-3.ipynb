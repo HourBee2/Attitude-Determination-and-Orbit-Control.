{
 "cells": [
  {
   "cell_type": "code",
   "execution_count": 1,
   "metadata": {},
   "outputs": [],
   "source": [
    "#%% Import libraries\n",
    "import numpy as np\n",
    "from sympy import *\n",
    "from sympy.physics.vector import dynamicsymbols, init_vprinting\n",
    "import matplotlib.pyplot as plt\n",
    "# from sympy.physics.mechanics import ReferenceFrame\n",
    "from IPython.display import display, Latex, Math\n",
    "init_vprinting(use_latex='mathjax')\n",
    "\n",
    "from sys import path\n",
    "path.append(\n",
    "    \"c:\\\\Users\\\\diego\\\\Dropbox\\\\Academic\\\\MEng Space Systems\\\\3. DOCA\\\\ADCS functions\")\n",
    "import ADCS_Functions as adcs\n",
    "import ADCS_Functions_sym as adcs_sym"
   ]
  },
  {
   "cell_type": "code",
   "execution_count": 2,
   "metadata": {},
   "outputs": [],
   "source": [
    "from sympy.abc import x, G, M, r\n",
    "phi, R_e, Jnm, lamb, lamb_nm = symbols('phi R_e J_{nm} lambda \\lambda_{nm}')\n"
   ]
  },
  {
   "cell_type": "markdown",
   "metadata": {},
   "source": [
    "__________________________\n",
    "\n",
    "### $J_{3,1}$"
   ]
  },
  {
   "cell_type": "code",
   "execution_count": 21,
   "metadata": {},
   "outputs": [],
   "source": [
    "P3, P31, U31, a_r31, a_phi31, a_lamb31 = adcs_sym.non_spherical_pot(\n",
    "    3, 1, subs=False, Jnmval=None, lamb_nm_val=None, h_orbit=None)\n"
   ]
  },
  {
   "cell_type": "code",
   "execution_count": 22,
   "metadata": {},
   "outputs": [
    {
     "data": {
      "text/latex": [
       "$\\displaystyle x \\left(2.5 x^{2} - 1.5\\right)$"
      ],
      "text/plain": [
       "  ⎛     2      ⎞\n",
       "x⋅⎝2.5⋅x  - 1.5⎠"
      ]
     },
     "execution_count": 22,
     "metadata": {},
     "output_type": "execute_result"
    }
   ],
   "source": [
    "P3  "
   ]
  },
  {
   "cell_type": "code",
   "execution_count": 23,
   "metadata": {},
   "outputs": [
    {
     "data": {
      "text/latex": [
       "$\\displaystyle \\left(7.5 \\sin^{2}{\\left(\\phi \\right)} - 1.5\\right) \\left(\\cos^{2}{\\left(\\phi \\right)}\\right)^{0.5}$"
      ],
      "text/plain": [
       "                           0.5\n",
       "⎛       2         ⎞    2      \n",
       "⎝7.5⋅sin (φ) - 1.5⎠⋅cos (φ)   "
      ]
     },
     "execution_count": 23,
     "metadata": {},
     "output_type": "execute_result"
    }
   ],
   "source": [
    "P31.simplify().trigsimp()"
   ]
  },
  {
   "cell_type": "code",
   "execution_count": 24,
   "metadata": {},
   "outputs": [
    {
     "data": {
      "text/latex": [
       "$\\displaystyle \\frac{G J_{nm} M R_{e}^{3} \\left(7.5 \\sin^{2}{\\left(\\phi \\right)} - 1.5\\right) \\left(\\cos^{2}{\\left(\\phi \\right)}\\right)^{0.5} \\cos{\\left(\\lambda_{nm} - \\lambda \\right)}}{r^{4}}$"
      ],
      "text/plain": [
       "                                          0.5                      \n",
       "             3 ⎛       2         ⎞    2                            \n",
       "G⋅J_{nm}⋅M⋅Rₑ ⋅⎝7.5⋅sin (φ) - 1.5⎠⋅cos (φ)   ⋅cos(\\lambda_{nm} - λ)\n",
       "───────────────────────────────────────────────────────────────────\n",
       "                                  4                                \n",
       "                                 r                                 "
      ]
     },
     "execution_count": 24,
     "metadata": {},
     "output_type": "execute_result"
    }
   ],
   "source": [
    "U31"
   ]
  },
  {
   "cell_type": "code",
   "execution_count": 25,
   "metadata": {},
   "outputs": [
    {
     "data": {
      "text/latex": [
       "$\\displaystyle \\frac{4 G J_{nm} M R_{e}^{3} \\left(7.5 \\sin^{2}{\\left(\\phi \\right)} - 1.5\\right) \\left(\\cos^{2}{\\left(\\phi \\right)}\\right)^{0.5} \\cos{\\left(\\lambda_{nm} - \\lambda \\right)}}{r^{5}}$"
      ],
      "text/plain": [
       "                                            0.5                      \n",
       "               3 ⎛       2         ⎞    2                            \n",
       "4⋅G⋅J_{nm}⋅M⋅Rₑ ⋅⎝7.5⋅sin (φ) - 1.5⎠⋅cos (φ)   ⋅cos(\\lambda_{nm} - λ)\n",
       "─────────────────────────────────────────────────────────────────────\n",
       "                                   5                                 \n",
       "                                  r                                  "
      ]
     },
     "execution_count": 25,
     "metadata": {},
     "output_type": "execute_result"
    }
   ],
   "source": [
    "a_r31"
   ]
  },
  {
   "cell_type": "code",
   "execution_count": 28,
   "metadata": {},
   "outputs": [],
   "source": [
    "P3, P31, U31, a_r31, a_phi31, a_lamb31 = adcs_sym.non_spherical_pot(\n",
    "    3, 1, subs=True, Jnmval=None, lamb_nm_val=None, h_orbit=400e3)"
   ]
  },
  {
   "cell_type": "code",
   "execution_count": 29,
   "metadata": {},
   "outputs": [
    {
     "data": {
      "text/latex": [
       "$\\displaystyle J_{nm} \\left(217.278988665601 \\sin^{2}{\\left(\\phi \\right)} - 43.4557977331203\\right) \\left(\\cos^{2}{\\left(\\phi \\right)}\\right)^{0.5} \\cos{\\left(\\lambda_{nm} - \\lambda \\right)}$"
      ],
      "text/plain": [
       "                                                            0.5               \n",
       "       ⎛                    2                      ⎞    2                     \n",
       "J_{nm}⋅⎝217.278988665601⋅sin (φ) - 43.4557977331203⎠⋅cos (φ)   ⋅cos(\\lambda_{n\n",
       "\n",
       "       \n",
       "       \n",
       "m} - λ)"
      ]
     },
     "execution_count": 29,
     "metadata": {},
     "output_type": "execute_result"
    }
   ],
   "source": [
    "a_r31"
   ]
  }
 ],
 "metadata": {
  "interpreter": {
   "hash": "7bdadbcc745afc9ac1e1714124e1bb5770ee7d86d26de672bb194e9104174d2a"
  },
  "kernelspec": {
   "display_name": "Python 3.8.3 64-bit ('base': conda)",
   "language": "python",
   "name": "python3"
  },
  "language_info": {
   "codemirror_mode": {
    "name": "ipython",
    "version": 3
   },
   "file_extension": ".py",
   "mimetype": "text/x-python",
   "name": "python",
   "nbconvert_exporter": "python",
   "pygments_lexer": "ipython3",
   "version": "3.8.3"
  },
  "orig_nbformat": 4
 },
 "nbformat": 4,
 "nbformat_minor": 2
}
