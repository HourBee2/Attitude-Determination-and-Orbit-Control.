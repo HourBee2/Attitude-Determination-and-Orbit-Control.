{
 "cells": [
  {
   "cell_type": "code",
   "execution_count": 2,
   "metadata": {},
   "outputs": [],
   "source": [
    "#%% Import libraries\n",
    "import numpy as np\n",
    "from sympy import *\n",
    "from sympy.physics.vector import dynamicsymbols, init_vprinting\n",
    "import matplotlib.pyplot as plt\n",
    "# from sympy.physics.mechanics import ReferenceFrame\n",
    "from IPython.display import display, Latex, Math\n",
    "init_vprinting(use_latex='mathjax')\n",
    "\n",
    "from sys import path\n",
    "path.append(\n",
    "    \"c:\\\\Users\\\\diego\\\\Dropbox\\\\Academic\\\\MEng Space Systems\\\\3. DOCA\\\\ADCS functions\")\n",
    "import ADCS_Functions as adcs\n",
    "import ADCS_Functions_sym as adcs_sym"
   ]
  },
  {
   "cell_type": "markdown",
   "metadata": {},
   "source": [
    "____________________"
   ]
  },
  {
   "cell_type": "code",
   "execution_count": 3,
   "metadata": {},
   "outputs": [
    {
     "data": {
      "text/latex": [
       "$\\displaystyle \\left[\\begin{matrix}Ixx & Ixy & Ixz\\\\Ixy & Iyy & Iyz\\\\Ixz & Iyz & Izz\\end{matrix}\\right]$"
      ],
      "text/plain": [
       "⎡Ixx  Ixy  Ixz⎤\n",
       "⎢             ⎥\n",
       "⎢Ixy  Iyy  Iyz⎥\n",
       "⎢             ⎥\n",
       "⎣Ixz  Iyz  Izz⎦"
      ]
     },
     "execution_count": 3,
     "metadata": {},
     "output_type": "execute_result"
    }
   ],
   "source": [
    "Ixx, Ixy, Ixz, Iyy, Iyz, Izz = symbols('Ixx Ixy Ixz Iyy Iyz Izz')\n",
    "\n",
    "I = Matrix([[Ixx, Ixy, Ixz], [Ixy, Iyy, Iyz], [Ixz, Iyz, Izz]])\n",
    "\n",
    "I"
   ]
  },
  {
   "cell_type": "code",
   "execution_count": 4,
   "metadata": {},
   "outputs": [
    {
     "data": {
      "text/latex": [
       "$\\displaystyle \\left[\\begin{matrix}0\\\\w\\\\0\\end{matrix}\\right]$"
      ],
      "text/plain": [
       "⎡0⎤\n",
       "⎢ ⎥\n",
       "⎢w⎥\n",
       "⎢ ⎥\n",
       "⎣0⎦"
      ]
     },
     "execution_count": 4,
     "metadata": {},
     "output_type": "execute_result"
    }
   ],
   "source": [
    "wb = Matrix([0, Symbol('w'), 0])\n",
    "wb"
   ]
  },
  {
   "cell_type": "code",
   "execution_count": 12,
   "metadata": {},
   "outputs": [
    {
     "data": {
      "text/latex": [
       "$\\displaystyle \\left[\\begin{matrix}0 & 0 & w\\\\0 & 0 & 0\\\\- w & 0 & 0\\end{matrix}\\right]$"
      ],
      "text/plain": [
       "⎡0   0  w⎤\n",
       "⎢        ⎥\n",
       "⎢0   0  0⎥\n",
       "⎢        ⎥\n",
       "⎣-w  0  0⎦"
      ]
     },
     "execution_count": 12,
     "metadata": {},
     "output_type": "execute_result"
    }
   ],
   "source": [
    "wbX = adcs_sym.skew_sym().subs(Symbol('a1'), 0).subs(\n",
    "    Symbol('a2'), Symbol('w')).subs(Symbol('a3'), 0)\n",
    "wbX\n"
   ]
  },
  {
   "cell_type": "code",
   "execution_count": 14,
   "metadata": {},
   "outputs": [
    {
     "data": {
      "text/latex": [
       "$\\displaystyle \\left[\\begin{matrix}Iyz w^{2}\\\\0\\\\- Ixy w^{2}\\end{matrix}\\right]$"
      ],
      "text/plain": [
       "⎡     2 ⎤\n",
       "⎢Iyz⋅w  ⎥\n",
       "⎢       ⎥\n",
       "⎢   0   ⎥\n",
       "⎢       ⎥\n",
       "⎢      2⎥\n",
       "⎣-Ixy⋅w ⎦"
      ]
     },
     "execution_count": 14,
     "metadata": {},
     "output_type": "execute_result"
    }
   ],
   "source": [
    "simplify(wbX*I*wb)"
   ]
  }
 ],
 "metadata": {
  "interpreter": {
   "hash": "7bdadbcc745afc9ac1e1714124e1bb5770ee7d86d26de672bb194e9104174d2a"
  },
  "kernelspec": {
   "display_name": "Python 3.8.3 64-bit ('base': conda)",
   "language": "python",
   "name": "python3"
  },
  "language_info": {
   "codemirror_mode": {
    "name": "ipython",
    "version": 3
   },
   "file_extension": ".py",
   "mimetype": "text/x-python",
   "name": "python",
   "nbconvert_exporter": "python",
   "pygments_lexer": "ipython3",
   "version": "3.8.3"
  },
  "orig_nbformat": 4
 },
 "nbformat": 4,
 "nbformat_minor": 2
}
